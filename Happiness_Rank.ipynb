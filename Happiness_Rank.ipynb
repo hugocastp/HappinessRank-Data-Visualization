{
  "nbformat": 4,
  "nbformat_minor": 0,
  "metadata": {
    "colab": {
      "name": "Happiness_Rank_Data_Visualization.ipynb",
      "provenance": [],
      "collapsed_sections": [],
      "include_colab_link": true
    },
    "kernelspec": {
      "name": "python3",
      "display_name": "Python 3"
    }
  },
  "cells": [
    {
      "cell_type": "markdown",
      "metadata": {
        "id": "view-in-github",
        "colab_type": "text"
      },
      "source": [
        "<a href=\"https://colab.research.google.com/github/ungeimer/Happiness-Rank-Data-Visualization/blob/main/Happiness_Rank.ipynb\" target=\"_parent\"><img src=\"https://colab.research.google.com/assets/colab-badge.svg\" alt=\"Open In Colab\"/></a>"
      ]
    },
    {
      "cell_type": "code",
      "metadata": {
        "id": "Fy1lFMegRwAY",
        "colab": {
          "base_uri": "https://localhost:8080/"
        },
        "outputId": "bb2f1046-a2a6-4f70-95e9-d9d985b21307"
      },
      "source": [
        "pip install pycountry"
      ],
      "execution_count": 1,
      "outputs": [
        {
          "output_type": "stream",
          "text": [
            "Collecting pycountry\n",
            "\u001b[?25l  Downloading https://files.pythonhosted.org/packages/76/73/6f1a412f14f68c273feea29a6ea9b9f1e268177d32e0e69ad6790d306312/pycountry-20.7.3.tar.gz (10.1MB)\n",
            "\u001b[K     |████████████████████████████████| 10.1MB 11.2MB/s \n",
            "\u001b[?25hBuilding wheels for collected packages: pycountry\n",
            "  Building wheel for pycountry (setup.py) ... \u001b[?25l\u001b[?25hdone\n",
            "  Created wheel for pycountry: filename=pycountry-20.7.3-py2.py3-none-any.whl size=10746863 sha256=c9bb9aebeeb716380034299013b63d2179090e556b46958aa38c91eaf3947332\n",
            "  Stored in directory: /root/.cache/pip/wheels/33/4e/a6/be297e6b83567e537bed9df4a93f8590ec01c1acfbcd405348\n",
            "Successfully built pycountry\n",
            "Installing collected packages: pycountry\n",
            "Successfully installed pycountry-20.7.3\n"
          ],
          "name": "stdout"
        }
      ]
    },
    {
      "cell_type": "code",
      "metadata": {
        "id": "v3VLI1Ypeocw"
      },
      "source": [
        "import pandas as pd\n",
        "import plotly.express as px\n",
        "import matplotlib.pyplot as plt\n",
        "import numpy as np\n",
        "import pycountry\n",
        "\n",
        "df_15 = pd.read_csv('Data/2015.csv')\n",
        "df_15['Year']=np.ones(df_15.shape[0])*2015\n",
        "df_16 = pd.read_csv('Data/2016.csv')\n",
        "df_16['Year']=np.ones(df_16.shape[0])*2016\n",
        "df_17 = pd.read_csv('Data/2017.csv')\n",
        "df_17['Year']=np.ones(df_17.shape[0])*2017\n",
        "df_17=df_17.rename(columns={'Happiness.Rank':'Happiness Rank','Happiness.Score':'Happiness Score',\n",
        "                           'Economy..GDP.per.Capita.':'Economy (GDP per Capita)',\n",
        "                           'Health..Life.Expectancy.':'Health (Life Expectancy)',\n",
        "                           'Trust..Government.Corruption.':'Trust (Government Corruption)',\n",
        "                           'Dystopia.Residual':'Dystopia Residual'})\n",
        "df_18 = pd.read_csv('Data/2018.csv')\n",
        "df_18['Year']=np.ones(df_18.shape[0])*2018\n",
        "df_18=df_18.rename(columns={'Overall rank':'Happiness Rank', 'Country or region':'Country',\n",
        "                            'Score':'Happiness Score', 'GDP per capita':'Economy (GDP per Capita)',\n",
        "                            'Healthy life expectancy':'Health (Life Expectancy)',\n",
        "                            'Freedom to make life choices':'Freedom',\n",
        "                            'Perceptions of corruption':'Trust (Government Corruption)',\n",
        "                            'Social support':'Family'})\n",
        "df_19 = pd.read_csv('Data/2019.csv')\n",
        "df_19['Year']=np.ones(df_19.shape[0])*2019\n",
        "df_19=df_19.rename(columns={'Overall rank':'Happiness Rank', 'Country or region':'Country',\n",
        "                            'Score':'Happiness Score', 'GDP per capita':'Economy (GDP per Capita)',\n",
        "                            'Healthy life expectancy':'Health (Life Expectancy)',\n",
        "                            'Freedom to make life choices':'Freedom',\n",
        "                            'Perceptions of corruption':'Trust (Government Corruption)',\n",
        "                            'Social support':'Family'})\n",
        "\n",
        "df = pd.concat([df_15,df_16,df_17,df_18,df_19],axis=0, ignore_index=True)\n",
        "df.drop(columns=['Standard Error','Lower Confidence Interval','Upper Confidence Interval',\n",
        "                 'Whisker.high','Whisker.low'],inplace=True)\n"
      ],
      "execution_count": null,
      "outputs": []
    },
    {
      "cell_type": "code",
      "metadata": {
        "colab": {
          "base_uri": "https://localhost:8080/",
          "height": 296
        },
        "id": "PwqlqcqkRVW4",
        "outputId": "1028b7bb-a272-4eeb-92da-f15b3577209b"
      },
      "source": [
        "df.head()"
      ],
      "execution_count": null,
      "outputs": [
        {
          "output_type": "execute_result",
          "data": {
            "text/html": [
              "<div>\n",
              "<style scoped>\n",
              "    .dataframe tbody tr th:only-of-type {\n",
              "        vertical-align: middle;\n",
              "    }\n",
              "\n",
              "    .dataframe tbody tr th {\n",
              "        vertical-align: top;\n",
              "    }\n",
              "\n",
              "    .dataframe thead th {\n",
              "        text-align: right;\n",
              "    }\n",
              "</style>\n",
              "<table border=\"1\" class=\"dataframe\">\n",
              "  <thead>\n",
              "    <tr style=\"text-align: right;\">\n",
              "      <th></th>\n",
              "      <th>Country</th>\n",
              "      <th>Region</th>\n",
              "      <th>Happiness Rank</th>\n",
              "      <th>Happiness Score</th>\n",
              "      <th>Economy (GDP per Capita)</th>\n",
              "      <th>Family</th>\n",
              "      <th>Health (Life Expectancy)</th>\n",
              "      <th>Freedom</th>\n",
              "      <th>Trust (Government Corruption)</th>\n",
              "      <th>Generosity</th>\n",
              "      <th>Dystopia Residual</th>\n",
              "      <th>Year</th>\n",
              "    </tr>\n",
              "  </thead>\n",
              "  <tbody>\n",
              "    <tr>\n",
              "      <th>0</th>\n",
              "      <td>Switzerland</td>\n",
              "      <td>Western Europe</td>\n",
              "      <td>1</td>\n",
              "      <td>7.587</td>\n",
              "      <td>1.39651</td>\n",
              "      <td>1.34951</td>\n",
              "      <td>0.94143</td>\n",
              "      <td>0.66557</td>\n",
              "      <td>0.41978</td>\n",
              "      <td>0.29678</td>\n",
              "      <td>2.51738</td>\n",
              "      <td>2015.0</td>\n",
              "    </tr>\n",
              "    <tr>\n",
              "      <th>1</th>\n",
              "      <td>Iceland</td>\n",
              "      <td>Western Europe</td>\n",
              "      <td>2</td>\n",
              "      <td>7.561</td>\n",
              "      <td>1.30232</td>\n",
              "      <td>1.40223</td>\n",
              "      <td>0.94784</td>\n",
              "      <td>0.62877</td>\n",
              "      <td>0.14145</td>\n",
              "      <td>0.43630</td>\n",
              "      <td>2.70201</td>\n",
              "      <td>2015.0</td>\n",
              "    </tr>\n",
              "    <tr>\n",
              "      <th>2</th>\n",
              "      <td>Denmark</td>\n",
              "      <td>Western Europe</td>\n",
              "      <td>3</td>\n",
              "      <td>7.527</td>\n",
              "      <td>1.32548</td>\n",
              "      <td>1.36058</td>\n",
              "      <td>0.87464</td>\n",
              "      <td>0.64938</td>\n",
              "      <td>0.48357</td>\n",
              "      <td>0.34139</td>\n",
              "      <td>2.49204</td>\n",
              "      <td>2015.0</td>\n",
              "    </tr>\n",
              "    <tr>\n",
              "      <th>3</th>\n",
              "      <td>Norway</td>\n",
              "      <td>Western Europe</td>\n",
              "      <td>4</td>\n",
              "      <td>7.522</td>\n",
              "      <td>1.45900</td>\n",
              "      <td>1.33095</td>\n",
              "      <td>0.88521</td>\n",
              "      <td>0.66973</td>\n",
              "      <td>0.36503</td>\n",
              "      <td>0.34699</td>\n",
              "      <td>2.46531</td>\n",
              "      <td>2015.0</td>\n",
              "    </tr>\n",
              "    <tr>\n",
              "      <th>4</th>\n",
              "      <td>Canada</td>\n",
              "      <td>North America</td>\n",
              "      <td>5</td>\n",
              "      <td>7.427</td>\n",
              "      <td>1.32629</td>\n",
              "      <td>1.32261</td>\n",
              "      <td>0.90563</td>\n",
              "      <td>0.63297</td>\n",
              "      <td>0.32957</td>\n",
              "      <td>0.45811</td>\n",
              "      <td>2.45176</td>\n",
              "      <td>2015.0</td>\n",
              "    </tr>\n",
              "  </tbody>\n",
              "</table>\n",
              "</div>"
            ],
            "text/plain": [
              "       Country          Region  ...  Dystopia Residual    Year\n",
              "0  Switzerland  Western Europe  ...            2.51738  2015.0\n",
              "1      Iceland  Western Europe  ...            2.70201  2015.0\n",
              "2      Denmark  Western Europe  ...            2.49204  2015.0\n",
              "3       Norway  Western Europe  ...            2.46531  2015.0\n",
              "4       Canada   North America  ...            2.45176  2015.0\n",
              "\n",
              "[5 rows x 12 columns]"
            ]
          },
          "metadata": {
            "tags": []
          },
          "execution_count": 5
        }
      ]
    },
    {
      "cell_type": "markdown",
      "metadata": {
        "id": "hpPvCymwEhxn"
      },
      "source": [
        "Agregamos el codigo de país"
      ]
    },
    {
      "cell_type": "code",
      "metadata": {
        "id": "UBZI5yKYQRFR"
      },
      "source": [
        "def do_fuzzy_search(country):\n",
        "    try:\n",
        "        result = pycountry.countries.search_fuzzy(country)\n",
        "    except Exception:\n",
        "        return \" \"\n",
        "    else:\n",
        "        return result[0].alpha_3\n",
        "\n",
        "iso_map = {country: do_fuzzy_search(country) for country in df[\"Country\"].unique()}\n",
        "df[\"country_code\"] = df[\"Country\"].map(iso_map)\n"
      ],
      "execution_count": null,
      "outputs": []
    },
    {
      "cell_type": "code",
      "metadata": {
        "colab": {
          "base_uri": "https://localhost:8080/",
          "height": 313
        },
        "id": "1KYQ5BHSRbt_",
        "outputId": "411581db-f447-4ffc-f66e-7da30af57f58"
      },
      "source": [
        "df.head()"
      ],
      "execution_count": null,
      "outputs": [
        {
          "output_type": "execute_result",
          "data": {
            "text/html": [
              "<div>\n",
              "<style scoped>\n",
              "    .dataframe tbody tr th:only-of-type {\n",
              "        vertical-align: middle;\n",
              "    }\n",
              "\n",
              "    .dataframe tbody tr th {\n",
              "        vertical-align: top;\n",
              "    }\n",
              "\n",
              "    .dataframe thead th {\n",
              "        text-align: right;\n",
              "    }\n",
              "</style>\n",
              "<table border=\"1\" class=\"dataframe\">\n",
              "  <thead>\n",
              "    <tr style=\"text-align: right;\">\n",
              "      <th></th>\n",
              "      <th>Country</th>\n",
              "      <th>Region</th>\n",
              "      <th>Happiness Rank</th>\n",
              "      <th>Happiness Score</th>\n",
              "      <th>Economy (GDP per Capita)</th>\n",
              "      <th>Family</th>\n",
              "      <th>Health (Life Expectancy)</th>\n",
              "      <th>Freedom</th>\n",
              "      <th>Trust (Government Corruption)</th>\n",
              "      <th>Generosity</th>\n",
              "      <th>Dystopia Residual</th>\n",
              "      <th>Year</th>\n",
              "      <th>country_code</th>\n",
              "    </tr>\n",
              "  </thead>\n",
              "  <tbody>\n",
              "    <tr>\n",
              "      <th>0</th>\n",
              "      <td>Switzerland</td>\n",
              "      <td>Western Europe</td>\n",
              "      <td>1</td>\n",
              "      <td>7.587</td>\n",
              "      <td>1.39651</td>\n",
              "      <td>1.34951</td>\n",
              "      <td>0.94143</td>\n",
              "      <td>0.66557</td>\n",
              "      <td>0.41978</td>\n",
              "      <td>0.29678</td>\n",
              "      <td>2.51738</td>\n",
              "      <td>2015.0</td>\n",
              "      <td>CHE</td>\n",
              "    </tr>\n",
              "    <tr>\n",
              "      <th>1</th>\n",
              "      <td>Iceland</td>\n",
              "      <td>Western Europe</td>\n",
              "      <td>2</td>\n",
              "      <td>7.561</td>\n",
              "      <td>1.30232</td>\n",
              "      <td>1.40223</td>\n",
              "      <td>0.94784</td>\n",
              "      <td>0.62877</td>\n",
              "      <td>0.14145</td>\n",
              "      <td>0.43630</td>\n",
              "      <td>2.70201</td>\n",
              "      <td>2015.0</td>\n",
              "      <td>ISL</td>\n",
              "    </tr>\n",
              "    <tr>\n",
              "      <th>2</th>\n",
              "      <td>Denmark</td>\n",
              "      <td>Western Europe</td>\n",
              "      <td>3</td>\n",
              "      <td>7.527</td>\n",
              "      <td>1.32548</td>\n",
              "      <td>1.36058</td>\n",
              "      <td>0.87464</td>\n",
              "      <td>0.64938</td>\n",
              "      <td>0.48357</td>\n",
              "      <td>0.34139</td>\n",
              "      <td>2.49204</td>\n",
              "      <td>2015.0</td>\n",
              "      <td>DNK</td>\n",
              "    </tr>\n",
              "    <tr>\n",
              "      <th>3</th>\n",
              "      <td>Norway</td>\n",
              "      <td>Western Europe</td>\n",
              "      <td>4</td>\n",
              "      <td>7.522</td>\n",
              "      <td>1.45900</td>\n",
              "      <td>1.33095</td>\n",
              "      <td>0.88521</td>\n",
              "      <td>0.66973</td>\n",
              "      <td>0.36503</td>\n",
              "      <td>0.34699</td>\n",
              "      <td>2.46531</td>\n",
              "      <td>2015.0</td>\n",
              "      <td>NOR</td>\n",
              "    </tr>\n",
              "    <tr>\n",
              "      <th>4</th>\n",
              "      <td>Canada</td>\n",
              "      <td>North America</td>\n",
              "      <td>5</td>\n",
              "      <td>7.427</td>\n",
              "      <td>1.32629</td>\n",
              "      <td>1.32261</td>\n",
              "      <td>0.90563</td>\n",
              "      <td>0.63297</td>\n",
              "      <td>0.32957</td>\n",
              "      <td>0.45811</td>\n",
              "      <td>2.45176</td>\n",
              "      <td>2015.0</td>\n",
              "      <td>CAN</td>\n",
              "    </tr>\n",
              "  </tbody>\n",
              "</table>\n",
              "</div>"
            ],
            "text/plain": [
              "       Country          Region  ...    Year  country_code\n",
              "0  Switzerland  Western Europe  ...  2015.0           CHE\n",
              "1      Iceland  Western Europe  ...  2015.0           ISL\n",
              "2      Denmark  Western Europe  ...  2015.0           DNK\n",
              "3       Norway  Western Europe  ...  2015.0           NOR\n",
              "4       Canada   North America  ...  2015.0           CAN\n",
              "\n",
              "[5 rows x 13 columns]"
            ]
          },
          "metadata": {
            "tags": []
          },
          "execution_count": 9
        }
      ]
    },
    {
      "cell_type": "markdown",
      "metadata": {
        "id": "-UkGVOdXE0kQ"
      },
      "source": [
        "Filtramos el numero de datos por año para graficar Chart Race\n",
        "\n",
        "---\n",
        "\n"
      ]
    },
    {
      "cell_type": "code",
      "metadata": {
        "id": "tzTATk6CUlJt",
        "colab": {
          "base_uri": "https://localhost:8080/"
        },
        "outputId": "c0495fec-ebc7-4966-dc79-94c52882212f"
      },
      "source": [
        "df15 = df.loc[df['Year'] == 2015.0]\n",
        "df15 = df15.iloc[:25]\n",
        "\n",
        "df16 = df.loc[df['Year'] == 2016.0]\n",
        "df16 = df16.iloc[:25]\n",
        "\n",
        "df17 = df.loc[df['Year'] == 2017.0]\n",
        "df17 = df17.iloc[:25]\n",
        "\n",
        "df18 = df.loc[df['Year'] == 2018.0]\n",
        "df18 = df18.iloc[:25]\n",
        "\n",
        "df19 = df.loc[df['Year'] == 2019.0]\n",
        "df19 = df19.iloc[:25]\n",
        "#dataframe para chart race\n",
        "df_graphic_race = pd.concat([df15,df16,df17,df18,df19],axis=0, ignore_index=True)\n",
        "print(df_graphic_race)\n"
      ],
      "execution_count": null,
      "outputs": [
        {
          "output_type": "stream",
          "text": [
            "                  Country          Region  ...    Year  country_code\n",
            "0             Switzerland  Western Europe  ...  2015.0            CH\n",
            "1                 Iceland  Western Europe  ...  2015.0            IS\n",
            "2                 Denmark  Western Europe  ...  2015.0            DK\n",
            "3                  Norway  Western Europe  ...  2015.0            NO\n",
            "4                  Canada   North America  ...  2015.0            CA\n",
            "..                    ...             ...  ...     ...           ...\n",
            "120  United Arab Emirates             NaN  ...  2019.0            AE\n",
            "121                 Malta             NaN  ...  2019.0            MT\n",
            "122                Mexico             NaN  ...  2019.0            MX\n",
            "123                France             NaN  ...  2019.0            FR\n",
            "124                Taiwan             NaN  ...  2019.0            TW\n",
            "\n",
            "[125 rows x 13 columns]\n"
          ],
          "name": "stdout"
        }
      ]
    },
    {
      "cell_type": "markdown",
      "metadata": {
        "id": "nNbvWYpUHmpF"
      },
      "source": [
        "**DATOS CHART** **RACE**"
      ]
    },
    {
      "cell_type": "code",
      "metadata": {
        "colab": {
          "base_uri": "https://localhost:8080/",
          "height": 195
        },
        "id": "qxmjqpob1aZo",
        "outputId": "d854ae19-414c-41c7-b129-d16f4646a1c2"
      },
      "source": [
        "df_graphic_race = df_graphic_race.loc[:, ['Country', 'Happiness Score','Year']]\n",
        "cols = ['Year']\n",
        "df_graphic_race[cols] = df_graphic_race[cols].applymap(np.int64) #Convertir Year a int\n",
        "\n",
        "df_graphic_race.head()"
      ],
      "execution_count": null,
      "outputs": [
        {
          "output_type": "execute_result",
          "data": {
            "text/html": [
              "<div>\n",
              "<style scoped>\n",
              "    .dataframe tbody tr th:only-of-type {\n",
              "        vertical-align: middle;\n",
              "    }\n",
              "\n",
              "    .dataframe tbody tr th {\n",
              "        vertical-align: top;\n",
              "    }\n",
              "\n",
              "    .dataframe thead th {\n",
              "        text-align: right;\n",
              "    }\n",
              "</style>\n",
              "<table border=\"1\" class=\"dataframe\">\n",
              "  <thead>\n",
              "    <tr style=\"text-align: right;\">\n",
              "      <th></th>\n",
              "      <th>Country</th>\n",
              "      <th>Happiness Score</th>\n",
              "      <th>Year</th>\n",
              "    </tr>\n",
              "  </thead>\n",
              "  <tbody>\n",
              "    <tr>\n",
              "      <th>0</th>\n",
              "      <td>Switzerland</td>\n",
              "      <td>7.587</td>\n",
              "      <td>2015</td>\n",
              "    </tr>\n",
              "    <tr>\n",
              "      <th>1</th>\n",
              "      <td>Iceland</td>\n",
              "      <td>7.561</td>\n",
              "      <td>2015</td>\n",
              "    </tr>\n",
              "    <tr>\n",
              "      <th>2</th>\n",
              "      <td>Denmark</td>\n",
              "      <td>7.527</td>\n",
              "      <td>2015</td>\n",
              "    </tr>\n",
              "    <tr>\n",
              "      <th>3</th>\n",
              "      <td>Norway</td>\n",
              "      <td>7.522</td>\n",
              "      <td>2015</td>\n",
              "    </tr>\n",
              "    <tr>\n",
              "      <th>4</th>\n",
              "      <td>Canada</td>\n",
              "      <td>7.427</td>\n",
              "      <td>2015</td>\n",
              "    </tr>\n",
              "  </tbody>\n",
              "</table>\n",
              "</div>"
            ],
            "text/plain": [
              "       Country  Happiness Score  Year\n",
              "0  Switzerland            7.587  2015\n",
              "1      Iceland            7.561  2015\n",
              "2      Denmark            7.527  2015\n",
              "3       Norway            7.522  2015\n",
              "4       Canada            7.427  2015"
            ]
          },
          "metadata": {
            "tags": []
          },
          "execution_count": 573
        }
      ]
    },
    {
      "cell_type": "code",
      "metadata": {
        "colab": {
          "base_uri": "https://localhost:8080/",
          "height": 195
        },
        "id": "BLLD1A0SLgAw",
        "outputId": "1cf86419-3be0-4144-fa0f-c0624e891570"
      },
      "source": [
        "df_graphic_race =df_graphic_race.rename(columns={'Happiness Score':'MAU'})\n",
        "df_graphic_race.head()"
      ],
      "execution_count": null,
      "outputs": [
        {
          "output_type": "execute_result",
          "data": {
            "text/html": [
              "<div>\n",
              "<style scoped>\n",
              "    .dataframe tbody tr th:only-of-type {\n",
              "        vertical-align: middle;\n",
              "    }\n",
              "\n",
              "    .dataframe tbody tr th {\n",
              "        vertical-align: top;\n",
              "    }\n",
              "\n",
              "    .dataframe thead th {\n",
              "        text-align: right;\n",
              "    }\n",
              "</style>\n",
              "<table border=\"1\" class=\"dataframe\">\n",
              "  <thead>\n",
              "    <tr style=\"text-align: right;\">\n",
              "      <th></th>\n",
              "      <th>Country</th>\n",
              "      <th>MAU</th>\n",
              "      <th>Year</th>\n",
              "    </tr>\n",
              "  </thead>\n",
              "  <tbody>\n",
              "    <tr>\n",
              "      <th>0</th>\n",
              "      <td>Switzerland</td>\n",
              "      <td>7.587</td>\n",
              "      <td>2015</td>\n",
              "    </tr>\n",
              "    <tr>\n",
              "      <th>1</th>\n",
              "      <td>Iceland</td>\n",
              "      <td>7.561</td>\n",
              "      <td>2015</td>\n",
              "    </tr>\n",
              "    <tr>\n",
              "      <th>2</th>\n",
              "      <td>Denmark</td>\n",
              "      <td>7.527</td>\n",
              "      <td>2015</td>\n",
              "    </tr>\n",
              "    <tr>\n",
              "      <th>3</th>\n",
              "      <td>Norway</td>\n",
              "      <td>7.522</td>\n",
              "      <td>2015</td>\n",
              "    </tr>\n",
              "    <tr>\n",
              "      <th>4</th>\n",
              "      <td>Canada</td>\n",
              "      <td>7.427</td>\n",
              "      <td>2015</td>\n",
              "    </tr>\n",
              "  </tbody>\n",
              "</table>\n",
              "</div>"
            ],
            "text/plain": [
              "       Country    MAU  Year\n",
              "0  Switzerland  7.587  2015\n",
              "1      Iceland  7.561  2015\n",
              "2      Denmark  7.527  2015\n",
              "3       Norway  7.522  2015\n",
              "4       Canada  7.427  2015"
            ]
          },
          "metadata": {
            "tags": []
          },
          "execution_count": 474
        }
      ]
    },
    {
      "cell_type": "markdown",
      "metadata": {
        "id": "25ELg298n4Kr"
      },
      "source": [
        "DATOS COLUMN GRAPH"
      ]
    },
    {
      "cell_type": "code",
      "metadata": {
        "id": "lP9vvlGpejkT"
      },
      "source": [
        "dftop15 = df.loc[df['Year'] == 2015.0]\n",
        "dftop15 = dftop15[dftop15['Happiness Rank']<=10]\n",
        "dftop15 = dftop15.sort_values(by = ['Happiness Rank'])\n",
        "\n",
        "dftop16 = df.loc[df['Year'] == 2016.0]\n",
        "dftop16 = dftop16[dftop16['Happiness Rank']<=10]\n",
        "dftop16 = dftop16.sort_values(by = ['Happiness Rank'])\n",
        "\n",
        "dftop17 = df.loc[df['Year'] == 2017.0]\n",
        "dftop17 = dftop17[dftop17['Happiness Rank']<=10]\n",
        "dftop17 = dftop17.sort_values(by = ['Happiness Rank'])\n",
        "\n",
        "dftop18 = df.loc[df['Year'] == 2018.0]\n",
        "dftop18 = dftop18[dftop18['Happiness Rank']<=10]\n",
        "dftop18 = dftop18.sort_values(by = ['Happiness Rank'])\n",
        "\n",
        "dftop19 = df.loc[df['Year'] == 2019.0]\n",
        "dftop19 = dftop19[dftop19['Happiness Rank']<=10]\n",
        "dftop19 = dftop19.sort_values(by = ['Happiness Rank'])\n",
        "\n"
      ],
      "execution_count": null,
      "outputs": []
    },
    {
      "cell_type": "code",
      "metadata": {
        "colab": {
          "base_uri": "https://localhost:8080/",
          "height": 313
        },
        "id": "qlvJLi92nBZT",
        "outputId": "112d4867-68eb-4b8b-b026-a52909d4eebb"
      },
      "source": [
        "dftop16.head()"
      ],
      "execution_count": null,
      "outputs": [
        {
          "output_type": "execute_result",
          "data": {
            "text/html": [
              "<div>\n",
              "<style scoped>\n",
              "    .dataframe tbody tr th:only-of-type {\n",
              "        vertical-align: middle;\n",
              "    }\n",
              "\n",
              "    .dataframe tbody tr th {\n",
              "        vertical-align: top;\n",
              "    }\n",
              "\n",
              "    .dataframe thead th {\n",
              "        text-align: right;\n",
              "    }\n",
              "</style>\n",
              "<table border=\"1\" class=\"dataframe\">\n",
              "  <thead>\n",
              "    <tr style=\"text-align: right;\">\n",
              "      <th></th>\n",
              "      <th>Country</th>\n",
              "      <th>Region</th>\n",
              "      <th>Happiness Rank</th>\n",
              "      <th>Happiness Score</th>\n",
              "      <th>Economy (GDP per Capita)</th>\n",
              "      <th>Family</th>\n",
              "      <th>Health (Life Expectancy)</th>\n",
              "      <th>Freedom</th>\n",
              "      <th>Trust (Government Corruption)</th>\n",
              "      <th>Generosity</th>\n",
              "      <th>Dystopia Residual</th>\n",
              "      <th>Year</th>\n",
              "      <th>country_code</th>\n",
              "    </tr>\n",
              "  </thead>\n",
              "  <tbody>\n",
              "    <tr>\n",
              "      <th>158</th>\n",
              "      <td>Denmark</td>\n",
              "      <td>Western Europe</td>\n",
              "      <td>1</td>\n",
              "      <td>7.526</td>\n",
              "      <td>1.44178</td>\n",
              "      <td>1.16374</td>\n",
              "      <td>0.79504</td>\n",
              "      <td>0.57941</td>\n",
              "      <td>0.44453</td>\n",
              "      <td>0.36171</td>\n",
              "      <td>2.73939</td>\n",
              "      <td>2016.0</td>\n",
              "      <td>DK</td>\n",
              "    </tr>\n",
              "    <tr>\n",
              "      <th>159</th>\n",
              "      <td>Switzerland</td>\n",
              "      <td>Western Europe</td>\n",
              "      <td>2</td>\n",
              "      <td>7.509</td>\n",
              "      <td>1.52733</td>\n",
              "      <td>1.14524</td>\n",
              "      <td>0.86303</td>\n",
              "      <td>0.58557</td>\n",
              "      <td>0.41203</td>\n",
              "      <td>0.28083</td>\n",
              "      <td>2.69463</td>\n",
              "      <td>2016.0</td>\n",
              "      <td>CH</td>\n",
              "    </tr>\n",
              "    <tr>\n",
              "      <th>160</th>\n",
              "      <td>Iceland</td>\n",
              "      <td>Western Europe</td>\n",
              "      <td>3</td>\n",
              "      <td>7.501</td>\n",
              "      <td>1.42666</td>\n",
              "      <td>1.18326</td>\n",
              "      <td>0.86733</td>\n",
              "      <td>0.56624</td>\n",
              "      <td>0.14975</td>\n",
              "      <td>0.47678</td>\n",
              "      <td>2.83137</td>\n",
              "      <td>2016.0</td>\n",
              "      <td>IS</td>\n",
              "    </tr>\n",
              "    <tr>\n",
              "      <th>161</th>\n",
              "      <td>Norway</td>\n",
              "      <td>Western Europe</td>\n",
              "      <td>4</td>\n",
              "      <td>7.498</td>\n",
              "      <td>1.57744</td>\n",
              "      <td>1.12690</td>\n",
              "      <td>0.79579</td>\n",
              "      <td>0.59609</td>\n",
              "      <td>0.35776</td>\n",
              "      <td>0.37895</td>\n",
              "      <td>2.66465</td>\n",
              "      <td>2016.0</td>\n",
              "      <td>NO</td>\n",
              "    </tr>\n",
              "    <tr>\n",
              "      <th>162</th>\n",
              "      <td>Finland</td>\n",
              "      <td>Western Europe</td>\n",
              "      <td>5</td>\n",
              "      <td>7.413</td>\n",
              "      <td>1.40598</td>\n",
              "      <td>1.13464</td>\n",
              "      <td>0.81091</td>\n",
              "      <td>0.57104</td>\n",
              "      <td>0.41004</td>\n",
              "      <td>0.25492</td>\n",
              "      <td>2.82596</td>\n",
              "      <td>2016.0</td>\n",
              "      <td>FI</td>\n",
              "    </tr>\n",
              "  </tbody>\n",
              "</table>\n",
              "</div>"
            ],
            "text/plain": [
              "         Country          Region  ...    Year  country_code\n",
              "158      Denmark  Western Europe  ...  2016.0            DK\n",
              "159  Switzerland  Western Europe  ...  2016.0            CH\n",
              "160      Iceland  Western Europe  ...  2016.0            IS\n",
              "161       Norway  Western Europe  ...  2016.0            NO\n",
              "162      Finland  Western Europe  ...  2016.0            FI\n",
              "\n",
              "[5 rows x 13 columns]"
            ]
          },
          "metadata": {
            "tags": []
          },
          "execution_count": 576
        }
      ]
    },
    {
      "cell_type": "code",
      "metadata": {
        "colab": {
          "base_uri": "https://localhost:8080/",
          "height": 195
        },
        "id": "IsIrZHA0oUrj",
        "outputId": "f10f8667-044d-476a-a3f6-e9b02db7ba81"
      },
      "source": [
        "dftop15 = dftop15.loc[:, ['Country', 'Happiness Score']]\n",
        "dftop16 = dftop16.loc[:, ['Country', 'Happiness Score']]\n",
        "dftop17 = dftop17.loc[:, ['Country', 'Happiness Score']]\n",
        "dftop18 = dftop18.loc[:, ['Country', 'Happiness Score']]\n",
        "dftop19 = dftop19.loc[:, ['Country', 'Happiness Score']]\n",
        "\n",
        "dftop17.head()"
      ],
      "execution_count": null,
      "outputs": [
        {
          "output_type": "execute_result",
          "data": {
            "text/html": [
              "<div>\n",
              "<style scoped>\n",
              "    .dataframe tbody tr th:only-of-type {\n",
              "        vertical-align: middle;\n",
              "    }\n",
              "\n",
              "    .dataframe tbody tr th {\n",
              "        vertical-align: top;\n",
              "    }\n",
              "\n",
              "    .dataframe thead th {\n",
              "        text-align: right;\n",
              "    }\n",
              "</style>\n",
              "<table border=\"1\" class=\"dataframe\">\n",
              "  <thead>\n",
              "    <tr style=\"text-align: right;\">\n",
              "      <th></th>\n",
              "      <th>Country</th>\n",
              "      <th>Happiness Score</th>\n",
              "    </tr>\n",
              "  </thead>\n",
              "  <tbody>\n",
              "    <tr>\n",
              "      <th>315</th>\n",
              "      <td>Norway</td>\n",
              "      <td>7.537</td>\n",
              "    </tr>\n",
              "    <tr>\n",
              "      <th>316</th>\n",
              "      <td>Denmark</td>\n",
              "      <td>7.522</td>\n",
              "    </tr>\n",
              "    <tr>\n",
              "      <th>317</th>\n",
              "      <td>Iceland</td>\n",
              "      <td>7.504</td>\n",
              "    </tr>\n",
              "    <tr>\n",
              "      <th>318</th>\n",
              "      <td>Switzerland</td>\n",
              "      <td>7.494</td>\n",
              "    </tr>\n",
              "    <tr>\n",
              "      <th>319</th>\n",
              "      <td>Finland</td>\n",
              "      <td>7.469</td>\n",
              "    </tr>\n",
              "  </tbody>\n",
              "</table>\n",
              "</div>"
            ],
            "text/plain": [
              "         Country  Happiness Score\n",
              "315       Norway            7.537\n",
              "316      Denmark            7.522\n",
              "317      Iceland            7.504\n",
              "318  Switzerland            7.494\n",
              "319      Finland            7.469"
            ]
          },
          "metadata": {
            "tags": []
          },
          "execution_count": 577
        }
      ]
    },
    {
      "cell_type": "code",
      "metadata": {
        "id": "ogRFOO_MT9ig",
        "colab": {
          "base_uri": "https://localhost:8080/",
          "height": 560
        },
        "outputId": "ed39f74e-4446-4745-f6a9-d8b2c9e44a28"
      },
      "source": [
        "fig = px.choropleth(data_frame=df, locations='Country',locationmode='country names',\n",
        "                    color_continuous_scale='Electric',color='Happiness Score',\n",
        "                    hover_name='Country',\n",
        "                    hover_data=['Happiness Score','Happiness Rank','Economy (GDP per Capita)',\n",
        "                                'Family','Health (Life Expectancy)','Freedom','Trust (Government Corruption)',\n",
        "                               'Generosity','Dystopia Residual'],\n",
        "                   scope='world',animation_frame='Year',projection='natural earth')\n",
        "fig.update_layout(title= 'Happiness Score by Year')\n",
        "fig.show()\n",
        "\n",
        "print('Gray countries are the ones without information in the dataset')\n",
        "#fig.write_html(\"file.html\")"
      ],
      "execution_count": null,
      "outputs": [
        {
          "output_type": "display_data",
          "data": {
            "text/html": [
              "<html>\n",
              "<head><meta charset=\"utf-8\" /></head>\n",
              "<body>\n",
              "    <div>\n",
              "            <script src=\"https://cdnjs.cloudflare.com/ajax/libs/mathjax/2.7.5/MathJax.js?config=TeX-AMS-MML_SVG\"></script><script type=\"text/javascript\">if (window.MathJax) {MathJax.Hub.Config({SVG: {font: \"STIX-Web\"}});}</script>\n",
              "                <script type=\"text/javascript\">window.PlotlyConfig = {MathJaxConfig: 'local'};</script>\n",
              "        <script src=\"https://cdn.plot.ly/plotly-latest.min.js\"></script>    \n",
              "            <div id=\"004e69a4-46e5-4fe7-9282-e6ca0c8f8fcf\" class=\"plotly-graph-div\" style=\"height:525px; width:100%;\"></div>\n",
              "            <script type=\"text/javascript\">\n",
              "                \n",
              "                    window.PLOTLYENV=window.PLOTLYENV || {};\n",
              "                    \n",
              "                if (document.getElementById(\"004e69a4-46e5-4fe7-9282-e6ca0c8f8fcf\")) {\n",
              "                    Plotly.newPlot(\n",
              "                        '004e69a4-46e5-4fe7-9282-e6ca0c8f8fcf',\n",
              "                        [{\"coloraxis\": \"coloraxis\", \"customdata\": [[7.587000000000001, 1.0, 1.3965100000000001, 1.34951, 0.9414299999999999, 0.66557, 0.41978000000000004, 0.29678000000000004, 2.5173799999999997], [7.561, 2.0, 1.3023200000000001, 1.4022299999999999, 0.94784, 0.6287699999999999, 0.14145, 0.4363, 2.70201], [7.527, 3.0, 1.32548, 1.36058, 0.87464, 0.6493800000000001, 0.48357, 0.34139, 2.4920400000000003], [7.522, 4.0, 1.459, 1.33095, 0.88521, 0.66973, 0.36503, 0.34699, 2.4653099999999997], [7.4270000000000005, 5.0, 1.32629, 1.32261, 0.9056299999999999, 0.63297, 0.32957, 0.45811, 2.4517599999999997], [7.406000000000001, 6.0, 1.29025, 1.31826, 0.8891100000000001, 0.64169, 0.41372, 0.23351, 2.61955], [7.377999999999999, 7.0, 1.32944, 1.28017, 0.89284, 0.6157600000000001, 0.31814000000000003, 0.4761, 2.4657], [7.364, 8.0, 1.33171, 1.2890700000000002, 0.9108700000000001, 0.6598, 0.43843999999999994, 0.36262, 2.3711900000000004], [7.2860000000000005, 9.0, 1.2501799999999998, 1.3196700000000001, 0.9083700000000001, 0.6393800000000001, 0.42922, 0.47501000000000004, 2.26425], [7.284, 10.0, 1.33358, 1.30923, 0.93156, 0.6512399999999999, 0.35636999999999996, 0.43562, 2.26646], [7.278, 11.0, 1.2285700000000002, 1.22393, 0.9138700000000001, 0.41318999999999995, 0.07785, 0.33171999999999996, 3.08854], [7.226, 12.0, 0.95578, 1.2378799999999999, 0.8602700000000001, 0.63376, 0.10583, 0.25497, 3.17728], [7.2, 13.0, 1.33723, 1.29704, 0.8904200000000001, 0.62433, 0.18675999999999998, 0.33088, 2.5332], [7.187, 14.0, 1.02054, 0.91451, 0.8144399999999999, 0.48181, 0.21311999999999998, 0.14074, 3.6021400000000003], [7.119, 15.0, 1.3945100000000001, 1.24711, 0.86179, 0.54604, 0.1589, 0.40105, 2.51011], [6.983, 16.0, 0.98124, 1.2328700000000001, 0.69702, 0.49049, 0.17521, 0.14574, 3.26001], [6.946000000000001, 17.0, 1.5639100000000001, 1.21963, 0.91894, 0.61583, 0.37798000000000004, 0.28034000000000003, 1.9696099999999999], [6.94, 18.0, 1.33596, 1.36948, 0.89533, 0.6177699999999999, 0.28703, 0.45901000000000003, 1.9757], [6.937, 19.0, 1.30782, 1.28566, 0.8966700000000001, 0.5845, 0.2254, 0.2225, 2.4148400000000003], [6.901, 20.0, 1.42727, 1.12575, 0.80925, 0.64157, 0.38583, 0.26428, 2.24743], [6.867000000000001, 21.0, 1.26637, 1.28548, 0.90943, 0.59625, 0.32066999999999996, 0.51912, 1.9699400000000002], [6.853, 22.0, 1.36011, 1.08182, 0.76276, 0.63274, 0.32524000000000003, 0.21541999999999997, 2.4748900000000003], [6.81, 23.0, 1.04424, 1.25596, 0.7205199999999999, 0.42908, 0.11069000000000001, 0.058410000000000004, 3.1913099999999996], [6.797999999999999, 24.0, 1.52186, 1.02, 1.02525, 0.54252, 0.4921, 0.31105, 1.8850099999999999], [6.7860000000000005, 25.0, 1.0635299999999999, 1.1985, 0.79661, 0.5421, 0.0927, 0.24434, 2.84848], [6.75, 26.0, 1.32792, 1.2993700000000001, 0.89186, 0.6147699999999999, 0.21843, 0.28214, 2.1156900000000003], [6.67, 27.0, 1.10715, 1.12447, 0.85857, 0.44132, 0.12869, 0.33363000000000004, 2.67585], [6.611000000000001, 28.0, 1.69042, 1.0786, 0.79733, 0.6404, 0.52208, 0.32573, 1.55674], [6.575, 29.0, 1.27778, 1.2603799999999998, 0.9457899999999999, 0.55011, 0.20646, 0.12332, 2.21126], [6.574, 30.0, 1.05351, 1.24823, 0.78723, 0.44974, 0.08484, 0.11450999999999999, 2.8360000000000003], [6.505, 31.0, 1.17898, 1.20643, 0.84483, 0.46363999999999994, 0.02652, 0.10686, 2.67782], [6.485, 32.0, 1.06166, 1.2089, 0.8116, 0.6036199999999999, 0.24558000000000002, 0.2324, 2.3214200000000003], [6.477, 33.0, 0.91861, 1.2401799999999998, 0.69077, 0.53466, 0.0512, 0.18400999999999998, 2.85737], [6.455, 34.0, 0.9669, 1.26504, 0.7385, 0.5566399999999999, 0.031869999999999996, 0.5763, 2.31945], [6.4110000000000005, 35.0, 1.39541, 1.0839299999999998, 0.72025, 0.31048000000000003, 0.32524000000000003, 0.13706, 2.43872], [6.329, 36.0, 1.23011, 1.31379, 0.95562, 0.45951000000000003, 0.06398, 0.18227000000000002, 2.12367], [6.3020000000000005, 37.0, 1.2074, 1.30203, 0.88721, 0.60365, 0.13585999999999998, 0.51752, 1.6488], [6.297999999999999, 38.0, 1.29098, 1.07617, 0.8753, 0.3974, 0.08129, 0.25376, 2.32323], [6.295, 39.0, 1.5542200000000002, 1.16594, 0.72492, 0.55499, 0.25609, 0.16228, 1.8763400000000001], [6.269, 40.0, 0.99534, 0.972, 0.6082, 0.5965699999999999, 0.13633, 0.16990999999999998, 2.79094], [6.167999999999999, 41.0, 1.21183, 1.18354, 0.61483, 0.55884, 0.0114, 0.31844, 2.2688200000000003], [6.13, 42.0, 0.76454, 1.0250700000000001, 0.67737, 0.4035, 0.11775999999999999, 0.10692, 3.035], [6.122999999999999, 43.0, 0.74553, 1.04356, 0.64425, 0.57733, 0.09472, 0.27489, 2.74255], [6.002999999999999, 44.0, 0.63244, 1.34043, 0.59772, 0.6582100000000001, 0.30826, 0.22837, 2.2374099999999997], [5.995, 45.0, 1.1689100000000001, 1.26999, 0.7890199999999999, 0.31751, 0.03431, 0.16893, 2.2463900000000003], [5.987, 46.0, 1.27074, 1.25712, 0.99111, 0.49615, 0.1806, 0.10705, 1.68435], [5.984, 47.0, 1.24461, 0.9577399999999999, 0.9653799999999999, 0.33208000000000004, 0.07857, 0.18557, 2.21978], [5.975, 48.0, 0.8640200000000001, 0.99903, 0.79075, 0.48573999999999995, 0.1809, 0.11540999999999998, 2.5394200000000002], [5.96, 49.0, 1.32376, 1.21624, 0.74716, 0.45492, 0.306, 0.17362, 1.73797], [5.9479999999999995, 50.0, 1.25114, 1.19777, 0.9544600000000001, 0.26236, 0.02901, 0.22823000000000002, 2.0251799999999998], [5.89, 51.0, 0.68133, 0.97841, 0.5392, 0.57414, 0.08800000000000001, 0.20536, 2.82334], [5.888999999999999, 52.0, 0.59448, 1.01528, 0.61826, 0.32818, 0.01615, 0.20951, 3.10712], [5.877999999999999, 53.0, 0.75985, 1.30477, 0.66098, 0.53899, 0.08242000000000001, 0.3424, 2.18896], [5.855, 54.0, 1.1225399999999999, 1.1224100000000001, 0.64368, 0.51649, 0.08454, 0.11827, 2.24729], [5.848, 55.0, 1.18498, 1.27385, 0.8733700000000001, 0.60855, 0.03787, 0.25328, 1.6158299999999999], [5.832999999999999, 56.0, 1.14723, 1.25745, 0.73128, 0.21341999999999997, 0.01031, 0.026410000000000003, 2.4464900000000003], [5.827999999999999, 57.0, 0.59325, 1.14184, 0.7431399999999999, 0.55475, 0.19317, 0.27815, 2.32407], [5.824, 58.0, 0.9001899999999999, 0.97459, 0.73017, 0.41496000000000005, 0.05989, 0.14982, 2.5945], [5.813, 59.0, 1.0319200000000002, 1.23289, 0.7360800000000001, 0.37938, 0.1909, 0.11045999999999999, 2.1309], [5.791, 60.0, 1.12555, 1.27948, 0.77903, 0.53122, 0.04212, 0.16759000000000002, 1.86565], [5.77, 61.0, 1.12486, 1.07023, 0.7239399999999999, 0.5302399999999999, 0.10500999999999999, 0.33075, 1.8854099999999998], [5.7589999999999995, 62.0, 1.08254, 0.79624, 0.78805, 0.25883, 0.0243, 0.054439999999999995, 2.75414], [5.754, 63.0, 1.13145, 1.1186200000000002, 0.7038, 0.41668, 0.11023, 0.18295, 2.0906599999999997], [5.716, 64.0, 1.13764, 1.23617, 0.6692600000000001, 0.36679, 0.03005, 0.00199, 2.27394], [5.709, 65.0, 0.81038, 1.1510200000000002, 0.6874100000000001, 0.50442, 0.02299, 0.2123, 2.32038], [5.695, 66.0, 1.2080600000000001, 1.07008, 0.92356, 0.49027, 0.1428, 0.26169000000000003, 1.5988799999999999], [5.689, 67.0, 1.20813, 0.89318, 0.92356, 0.40671999999999997, 0.06146, 0.30638000000000004, 1.8893099999999998], [5.605, 68.0, 0.93929, 1.07772, 0.61766, 0.28579, 0.17382999999999998, 0.07822, 2.43209], [5.5889999999999995, 69.0, 0.80148, 0.81198, 0.63132, 0.24749000000000002, 0.04741, 0.2831, 2.76579], [5.547999999999999, 70.0, 0.95847, 1.22668, 0.53886, 0.4761, 0.30844, 0.16979, 1.8698400000000002], [5.477, 71.0, 1.0076100000000001, 0.98521, 0.7095, 0.56066, 0.07521, 0.37744, 1.76145], [5.474, 72.0, 1.38604, 1.05818, 1.01328, 0.59608, 0.37124, 0.39478, 0.6542899999999999], [5.428999999999999, 73.0, 1.15174, 1.22791, 0.77361, 0.44888, 0.15184, 0.0868, 1.58782], [5.399, 74.0, 0.8282700000000001, 1.0870799999999998, 0.63793, 0.46611, 0.0, 0.51535, 1.86399], [5.36, 75.0, 0.63216, 0.9122600000000001, 0.7467600000000001, 0.59444, 0.10440999999999999, 0.1686, 2.20173], [5.332000000000001, 76.0, 1.06098, 0.94632, 0.73172, 0.22815, 0.15746, 0.12253, 2.08528], [5.2860000000000005, 77.0, 0.47428000000000003, 1.15115, 0.65088, 0.43477, 0.042319999999999997, 0.3003, 2.2327], [5.268, 78.0, 0.65435, 0.9043200000000001, 0.16007000000000002, 0.34334000000000003, 0.0403, 0.27233, 2.89319], [5.252999999999999, 79.0, 0.77042, 1.10395, 0.57407, 0.5320600000000001, 0.15445, 0.47998, 1.63794], [5.212000000000001, 80.0, 1.02389, 0.9379299999999999, 0.64045, 0.3703, 0.16065, 0.07799, 2.00073], [5.194, 81.0, 0.59543, 0.41411000000000003, 0.51466, 0.12102, 0.10464000000000001, 0.33671, 3.1070900000000004], [5.192, 82.0, 0.9019799999999999, 1.05392, 0.69639, 0.40660999999999997, 0.14293, 0.11052999999999999, 1.8799599999999999], [5.192, 82.0, 0.9743799999999999, 0.9055700000000001, 0.72521, 0.1826, 0.14296, 0.1614, 2.10017], [5.14, 84.0, 0.89012, 0.94675, 0.81658, 0.5169699999999999, 0.02781, 0.08185, 1.8604], [5.129, 85.0, 0.47038, 0.91612, 0.29924, 0.48827, 0.12468, 0.19591, 2.6343], [5.124, 86.0, 1.04345, 0.8858799999999999, 0.7689, 0.35068, 0.006490000000000001, 0.13748, 1.9312900000000002], [5.122999999999999, 87.0, 0.92053, 1.0096399999999999, 0.74836, 0.20107, 0.02617, 0.19230999999999998, 2.025], [5.102, 88.0, 1.15991, 1.13935, 0.8751899999999999, 0.51469, 0.01078, 0.13719, 1.26462], [5.098, 89.0, 1.11312, 1.09562, 0.72437, 0.29671, 0.06332, 0.18225999999999998, 1.62215], [5.073, 90.0, 0.70532, 1.03516, 0.58114, 0.62545, 0.12279000000000001, 0.24991, 1.7536], [5.0569999999999995, 91.0, 0.18847, 0.95152, 0.43873, 0.46581999999999996, 0.39928, 0.5031800000000001, 2.11032], [5.013, 92.0, 0.7347899999999999, 0.64095, 0.60954, 0.41691000000000006, 0.08546000000000001, 0.07172, 2.4537299999999997], [5.007, 93.0, 0.91851, 1.00232, 0.73545, 0.33457, 0.053270000000000005, 0.22359, 1.7393299999999998], [4.971, 94.0, 0.08308, 1.02626, 0.09131, 0.34037, 0.15603, 0.22269, 3.05137], [4.959, 95.0, 0.8786700000000001, 0.8043399999999999, 0.81325, 0.35733000000000004, 0.06412999999999999, 0.14272, 1.89894], [4.949, 96.0, 0.8322299999999999, 0.9191600000000001, 0.79081, 0.09245, 0.00227, 0.24808000000000002, 2.06367], [4.898, 97.0, 0.37545, 1.04103, 0.07612000000000001, 0.31767, 0.12504, 0.16388, 2.79832], [4.885, 98.0, 0.8953700000000001, 1.17202, 0.66825, 0.57672, 0.14234000000000002, 0.21684, 1.21305], [4.876, 99.0, 0.5906600000000001, 0.73803, 0.54909, 0.59591, 0.24249, 0.42191999999999996, 1.7379900000000001], [4.874, 100.0, 0.82819, 1.3006, 0.60268, 0.43626000000000004, 0.026660000000000003, 0.3323, 1.34759], [4.867, 101.0, 0.71206, 1.07284, 0.07566, 0.30658, 0.0306, 0.18259, 2.48676], [4.857, 102.0, 1.15406, 0.9293299999999999, 0.88213, 0.07699, 0.013969999999999998, 0.0, 1.8010099999999998], [4.8389999999999995, 103.0, 1.0256399999999999, 0.80001, 0.83947, 0.33916, 0.04582, 0.21854, 1.57059], [4.8, 104.0, 1.12094, 1.20215, 0.75905, 0.32111999999999996, 0.02758, 0.128, 1.24074], [4.788, 105.0, 0.59532, 0.9534799999999999, 0.6951, 0.40148, 0.06825, 0.23026999999999997, 1.84408], [4.7860000000000005, 106.0, 0.39047, 0.8556299999999999, 0.5737899999999999, 0.47216, 0.15072, 0.22974, 2.1139900000000003], [4.739, 107.0, 0.88113, 0.60429, 0.73793, 0.26268, 0.06358, 0.06431, 2.12466], [4.715, 108.0, 0.59867, 0.92558, 0.66015, 0.24499, 0.12905, 0.11250999999999999, 2.0438400000000003], [4.694, 109.0, 0.39753, 0.43106000000000005, 0.60164, 0.4082, 0.12569, 0.21222, 2.51767], [4.686, 110.0, 1.0088, 0.54447, 0.69805, 0.30033000000000004, 0.058629999999999995, 0.38086, 1.6944], [4.681, 111.0, 0.79907, 1.20278, 0.6739, 0.25123, 0.02961, 0.15275, 1.5714], [4.677, 112.0, 0.98549, 0.81889, 0.60237, 0.0, 0.13788, 0.17922000000000002, 1.95335], [4.6419999999999995, 113.0, 0.9204899999999999, 1.18468, 0.27688, 0.33207, 0.08884, 0.11972999999999999, 1.7195599999999998], [4.633, 114.0, 0.5455800000000001, 0.6795399999999999, 0.40131999999999995, 0.42341999999999996, 0.04355, 0.23087, 2.30919], [4.61, 115.0, 0.271, 1.0327600000000001, 0.33475, 0.25861, 0.08079, 0.18987, 2.44191], [4.571000000000001, 116.0, 0.0712, 0.78968, 0.34201, 0.28531, 0.06232000000000001, 0.24361999999999998, 2.7772900000000003], [4.565, 117.0, 0.64499, 0.38174, 0.5152899999999999, 0.39786, 0.08492000000000001, 0.26475, 2.27513], [4.55, 118.0, 0.52107, 1.01404, 0.36878, 0.10081, 0.1466, 0.19062, 2.20857], [4.518, 119.0, 0.26673, 0.74302, 0.38847, 0.24425, 0.17175, 0.46187, 2.24173], [4.5169999999999995, 120.0, 0.0, 1.0012, 0.09806000000000001, 0.22605, 0.07625, 0.24834, 2.86712], [4.513999999999999, 121.0, 0.35996999999999996, 0.86449, 0.5687399999999999, 0.38282, 0.059070000000000004, 0.32295999999999997, 1.9563700000000002], [4.512, 122.0, 0.19072999999999998, 0.60406, 0.44055, 0.4345, 0.15048, 0.24325, 2.44876], [4.507, 123.0, 0.33024000000000003, 0.9557100000000001, 0.0, 0.4084, 0.08786000000000001, 0.21488000000000002, 2.51009], [4.436, 124.0, 0.45407, 0.86908, 0.35874, 0.24231999999999998, 0.17461, 0.21899999999999997, 2.11773], [4.419, 125.0, 0.36471, 0.99876, 0.41435, 0.42215, 0.05839, 0.37542, 1.78555], [4.369, 126.0, 0.44025, 0.59207, 0.36291, 0.46074, 0.28105, 0.18093, 2.05125], [4.35, 127.0, 0.7682100000000001, 0.7771100000000001, 0.7299, 0.19847, 0.039, 0.07855, 1.75873], [4.332, 128.0, 0.99355, 1.10464, 0.047760000000000004, 0.49495, 0.12474, 0.10461, 1.46181], [4.3069999999999995, 129.0, 0.27108000000000004, 0.70905, 0.48246000000000006, 0.44017, 0.19034, 0.79588, 1.41805], [4.297, 130.0, 0.7419, 0.38561999999999996, 0.72926, 0.40576999999999996, 0.38331, 0.055470000000000005, 1.59541], [4.292, 131.0, 0.016040000000000002, 0.41134, 0.22562, 0.43054, 0.06977, 0.33128, 2.8079099999999997], [4.271, 132.0, 0.83524, 1.01905, 0.70806, 0.5372600000000001, 0.09179, 0.40828000000000003, 0.67108], [4.252, 133.0, 0.4225, 0.8876700000000001, 0.23401999999999998, 0.49309, 0.05786, 0.20618000000000003, 1.95071], [4.218, 134.0, 1.01216, 1.10614, 0.76649, 0.30587, 0.00872, 0.11921, 0.89991], [4.194, 135.0, 0.8818, 0.747, 0.61712, 0.17288, 0.06324, 0.11291, 1.59927], [4.077, 136.0, 0.5464899999999999, 0.68093, 0.40064, 0.35570999999999997, 0.07854, 0.09131, 1.92313], [4.033, 137.0, 0.75778, 0.8604, 0.16683, 0.10384000000000002, 0.07122, 0.12344000000000001, 1.9493900000000002], [3.995, 138.0, 0.26074, 1.03526, 0.20583, 0.38856999999999997, 0.12352, 0.18798, 1.79293], [3.989, 139.0, 0.67866, 0.6629, 0.31051, 0.41466000000000003, 0.11685999999999999, 0.12387999999999999, 1.68135], [3.9560000000000004, 140.0, 0.23906, 0.79273, 0.36315, 0.22916999999999998, 0.19899999999999998, 0.17440999999999998, 1.95812], [3.931, 141.0, 0.21101999999999999, 1.13299, 0.33860999999999997, 0.45726999999999995, 0.07267, 0.29066, 1.42766], [3.904, 142.0, 0.36498, 0.97619, 0.4354, 0.36772, 0.10712999999999999, 0.20843000000000003, 1.44395], [3.8960000000000004, 143.0, 1.06024, 0.90528, 0.43372, 0.31914000000000003, 0.11091, 0.06822, 0.99895], [3.845, 144.0, 0.0694, 0.77265, 0.29707, 0.47691999999999996, 0.15639, 0.19387000000000001, 1.87877], [3.819, 145.0, 0.46038, 0.62736, 0.61114, 0.66246, 0.07247, 0.40359, 0.98195], [3.781, 146.0, 0.2852, 1.00268, 0.38215, 0.32878, 0.05747000000000001, 0.34376999999999996, 1.38079], [3.681, 147.0, 0.20824, 0.66801, 0.46721, 0.19184, 0.08123999999999999, 0.21333000000000002, 1.851], [3.678, 148.0, 0.0785, 0.0, 0.06699, 0.48878999999999995, 0.08288999999999999, 0.23835, 2.7223], [3.667, 149.0, 0.34193, 0.76062, 0.1501, 0.23501, 0.05269, 0.18386, 1.9429599999999998], [3.656, 150.0, 0.17417, 0.46475, 0.24009, 0.37725, 0.12139000000000001, 0.28657, 1.9917200000000002], [3.655, 151.0, 0.46534, 0.77115, 0.15185, 0.46866, 0.17922000000000002, 0.20165, 1.41723], [3.5869999999999997, 152.0, 0.25811999999999996, 0.85188, 0.27125, 0.39493, 0.12832000000000002, 0.21746999999999997, 1.46494], [3.575, 153.0, 0.31982, 0.30285, 0.30335, 0.23414000000000001, 0.09719, 0.3651, 1.9521], [3.465, 154.0, 0.22208000000000003, 0.7737, 0.42863999999999997, 0.59201, 0.55191, 0.22628, 0.67042], [3.34, 155.0, 0.28665, 0.35386, 0.3191, 0.4845, 0.0801, 0.1826, 1.6332799999999998], [3.0060000000000002, 156.0, 0.6632, 0.47489, 0.7219300000000001, 0.15684, 0.18905999999999998, 0.47179, 0.32858000000000004], [2.905, 157.0, 0.0153, 0.41586999999999996, 0.22396, 0.1185, 0.10062, 0.19727, 1.83302], [2.839, 158.0, 0.20868, 0.13995, 0.28443, 0.36453, 0.10730999999999999, 0.16680999999999999, 1.56726]], \"geo\": \"geo\", \"hoverlabel\": {\"namelength\": 0}, \"hovertemplate\": \"<b>%{hovertext}</b><br><br>Year=2015.0<br>Happiness Score=%{z}<br>Happiness Rank=%{customdata[1]}<br>Economy (GDP per Capita)=%{customdata[2]}<br>Family=%{customdata[3]}<br>Health (Life Expectancy)=%{customdata[4]}<br>Freedom=%{customdata[5]}<br>Trust (Government Corruption)=%{customdata[6]}<br>Generosity=%{customdata[7]}<br>Dystopia Residual=%{customdata[8]}<br>Country=%{location}\", \"hovertext\": [\"Switzerland\", \"Iceland\", \"Denmark\", \"Norway\", \"Canada\", \"Finland\", \"Netherlands\", \"Sweden\", \"New Zealand\", \"Australia\", \"Israel\", \"Costa Rica\", \"Austria\", \"Mexico\", \"United States\", \"Brazil\", \"Luxembourg\", \"Ireland\", \"Belgium\", \"United Arab Emirates\", \"United Kingdom\", \"Oman\", \"Venezuela\", \"Singapore\", \"Panama\", \"Germany\", \"Chile\", \"Qatar\", \"France\", \"Argentina\", \"Czech Republic\", \"Uruguay\", \"Colombia\", \"Thailand\", \"Saudi Arabia\", \"Spain\", \"Malta\", \"Taiwan\", \"Kuwait\", \"Suriname\", \"Trinidad and Tobago\", \"El Salvador\", \"Guatemala\", \"Uzbekistan\", \"Slovakia\", \"Japan\", \"South Korea\", \"Ecuador\", \"Bahrain\", \"Italy\", \"Bolivia\", \"Moldova\", \"Paraguay\", \"Kazakhstan\", \"Slovenia\", \"Lithuania\", \"Nicaragua\", \"Peru\", \"Belarus\", \"Poland\", \"Malaysia\", \"Croatia\", \"Libya\", \"Russia\", \"Jamaica\", \"North Cyprus\", \"Cyprus\", \"Algeria\", \"Kosovo\", \"Turkmenistan\", \"Mauritius\", \"Hong Kong\", \"Estonia\", \"Indonesia\", \"Vietnam\", \"Turkey\", \"Kyrgyzstan\", \"Nigeria\", \"Bhutan\", \"Azerbaijan\", \"Pakistan\", \"Jordan\", \"Montenegro\", \"China\", \"Zambia\", \"Romania\", \"Serbia\", \"Portugal\", \"Latvia\", \"Philippines\", \"Somaliland region\", \"Morocco\", \"Macedonia\", \"Mozambique\", \"Albania\", \"Bosnia and Herzegovina\", \"Lesotho\", \"Dominican Republic\", \"Laos\", \"Mongolia\", \"Swaziland\", \"Greece\", \"Lebanon\", \"Hungary\", \"Honduras\", \"Tajikistan\", \"Tunisia\", \"Palestinian Territories\", \"Bangladesh\", \"Iran\", \"Ukraine\", \"Iraq\", \"South Africa\", \"Ghana\", \"Zimbabwe\", \"Liberia\", \"India\", \"Sudan\", \"Haiti\", \"Congo (Kinshasa)\", \"Nepal\", \"Ethiopia\", \"Sierra Leone\", \"Mauritania\", \"Kenya\", \"Djibouti\", \"Armenia\", \"Botswana\", \"Myanmar\", \"Georgia\", \"Malawi\", \"Sri Lanka\", \"Cameroon\", \"Bulgaria\", \"Egypt\", \"Yemen\", \"Angola\", \"Mali\", \"Congo (Brazzaville)\", \"Comoros\", \"Uganda\", \"Senegal\", \"Gabon\", \"Niger\", \"Cambodia\", \"Tanzania\", \"Madagascar\", \"Central African Republic\", \"Chad\", \"Guinea\", \"Ivory Coast\", \"Burkina Faso\", \"Afghanistan\", \"Rwanda\", \"Benin\", \"Syria\", \"Burundi\", \"Togo\"], \"locationmode\": \"country names\", \"locations\": [\"Switzerland\", \"Iceland\", \"Denmark\", \"Norway\", \"Canada\", \"Finland\", \"Netherlands\", \"Sweden\", \"New Zealand\", \"Australia\", \"Israel\", \"Costa Rica\", \"Austria\", \"Mexico\", \"United States\", \"Brazil\", \"Luxembourg\", \"Ireland\", \"Belgium\", \"United Arab Emirates\", \"United Kingdom\", \"Oman\", \"Venezuela\", \"Singapore\", \"Panama\", \"Germany\", \"Chile\", \"Qatar\", \"France\", \"Argentina\", \"Czech Republic\", \"Uruguay\", \"Colombia\", \"Thailand\", \"Saudi Arabia\", \"Spain\", \"Malta\", \"Taiwan\", \"Kuwait\", \"Suriname\", \"Trinidad and Tobago\", \"El Salvador\", \"Guatemala\", \"Uzbekistan\", \"Slovakia\", \"Japan\", \"South Korea\", \"Ecuador\", \"Bahrain\", \"Italy\", \"Bolivia\", \"Moldova\", \"Paraguay\", \"Kazakhstan\", \"Slovenia\", \"Lithuania\", \"Nicaragua\", \"Peru\", \"Belarus\", \"Poland\", \"Malaysia\", \"Croatia\", \"Libya\", \"Russia\", \"Jamaica\", \"North Cyprus\", \"Cyprus\", \"Algeria\", \"Kosovo\", \"Turkmenistan\", \"Mauritius\", \"Hong Kong\", \"Estonia\", \"Indonesia\", \"Vietnam\", \"Turkey\", \"Kyrgyzstan\", \"Nigeria\", \"Bhutan\", \"Azerbaijan\", \"Pakistan\", \"Jordan\", \"Montenegro\", \"China\", \"Zambia\", \"Romania\", \"Serbia\", \"Portugal\", \"Latvia\", \"Philippines\", \"Somaliland region\", \"Morocco\", \"Macedonia\", \"Mozambique\", \"Albania\", \"Bosnia and Herzegovina\", \"Lesotho\", \"Dominican Republic\", \"Laos\", \"Mongolia\", \"Swaziland\", \"Greece\", \"Lebanon\", \"Hungary\", \"Honduras\", \"Tajikistan\", \"Tunisia\", \"Palestinian Territories\", \"Bangladesh\", \"Iran\", \"Ukraine\", \"Iraq\", \"South Africa\", \"Ghana\", \"Zimbabwe\", \"Liberia\", \"India\", \"Sudan\", \"Haiti\", \"Congo (Kinshasa)\", \"Nepal\", \"Ethiopia\", \"Sierra Leone\", \"Mauritania\", \"Kenya\", \"Djibouti\", \"Armenia\", \"Botswana\", \"Myanmar\", \"Georgia\", \"Malawi\", \"Sri Lanka\", \"Cameroon\", \"Bulgaria\", \"Egypt\", \"Yemen\", \"Angola\", \"Mali\", \"Congo (Brazzaville)\", \"Comoros\", \"Uganda\", \"Senegal\", \"Gabon\", \"Niger\", \"Cambodia\", \"Tanzania\", \"Madagascar\", \"Central African Republic\", \"Chad\", \"Guinea\", \"Ivory Coast\", \"Burkina Faso\", \"Afghanistan\", \"Rwanda\", \"Benin\", \"Syria\", \"Burundi\", \"Togo\"], \"name\": \"\", \"type\": \"choropleth\", \"z\": [7.587000000000001, 7.561, 7.527, 7.522, 7.4270000000000005, 7.406000000000001, 7.377999999999999, 7.364, 7.2860000000000005, 7.284, 7.278, 7.226, 7.2, 7.187, 7.119, 6.983, 6.946000000000001, 6.94, 6.937, 6.901, 6.867000000000001, 6.853, 6.81, 6.797999999999999, 6.7860000000000005, 6.75, 6.67, 6.611000000000001, 6.575, 6.574, 6.505, 6.485, 6.477, 6.455, 6.4110000000000005, 6.329, 6.3020000000000005, 6.297999999999999, 6.295, 6.269, 6.167999999999999, 6.13, 6.122999999999999, 6.002999999999999, 5.995, 5.987, 5.984, 5.975, 5.96, 5.9479999999999995, 5.89, 5.888999999999999, 5.877999999999999, 5.855, 5.848, 5.832999999999999, 5.827999999999999, 5.824, 5.813, 5.791, 5.77, 5.7589999999999995, 5.754, 5.716, 5.709, 5.695, 5.689, 5.605, 5.5889999999999995, 5.547999999999999, 5.477, 5.474, 5.428999999999999, 5.399, 5.36, 5.332000000000001, 5.2860000000000005, 5.268, 5.252999999999999, 5.212000000000001, 5.194, 5.192, 5.192, 5.14, 5.129, 5.124, 5.122999999999999, 5.102, 5.098, 5.073, 5.0569999999999995, 5.013, 5.007, 4.971, 4.959, 4.949, 4.898, 4.885, 4.876, 4.874, 4.867, 4.857, 4.8389999999999995, 4.8, 4.788, 4.7860000000000005, 4.739, 4.715, 4.694, 4.686, 4.681, 4.677, 4.6419999999999995, 4.633, 4.61, 4.571000000000001, 4.565, 4.55, 4.518, 4.5169999999999995, 4.513999999999999, 4.512, 4.507, 4.436, 4.419, 4.369, 4.35, 4.332, 4.3069999999999995, 4.297, 4.292, 4.271, 4.252, 4.218, 4.194, 4.077, 4.033, 3.995, 3.989, 3.9560000000000004, 3.931, 3.904, 3.8960000000000004, 3.845, 3.819, 3.781, 3.681, 3.678, 3.667, 3.656, 3.655, 3.5869999999999997, 3.575, 3.465, 3.34, 3.0060000000000002, 2.905, 2.839]}],\n",
              "                        {\"coloraxis\": {\"colorbar\": {\"title\": {\"text\": \"Happiness Score\"}}, \"colorscale\": [[0.0, \"rgb(0,0,0)\"], [0.2, \"rgb(30,0,100)\"], [0.4, \"rgb(120,0,100)\"], [0.6, \"rgb(160,90,0)\"], [0.8, \"rgb(230,200,0)\"], [1.0, \"rgb(255,250,220)\"]]}, \"geo\": {\"center\": {}, \"domain\": {\"x\": [0.0, 1.0], \"y\": [0.0, 1.0]}, \"projection\": {\"type\": \"natural earth\"}, \"scope\": \"world\"}, \"legend\": {\"tracegroupgap\": 0}, \"margin\": {\"t\": 60}, \"sliders\": [{\"active\": 0, \"currentvalue\": {\"prefix\": \"Year=\"}, \"len\": 0.9, \"pad\": {\"b\": 10, \"t\": 60}, \"steps\": [{\"args\": [[\"2015.0\"], {\"frame\": {\"duration\": 0, \"redraw\": true}, \"fromcurrent\": true, \"mode\": \"immediate\", \"transition\": {\"duration\": 0, \"easing\": \"linear\"}}], \"label\": \"2015.0\", \"method\": \"animate\"}, {\"args\": [[\"2016.0\"], {\"frame\": {\"duration\": 0, \"redraw\": true}, \"fromcurrent\": true, \"mode\": \"immediate\", \"transition\": {\"duration\": 0, \"easing\": \"linear\"}}], \"label\": \"2016.0\", \"method\": \"animate\"}, {\"args\": [[\"2017.0\"], {\"frame\": {\"duration\": 0, \"redraw\": true}, \"fromcurrent\": true, \"mode\": \"immediate\", \"transition\": {\"duration\": 0, \"easing\": \"linear\"}}], \"label\": \"2017.0\", \"method\": \"animate\"}, {\"args\": [[\"2018.0\"], {\"frame\": {\"duration\": 0, \"redraw\": true}, \"fromcurrent\": true, \"mode\": \"immediate\", \"transition\": {\"duration\": 0, \"easing\": \"linear\"}}], \"label\": \"2018.0\", \"method\": \"animate\"}, {\"args\": [[\"2019.0\"], {\"frame\": {\"duration\": 0, \"redraw\": true}, \"fromcurrent\": true, \"mode\": \"immediate\", \"transition\": {\"duration\": 0, \"easing\": \"linear\"}}], \"label\": \"2019.0\", \"method\": \"animate\"}], \"x\": 0.1, \"xanchor\": \"left\", \"y\": 0, \"yanchor\": \"top\"}], \"template\": {\"data\": {\"bar\": [{\"error_x\": {\"color\": \"#2a3f5f\"}, \"error_y\": {\"color\": \"#2a3f5f\"}, \"marker\": {\"line\": {\"color\": \"#E5ECF6\", \"width\": 0.5}}, \"type\": \"bar\"}], \"barpolar\": [{\"marker\": {\"line\": {\"color\": \"#E5ECF6\", \"width\": 0.5}}, \"type\": \"barpolar\"}], \"carpet\": [{\"aaxis\": {\"endlinecolor\": \"#2a3f5f\", \"gridcolor\": \"white\", \"linecolor\": \"white\", \"minorgridcolor\": \"white\", \"startlinecolor\": \"#2a3f5f\"}, \"baxis\": {\"endlinecolor\": \"#2a3f5f\", \"gridcolor\": \"white\", \"linecolor\": \"white\", \"minorgridcolor\": \"white\", \"startlinecolor\": \"#2a3f5f\"}, \"type\": \"carpet\"}], \"choropleth\": [{\"colorbar\": {\"outlinewidth\": 0, \"ticks\": \"\"}, \"type\": \"choropleth\"}], \"contour\": [{\"colorbar\": {\"outlinewidth\": 0, \"ticks\": \"\"}, \"colorscale\": [[0.0, \"#0d0887\"], [0.1111111111111111, \"#46039f\"], [0.2222222222222222, \"#7201a8\"], [0.3333333333333333, \"#9c179e\"], [0.4444444444444444, \"#bd3786\"], [0.5555555555555556, \"#d8576b\"], [0.6666666666666666, \"#ed7953\"], [0.7777777777777778, \"#fb9f3a\"], [0.8888888888888888, \"#fdca26\"], [1.0, \"#f0f921\"]], \"type\": \"contour\"}], \"contourcarpet\": [{\"colorbar\": {\"outlinewidth\": 0, \"ticks\": \"\"}, \"type\": \"contourcarpet\"}], \"heatmap\": [{\"colorbar\": {\"outlinewidth\": 0, \"ticks\": \"\"}, \"colorscale\": [[0.0, \"#0d0887\"], [0.1111111111111111, \"#46039f\"], [0.2222222222222222, \"#7201a8\"], [0.3333333333333333, \"#9c179e\"], [0.4444444444444444, \"#bd3786\"], [0.5555555555555556, \"#d8576b\"], [0.6666666666666666, \"#ed7953\"], [0.7777777777777778, \"#fb9f3a\"], [0.8888888888888888, \"#fdca26\"], [1.0, \"#f0f921\"]], \"type\": \"heatmap\"}], \"heatmapgl\": [{\"colorbar\": {\"outlinewidth\": 0, \"ticks\": \"\"}, \"colorscale\": [[0.0, \"#0d0887\"], [0.1111111111111111, \"#46039f\"], [0.2222222222222222, \"#7201a8\"], [0.3333333333333333, \"#9c179e\"], [0.4444444444444444, \"#bd3786\"], [0.5555555555555556, \"#d8576b\"], [0.6666666666666666, \"#ed7953\"], [0.7777777777777778, \"#fb9f3a\"], [0.8888888888888888, \"#fdca26\"], [1.0, \"#f0f921\"]], \"type\": \"heatmapgl\"}], \"histogram\": [{\"marker\": {\"colorbar\": {\"outlinewidth\": 0, \"ticks\": \"\"}}, \"type\": \"histogram\"}], \"histogram2d\": [{\"colorbar\": {\"outlinewidth\": 0, \"ticks\": \"\"}, \"colorscale\": [[0.0, \"#0d0887\"], [0.1111111111111111, \"#46039f\"], [0.2222222222222222, \"#7201a8\"], [0.3333333333333333, \"#9c179e\"], [0.4444444444444444, \"#bd3786\"], [0.5555555555555556, \"#d8576b\"], [0.6666666666666666, \"#ed7953\"], [0.7777777777777778, \"#fb9f3a\"], [0.8888888888888888, \"#fdca26\"], [1.0, \"#f0f921\"]], \"type\": \"histogram2d\"}], \"histogram2dcontour\": [{\"colorbar\": {\"outlinewidth\": 0, \"ticks\": \"\"}, \"colorscale\": [[0.0, \"#0d0887\"], [0.1111111111111111, \"#46039f\"], [0.2222222222222222, \"#7201a8\"], [0.3333333333333333, \"#9c179e\"], [0.4444444444444444, \"#bd3786\"], [0.5555555555555556, \"#d8576b\"], [0.6666666666666666, \"#ed7953\"], [0.7777777777777778, \"#fb9f3a\"], [0.8888888888888888, \"#fdca26\"], [1.0, \"#f0f921\"]], \"type\": \"histogram2dcontour\"}], \"mesh3d\": [{\"colorbar\": {\"outlinewidth\": 0, \"ticks\": \"\"}, \"type\": \"mesh3d\"}], \"parcoords\": [{\"line\": {\"colorbar\": {\"outlinewidth\": 0, \"ticks\": \"\"}}, \"type\": \"parcoords\"}], \"pie\": [{\"automargin\": true, \"type\": \"pie\"}], \"scatter\": [{\"marker\": {\"colorbar\": {\"outlinewidth\": 0, \"ticks\": \"\"}}, \"type\": \"scatter\"}], \"scatter3d\": [{\"line\": {\"colorbar\": {\"outlinewidth\": 0, \"ticks\": \"\"}}, \"marker\": {\"colorbar\": {\"outlinewidth\": 0, \"ticks\": \"\"}}, \"type\": \"scatter3d\"}], \"scattercarpet\": [{\"marker\": {\"colorbar\": {\"outlinewidth\": 0, \"ticks\": \"\"}}, \"type\": \"scattercarpet\"}], \"scattergeo\": [{\"marker\": {\"colorbar\": {\"outlinewidth\": 0, \"ticks\": \"\"}}, \"type\": \"scattergeo\"}], \"scattergl\": [{\"marker\": {\"colorbar\": {\"outlinewidth\": 0, \"ticks\": \"\"}}, \"type\": \"scattergl\"}], \"scattermapbox\": [{\"marker\": {\"colorbar\": {\"outlinewidth\": 0, \"ticks\": \"\"}}, \"type\": \"scattermapbox\"}], \"scatterpolar\": [{\"marker\": {\"colorbar\": {\"outlinewidth\": 0, \"ticks\": \"\"}}, \"type\": \"scatterpolar\"}], \"scatterpolargl\": [{\"marker\": {\"colorbar\": {\"outlinewidth\": 0, \"ticks\": \"\"}}, \"type\": \"scatterpolargl\"}], \"scatterternary\": [{\"marker\": {\"colorbar\": {\"outlinewidth\": 0, \"ticks\": \"\"}}, \"type\": \"scatterternary\"}], \"surface\": [{\"colorbar\": {\"outlinewidth\": 0, \"ticks\": \"\"}, \"colorscale\": [[0.0, \"#0d0887\"], [0.1111111111111111, \"#46039f\"], [0.2222222222222222, \"#7201a8\"], [0.3333333333333333, \"#9c179e\"], [0.4444444444444444, \"#bd3786\"], [0.5555555555555556, \"#d8576b\"], [0.6666666666666666, \"#ed7953\"], [0.7777777777777778, \"#fb9f3a\"], [0.8888888888888888, \"#fdca26\"], [1.0, \"#f0f921\"]], \"type\": \"surface\"}], \"table\": [{\"cells\": {\"fill\": {\"color\": \"#EBF0F8\"}, \"line\": {\"color\": \"white\"}}, \"header\": {\"fill\": {\"color\": \"#C8D4E3\"}, \"line\": {\"color\": \"white\"}}, \"type\": \"table\"}]}, \"layout\": {\"annotationdefaults\": {\"arrowcolor\": \"#2a3f5f\", \"arrowhead\": 0, \"arrowwidth\": 1}, \"coloraxis\": {\"colorbar\": {\"outlinewidth\": 0, \"ticks\": \"\"}}, \"colorscale\": {\"diverging\": [[0, \"#8e0152\"], [0.1, \"#c51b7d\"], [0.2, \"#de77ae\"], [0.3, \"#f1b6da\"], [0.4, \"#fde0ef\"], [0.5, \"#f7f7f7\"], [0.6, \"#e6f5d0\"], [0.7, \"#b8e186\"], [0.8, \"#7fbc41\"], [0.9, \"#4d9221\"], [1, \"#276419\"]], \"sequential\": [[0.0, \"#0d0887\"], [0.1111111111111111, \"#46039f\"], [0.2222222222222222, \"#7201a8\"], [0.3333333333333333, \"#9c179e\"], [0.4444444444444444, \"#bd3786\"], [0.5555555555555556, \"#d8576b\"], [0.6666666666666666, \"#ed7953\"], [0.7777777777777778, \"#fb9f3a\"], [0.8888888888888888, \"#fdca26\"], [1.0, \"#f0f921\"]], \"sequentialminus\": [[0.0, \"#0d0887\"], [0.1111111111111111, \"#46039f\"], [0.2222222222222222, \"#7201a8\"], [0.3333333333333333, \"#9c179e\"], [0.4444444444444444, \"#bd3786\"], [0.5555555555555556, \"#d8576b\"], [0.6666666666666666, \"#ed7953\"], [0.7777777777777778, \"#fb9f3a\"], [0.8888888888888888, \"#fdca26\"], [1.0, \"#f0f921\"]]}, \"colorway\": [\"#636efa\", \"#EF553B\", \"#00cc96\", \"#ab63fa\", \"#FFA15A\", \"#19d3f3\", \"#FF6692\", \"#B6E880\", \"#FF97FF\", \"#FECB52\"], \"font\": {\"color\": \"#2a3f5f\"}, \"geo\": {\"bgcolor\": \"white\", \"lakecolor\": \"white\", \"landcolor\": \"#E5ECF6\", \"showlakes\": true, \"showland\": true, \"subunitcolor\": \"white\"}, \"hoverlabel\": {\"align\": \"left\"}, \"hovermode\": \"closest\", \"mapbox\": {\"style\": \"light\"}, \"paper_bgcolor\": \"white\", \"plot_bgcolor\": \"#E5ECF6\", \"polar\": {\"angularaxis\": {\"gridcolor\": \"white\", \"linecolor\": \"white\", \"ticks\": \"\"}, \"bgcolor\": \"#E5ECF6\", \"radialaxis\": {\"gridcolor\": \"white\", \"linecolor\": \"white\", \"ticks\": \"\"}}, \"scene\": {\"xaxis\": {\"backgroundcolor\": \"#E5ECF6\", \"gridcolor\": \"white\", \"gridwidth\": 2, \"linecolor\": \"white\", \"showbackground\": true, \"ticks\": \"\", \"zerolinecolor\": \"white\"}, \"yaxis\": {\"backgroundcolor\": \"#E5ECF6\", \"gridcolor\": \"white\", \"gridwidth\": 2, \"linecolor\": \"white\", \"showbackground\": true, \"ticks\": \"\", \"zerolinecolor\": \"white\"}, \"zaxis\": {\"backgroundcolor\": \"#E5ECF6\", \"gridcolor\": \"white\", \"gridwidth\": 2, \"linecolor\": \"white\", \"showbackground\": true, \"ticks\": \"\", \"zerolinecolor\": \"white\"}}, \"shapedefaults\": {\"line\": {\"color\": \"#2a3f5f\"}}, \"ternary\": {\"aaxis\": {\"gridcolor\": \"white\", \"linecolor\": \"white\", \"ticks\": \"\"}, \"baxis\": {\"gridcolor\": \"white\", \"linecolor\": \"white\", \"ticks\": \"\"}, \"bgcolor\": \"#E5ECF6\", \"caxis\": {\"gridcolor\": \"white\", \"linecolor\": \"white\", \"ticks\": \"\"}}, \"title\": {\"x\": 0.05}, \"xaxis\": {\"automargin\": true, \"gridcolor\": \"white\", \"linecolor\": \"white\", \"ticks\": \"\", \"title\": {\"standoff\": 15}, \"zerolinecolor\": \"white\", \"zerolinewidth\": 2}, \"yaxis\": {\"automargin\": true, \"gridcolor\": \"white\", \"linecolor\": \"white\", \"ticks\": \"\", \"title\": {\"standoff\": 15}, \"zerolinecolor\": \"white\", \"zerolinewidth\": 2}}}, \"title\": {\"text\": \"Happiness Score by Year\"}, \"updatemenus\": [{\"buttons\": [{\"args\": [null, {\"frame\": {\"duration\": 500, \"redraw\": true}, \"fromcurrent\": true, \"mode\": \"immediate\", \"transition\": {\"duration\": 500, \"easing\": \"linear\"}}], \"label\": \"&#9654;\", \"method\": \"animate\"}, {\"args\": [[null], {\"frame\": {\"duration\": 0, \"redraw\": true}, \"fromcurrent\": true, \"mode\": \"immediate\", \"transition\": {\"duration\": 0, \"easing\": \"linear\"}}], \"label\": \"&#9724;\", \"method\": \"animate\"}], \"direction\": \"left\", \"pad\": {\"r\": 10, \"t\": 70}, \"showactive\": false, \"type\": \"buttons\", \"x\": 0.1, \"xanchor\": \"right\", \"y\": 0, \"yanchor\": \"top\"}]},\n",
              "                        {\"responsive\": true}\n",
              "                    ).then(function(){\n",
              "                            Plotly.addFrames('004e69a4-46e5-4fe7-9282-e6ca0c8f8fcf', [{\"data\": [{\"coloraxis\": \"coloraxis\", \"customdata\": [[7.587000000000001, 1.0, 1.3965100000000001, 1.34951, 0.9414299999999999, 0.66557, 0.41978000000000004, 0.29678000000000004, 2.5173799999999997], [7.561, 2.0, 1.3023200000000001, 1.4022299999999999, 0.94784, 0.6287699999999999, 0.14145, 0.4363, 2.70201], [7.527, 3.0, 1.32548, 1.36058, 0.87464, 0.6493800000000001, 0.48357, 0.34139, 2.4920400000000003], [7.522, 4.0, 1.459, 1.33095, 0.88521, 0.66973, 0.36503, 0.34699, 2.4653099999999997], [7.4270000000000005, 5.0, 1.32629, 1.32261, 0.9056299999999999, 0.63297, 0.32957, 0.45811, 2.4517599999999997], [7.406000000000001, 6.0, 1.29025, 1.31826, 0.8891100000000001, 0.64169, 0.41372, 0.23351, 2.61955], [7.377999999999999, 7.0, 1.32944, 1.28017, 0.89284, 0.6157600000000001, 0.31814000000000003, 0.4761, 2.4657], [7.364, 8.0, 1.33171, 1.2890700000000002, 0.9108700000000001, 0.6598, 0.43843999999999994, 0.36262, 2.3711900000000004], [7.2860000000000005, 9.0, 1.2501799999999998, 1.3196700000000001, 0.9083700000000001, 0.6393800000000001, 0.42922, 0.47501000000000004, 2.26425], [7.284, 10.0, 1.33358, 1.30923, 0.93156, 0.6512399999999999, 0.35636999999999996, 0.43562, 2.26646], [7.278, 11.0, 1.2285700000000002, 1.22393, 0.9138700000000001, 0.41318999999999995, 0.07785, 0.33171999999999996, 3.08854], [7.226, 12.0, 0.95578, 1.2378799999999999, 0.8602700000000001, 0.63376, 0.10583, 0.25497, 3.17728], [7.2, 13.0, 1.33723, 1.29704, 0.8904200000000001, 0.62433, 0.18675999999999998, 0.33088, 2.5332], [7.187, 14.0, 1.02054, 0.91451, 0.8144399999999999, 0.48181, 0.21311999999999998, 0.14074, 3.6021400000000003], [7.119, 15.0, 1.3945100000000001, 1.24711, 0.86179, 0.54604, 0.1589, 0.40105, 2.51011], [6.983, 16.0, 0.98124, 1.2328700000000001, 0.69702, 0.49049, 0.17521, 0.14574, 3.26001], [6.946000000000001, 17.0, 1.5639100000000001, 1.21963, 0.91894, 0.61583, 0.37798000000000004, 0.28034000000000003, 1.9696099999999999], [6.94, 18.0, 1.33596, 1.36948, 0.89533, 0.6177699999999999, 0.28703, 0.45901000000000003, 1.9757], [6.937, 19.0, 1.30782, 1.28566, 0.8966700000000001, 0.5845, 0.2254, 0.2225, 2.4148400000000003], [6.901, 20.0, 1.42727, 1.12575, 0.80925, 0.64157, 0.38583, 0.26428, 2.24743], [6.867000000000001, 21.0, 1.26637, 1.28548, 0.90943, 0.59625, 0.32066999999999996, 0.51912, 1.9699400000000002], [6.853, 22.0, 1.36011, 1.08182, 0.76276, 0.63274, 0.32524000000000003, 0.21541999999999997, 2.4748900000000003], [6.81, 23.0, 1.04424, 1.25596, 0.7205199999999999, 0.42908, 0.11069000000000001, 0.058410000000000004, 3.1913099999999996], [6.797999999999999, 24.0, 1.52186, 1.02, 1.02525, 0.54252, 0.4921, 0.31105, 1.8850099999999999], [6.7860000000000005, 25.0, 1.0635299999999999, 1.1985, 0.79661, 0.5421, 0.0927, 0.24434, 2.84848], [6.75, 26.0, 1.32792, 1.2993700000000001, 0.89186, 0.6147699999999999, 0.21843, 0.28214, 2.1156900000000003], [6.67, 27.0, 1.10715, 1.12447, 0.85857, 0.44132, 0.12869, 0.33363000000000004, 2.67585], [6.611000000000001, 28.0, 1.69042, 1.0786, 0.79733, 0.6404, 0.52208, 0.32573, 1.55674], [6.575, 29.0, 1.27778, 1.2603799999999998, 0.9457899999999999, 0.55011, 0.20646, 0.12332, 2.21126], [6.574, 30.0, 1.05351, 1.24823, 0.78723, 0.44974, 0.08484, 0.11450999999999999, 2.8360000000000003], [6.505, 31.0, 1.17898, 1.20643, 0.84483, 0.46363999999999994, 0.02652, 0.10686, 2.67782], [6.485, 32.0, 1.06166, 1.2089, 0.8116, 0.6036199999999999, 0.24558000000000002, 0.2324, 2.3214200000000003], [6.477, 33.0, 0.91861, 1.2401799999999998, 0.69077, 0.53466, 0.0512, 0.18400999999999998, 2.85737], [6.455, 34.0, 0.9669, 1.26504, 0.7385, 0.5566399999999999, 0.031869999999999996, 0.5763, 2.31945], [6.4110000000000005, 35.0, 1.39541, 1.0839299999999998, 0.72025, 0.31048000000000003, 0.32524000000000003, 0.13706, 2.43872], [6.329, 36.0, 1.23011, 1.31379, 0.95562, 0.45951000000000003, 0.06398, 0.18227000000000002, 2.12367], [6.3020000000000005, 37.0, 1.2074, 1.30203, 0.88721, 0.60365, 0.13585999999999998, 0.51752, 1.6488], [6.297999999999999, 38.0, 1.29098, 1.07617, 0.8753, 0.3974, 0.08129, 0.25376, 2.32323], [6.295, 39.0, 1.5542200000000002, 1.16594, 0.72492, 0.55499, 0.25609, 0.16228, 1.8763400000000001], [6.269, 40.0, 0.99534, 0.972, 0.6082, 0.5965699999999999, 0.13633, 0.16990999999999998, 2.79094], [6.167999999999999, 41.0, 1.21183, 1.18354, 0.61483, 0.55884, 0.0114, 0.31844, 2.2688200000000003], [6.13, 42.0, 0.76454, 1.0250700000000001, 0.67737, 0.4035, 0.11775999999999999, 0.10692, 3.035], [6.122999999999999, 43.0, 0.74553, 1.04356, 0.64425, 0.57733, 0.09472, 0.27489, 2.74255], [6.002999999999999, 44.0, 0.63244, 1.34043, 0.59772, 0.6582100000000001, 0.30826, 0.22837, 2.2374099999999997], [5.995, 45.0, 1.1689100000000001, 1.26999, 0.7890199999999999, 0.31751, 0.03431, 0.16893, 2.2463900000000003], [5.987, 46.0, 1.27074, 1.25712, 0.99111, 0.49615, 0.1806, 0.10705, 1.68435], [5.984, 47.0, 1.24461, 0.9577399999999999, 0.9653799999999999, 0.33208000000000004, 0.07857, 0.18557, 2.21978], [5.975, 48.0, 0.8640200000000001, 0.99903, 0.79075, 0.48573999999999995, 0.1809, 0.11540999999999998, 2.5394200000000002], [5.96, 49.0, 1.32376, 1.21624, 0.74716, 0.45492, 0.306, 0.17362, 1.73797], [5.9479999999999995, 50.0, 1.25114, 1.19777, 0.9544600000000001, 0.26236, 0.02901, 0.22823000000000002, 2.0251799999999998], [5.89, 51.0, 0.68133, 0.97841, 0.5392, 0.57414, 0.08800000000000001, 0.20536, 2.82334], [5.888999999999999, 52.0, 0.59448, 1.01528, 0.61826, 0.32818, 0.01615, 0.20951, 3.10712], [5.877999999999999, 53.0, 0.75985, 1.30477, 0.66098, 0.53899, 0.08242000000000001, 0.3424, 2.18896], [5.855, 54.0, 1.1225399999999999, 1.1224100000000001, 0.64368, 0.51649, 0.08454, 0.11827, 2.24729], [5.848, 55.0, 1.18498, 1.27385, 0.8733700000000001, 0.60855, 0.03787, 0.25328, 1.6158299999999999], [5.832999999999999, 56.0, 1.14723, 1.25745, 0.73128, 0.21341999999999997, 0.01031, 0.026410000000000003, 2.4464900000000003], [5.827999999999999, 57.0, 0.59325, 1.14184, 0.7431399999999999, 0.55475, 0.19317, 0.27815, 2.32407], [5.824, 58.0, 0.9001899999999999, 0.97459, 0.73017, 0.41496000000000005, 0.05989, 0.14982, 2.5945], [5.813, 59.0, 1.0319200000000002, 1.23289, 0.7360800000000001, 0.37938, 0.1909, 0.11045999999999999, 2.1309], [5.791, 60.0, 1.12555, 1.27948, 0.77903, 0.53122, 0.04212, 0.16759000000000002, 1.86565], [5.77, 61.0, 1.12486, 1.07023, 0.7239399999999999, 0.5302399999999999, 0.10500999999999999, 0.33075, 1.8854099999999998], [5.7589999999999995, 62.0, 1.08254, 0.79624, 0.78805, 0.25883, 0.0243, 0.054439999999999995, 2.75414], [5.754, 63.0, 1.13145, 1.1186200000000002, 0.7038, 0.41668, 0.11023, 0.18295, 2.0906599999999997], [5.716, 64.0, 1.13764, 1.23617, 0.6692600000000001, 0.36679, 0.03005, 0.00199, 2.27394], [5.709, 65.0, 0.81038, 1.1510200000000002, 0.6874100000000001, 0.50442, 0.02299, 0.2123, 2.32038], [5.695, 66.0, 1.2080600000000001, 1.07008, 0.92356, 0.49027, 0.1428, 0.26169000000000003, 1.5988799999999999], [5.689, 67.0, 1.20813, 0.89318, 0.92356, 0.40671999999999997, 0.06146, 0.30638000000000004, 1.8893099999999998], [5.605, 68.0, 0.93929, 1.07772, 0.61766, 0.28579, 0.17382999999999998, 0.07822, 2.43209], [5.5889999999999995, 69.0, 0.80148, 0.81198, 0.63132, 0.24749000000000002, 0.04741, 0.2831, 2.76579], [5.547999999999999, 70.0, 0.95847, 1.22668, 0.53886, 0.4761, 0.30844, 0.16979, 1.8698400000000002], [5.477, 71.0, 1.0076100000000001, 0.98521, 0.7095, 0.56066, 0.07521, 0.37744, 1.76145], [5.474, 72.0, 1.38604, 1.05818, 1.01328, 0.59608, 0.37124, 0.39478, 0.6542899999999999], [5.428999999999999, 73.0, 1.15174, 1.22791, 0.77361, 0.44888, 0.15184, 0.0868, 1.58782], [5.399, 74.0, 0.8282700000000001, 1.0870799999999998, 0.63793, 0.46611, 0.0, 0.51535, 1.86399], [5.36, 75.0, 0.63216, 0.9122600000000001, 0.7467600000000001, 0.59444, 0.10440999999999999, 0.1686, 2.20173], [5.332000000000001, 76.0, 1.06098, 0.94632, 0.73172, 0.22815, 0.15746, 0.12253, 2.08528], [5.2860000000000005, 77.0, 0.47428000000000003, 1.15115, 0.65088, 0.43477, 0.042319999999999997, 0.3003, 2.2327], [5.268, 78.0, 0.65435, 0.9043200000000001, 0.16007000000000002, 0.34334000000000003, 0.0403, 0.27233, 2.89319], [5.252999999999999, 79.0, 0.77042, 1.10395, 0.57407, 0.5320600000000001, 0.15445, 0.47998, 1.63794], [5.212000000000001, 80.0, 1.02389, 0.9379299999999999, 0.64045, 0.3703, 0.16065, 0.07799, 2.00073], [5.194, 81.0, 0.59543, 0.41411000000000003, 0.51466, 0.12102, 0.10464000000000001, 0.33671, 3.1070900000000004], [5.192, 82.0, 0.9019799999999999, 1.05392, 0.69639, 0.40660999999999997, 0.14293, 0.11052999999999999, 1.8799599999999999], [5.192, 82.0, 0.9743799999999999, 0.9055700000000001, 0.72521, 0.1826, 0.14296, 0.1614, 2.10017], [5.14, 84.0, 0.89012, 0.94675, 0.81658, 0.5169699999999999, 0.02781, 0.08185, 1.8604], [5.129, 85.0, 0.47038, 0.91612, 0.29924, 0.48827, 0.12468, 0.19591, 2.6343], [5.124, 86.0, 1.04345, 0.8858799999999999, 0.7689, 0.35068, 0.006490000000000001, 0.13748, 1.9312900000000002], [5.122999999999999, 87.0, 0.92053, 1.0096399999999999, 0.74836, 0.20107, 0.02617, 0.19230999999999998, 2.025], [5.102, 88.0, 1.15991, 1.13935, 0.8751899999999999, 0.51469, 0.01078, 0.13719, 1.26462], [5.098, 89.0, 1.11312, 1.09562, 0.72437, 0.29671, 0.06332, 0.18225999999999998, 1.62215], [5.073, 90.0, 0.70532, 1.03516, 0.58114, 0.62545, 0.12279000000000001, 0.24991, 1.7536], [5.0569999999999995, 91.0, 0.18847, 0.95152, 0.43873, 0.46581999999999996, 0.39928, 0.5031800000000001, 2.11032], [5.013, 92.0, 0.7347899999999999, 0.64095, 0.60954, 0.41691000000000006, 0.08546000000000001, 0.07172, 2.4537299999999997], [5.007, 93.0, 0.91851, 1.00232, 0.73545, 0.33457, 0.053270000000000005, 0.22359, 1.7393299999999998], [4.971, 94.0, 0.08308, 1.02626, 0.09131, 0.34037, 0.15603, 0.22269, 3.05137], [4.959, 95.0, 0.8786700000000001, 0.8043399999999999, 0.81325, 0.35733000000000004, 0.06412999999999999, 0.14272, 1.89894], [4.949, 96.0, 0.8322299999999999, 0.9191600000000001, 0.79081, 0.09245, 0.00227, 0.24808000000000002, 2.06367], [4.898, 97.0, 0.37545, 1.04103, 0.07612000000000001, 0.31767, 0.12504, 0.16388, 2.79832], [4.885, 98.0, 0.8953700000000001, 1.17202, 0.66825, 0.57672, 0.14234000000000002, 0.21684, 1.21305], [4.876, 99.0, 0.5906600000000001, 0.73803, 0.54909, 0.59591, 0.24249, 0.42191999999999996, 1.7379900000000001], [4.874, 100.0, 0.82819, 1.3006, 0.60268, 0.43626000000000004, 0.026660000000000003, 0.3323, 1.34759], [4.867, 101.0, 0.71206, 1.07284, 0.07566, 0.30658, 0.0306, 0.18259, 2.48676], [4.857, 102.0, 1.15406, 0.9293299999999999, 0.88213, 0.07699, 0.013969999999999998, 0.0, 1.8010099999999998], [4.8389999999999995, 103.0, 1.0256399999999999, 0.80001, 0.83947, 0.33916, 0.04582, 0.21854, 1.57059], [4.8, 104.0, 1.12094, 1.20215, 0.75905, 0.32111999999999996, 0.02758, 0.128, 1.24074], [4.788, 105.0, 0.59532, 0.9534799999999999, 0.6951, 0.40148, 0.06825, 0.23026999999999997, 1.84408], [4.7860000000000005, 106.0, 0.39047, 0.8556299999999999, 0.5737899999999999, 0.47216, 0.15072, 0.22974, 2.1139900000000003], [4.739, 107.0, 0.88113, 0.60429, 0.73793, 0.26268, 0.06358, 0.06431, 2.12466], [4.715, 108.0, 0.59867, 0.92558, 0.66015, 0.24499, 0.12905, 0.11250999999999999, 2.0438400000000003], [4.694, 109.0, 0.39753, 0.43106000000000005, 0.60164, 0.4082, 0.12569, 0.21222, 2.51767], [4.686, 110.0, 1.0088, 0.54447, 0.69805, 0.30033000000000004, 0.058629999999999995, 0.38086, 1.6944], [4.681, 111.0, 0.79907, 1.20278, 0.6739, 0.25123, 0.02961, 0.15275, 1.5714], [4.677, 112.0, 0.98549, 0.81889, 0.60237, 0.0, 0.13788, 0.17922000000000002, 1.95335], [4.6419999999999995, 113.0, 0.9204899999999999, 1.18468, 0.27688, 0.33207, 0.08884, 0.11972999999999999, 1.7195599999999998], [4.633, 114.0, 0.5455800000000001, 0.6795399999999999, 0.40131999999999995, 0.42341999999999996, 0.04355, 0.23087, 2.30919], [4.61, 115.0, 0.271, 1.0327600000000001, 0.33475, 0.25861, 0.08079, 0.18987, 2.44191], [4.571000000000001, 116.0, 0.0712, 0.78968, 0.34201, 0.28531, 0.06232000000000001, 0.24361999999999998, 2.7772900000000003], [4.565, 117.0, 0.64499, 0.38174, 0.5152899999999999, 0.39786, 0.08492000000000001, 0.26475, 2.27513], [4.55, 118.0, 0.52107, 1.01404, 0.36878, 0.10081, 0.1466, 0.19062, 2.20857], [4.518, 119.0, 0.26673, 0.74302, 0.38847, 0.24425, 0.17175, 0.46187, 2.24173], [4.5169999999999995, 120.0, 0.0, 1.0012, 0.09806000000000001, 0.22605, 0.07625, 0.24834, 2.86712], [4.513999999999999, 121.0, 0.35996999999999996, 0.86449, 0.5687399999999999, 0.38282, 0.059070000000000004, 0.32295999999999997, 1.9563700000000002], [4.512, 122.0, 0.19072999999999998, 0.60406, 0.44055, 0.4345, 0.15048, 0.24325, 2.44876], [4.507, 123.0, 0.33024000000000003, 0.9557100000000001, 0.0, 0.4084, 0.08786000000000001, 0.21488000000000002, 2.51009], [4.436, 124.0, 0.45407, 0.86908, 0.35874, 0.24231999999999998, 0.17461, 0.21899999999999997, 2.11773], [4.419, 125.0, 0.36471, 0.99876, 0.41435, 0.42215, 0.05839, 0.37542, 1.78555], [4.369, 126.0, 0.44025, 0.59207, 0.36291, 0.46074, 0.28105, 0.18093, 2.05125], [4.35, 127.0, 0.7682100000000001, 0.7771100000000001, 0.7299, 0.19847, 0.039, 0.07855, 1.75873], [4.332, 128.0, 0.99355, 1.10464, 0.047760000000000004, 0.49495, 0.12474, 0.10461, 1.46181], [4.3069999999999995, 129.0, 0.27108000000000004, 0.70905, 0.48246000000000006, 0.44017, 0.19034, 0.79588, 1.41805], [4.297, 130.0, 0.7419, 0.38561999999999996, 0.72926, 0.40576999999999996, 0.38331, 0.055470000000000005, 1.59541], [4.292, 131.0, 0.016040000000000002, 0.41134, 0.22562, 0.43054, 0.06977, 0.33128, 2.8079099999999997], [4.271, 132.0, 0.83524, 1.01905, 0.70806, 0.5372600000000001, 0.09179, 0.40828000000000003, 0.67108], [4.252, 133.0, 0.4225, 0.8876700000000001, 0.23401999999999998, 0.49309, 0.05786, 0.20618000000000003, 1.95071], [4.218, 134.0, 1.01216, 1.10614, 0.76649, 0.30587, 0.00872, 0.11921, 0.89991], [4.194, 135.0, 0.8818, 0.747, 0.61712, 0.17288, 0.06324, 0.11291, 1.59927], [4.077, 136.0, 0.5464899999999999, 0.68093, 0.40064, 0.35570999999999997, 0.07854, 0.09131, 1.92313], [4.033, 137.0, 0.75778, 0.8604, 0.16683, 0.10384000000000002, 0.07122, 0.12344000000000001, 1.9493900000000002], [3.995, 138.0, 0.26074, 1.03526, 0.20583, 0.38856999999999997, 0.12352, 0.18798, 1.79293], [3.989, 139.0, 0.67866, 0.6629, 0.31051, 0.41466000000000003, 0.11685999999999999, 0.12387999999999999, 1.68135], [3.9560000000000004, 140.0, 0.23906, 0.79273, 0.36315, 0.22916999999999998, 0.19899999999999998, 0.17440999999999998, 1.95812], [3.931, 141.0, 0.21101999999999999, 1.13299, 0.33860999999999997, 0.45726999999999995, 0.07267, 0.29066, 1.42766], [3.904, 142.0, 0.36498, 0.97619, 0.4354, 0.36772, 0.10712999999999999, 0.20843000000000003, 1.44395], [3.8960000000000004, 143.0, 1.06024, 0.90528, 0.43372, 0.31914000000000003, 0.11091, 0.06822, 0.99895], [3.845, 144.0, 0.0694, 0.77265, 0.29707, 0.47691999999999996, 0.15639, 0.19387000000000001, 1.87877], [3.819, 145.0, 0.46038, 0.62736, 0.61114, 0.66246, 0.07247, 0.40359, 0.98195], [3.781, 146.0, 0.2852, 1.00268, 0.38215, 0.32878, 0.05747000000000001, 0.34376999999999996, 1.38079], [3.681, 147.0, 0.20824, 0.66801, 0.46721, 0.19184, 0.08123999999999999, 0.21333000000000002, 1.851], [3.678, 148.0, 0.0785, 0.0, 0.06699, 0.48878999999999995, 0.08288999999999999, 0.23835, 2.7223], [3.667, 149.0, 0.34193, 0.76062, 0.1501, 0.23501, 0.05269, 0.18386, 1.9429599999999998], [3.656, 150.0, 0.17417, 0.46475, 0.24009, 0.37725, 0.12139000000000001, 0.28657, 1.9917200000000002], [3.655, 151.0, 0.46534, 0.77115, 0.15185, 0.46866, 0.17922000000000002, 0.20165, 1.41723], [3.5869999999999997, 152.0, 0.25811999999999996, 0.85188, 0.27125, 0.39493, 0.12832000000000002, 0.21746999999999997, 1.46494], [3.575, 153.0, 0.31982, 0.30285, 0.30335, 0.23414000000000001, 0.09719, 0.3651, 1.9521], [3.465, 154.0, 0.22208000000000003, 0.7737, 0.42863999999999997, 0.59201, 0.55191, 0.22628, 0.67042], [3.34, 155.0, 0.28665, 0.35386, 0.3191, 0.4845, 0.0801, 0.1826, 1.6332799999999998], [3.0060000000000002, 156.0, 0.6632, 0.47489, 0.7219300000000001, 0.15684, 0.18905999999999998, 0.47179, 0.32858000000000004], [2.905, 157.0, 0.0153, 0.41586999999999996, 0.22396, 0.1185, 0.10062, 0.19727, 1.83302], [2.839, 158.0, 0.20868, 0.13995, 0.28443, 0.36453, 0.10730999999999999, 0.16680999999999999, 1.56726]], \"geo\": \"geo\", \"hoverlabel\": {\"namelength\": 0}, \"hovertemplate\": \"<b>%{hovertext}</b><br><br>Year=2015.0<br>Happiness Score=%{z}<br>Happiness Rank=%{customdata[1]}<br>Economy (GDP per Capita)=%{customdata[2]}<br>Family=%{customdata[3]}<br>Health (Life Expectancy)=%{customdata[4]}<br>Freedom=%{customdata[5]}<br>Trust (Government Corruption)=%{customdata[6]}<br>Generosity=%{customdata[7]}<br>Dystopia Residual=%{customdata[8]}<br>Country=%{location}\", \"hovertext\": [\"Switzerland\", \"Iceland\", \"Denmark\", \"Norway\", \"Canada\", \"Finland\", \"Netherlands\", \"Sweden\", \"New Zealand\", \"Australia\", \"Israel\", \"Costa Rica\", \"Austria\", \"Mexico\", \"United States\", \"Brazil\", \"Luxembourg\", \"Ireland\", \"Belgium\", \"United Arab Emirates\", \"United Kingdom\", \"Oman\", \"Venezuela\", \"Singapore\", \"Panama\", \"Germany\", \"Chile\", \"Qatar\", \"France\", \"Argentina\", \"Czech Republic\", \"Uruguay\", \"Colombia\", \"Thailand\", \"Saudi Arabia\", \"Spain\", \"Malta\", \"Taiwan\", \"Kuwait\", \"Suriname\", \"Trinidad and Tobago\", \"El Salvador\", \"Guatemala\", \"Uzbekistan\", \"Slovakia\", \"Japan\", \"South Korea\", \"Ecuador\", \"Bahrain\", \"Italy\", \"Bolivia\", \"Moldova\", \"Paraguay\", \"Kazakhstan\", \"Slovenia\", \"Lithuania\", \"Nicaragua\", \"Peru\", \"Belarus\", \"Poland\", \"Malaysia\", \"Croatia\", \"Libya\", \"Russia\", \"Jamaica\", \"North Cyprus\", \"Cyprus\", \"Algeria\", \"Kosovo\", \"Turkmenistan\", \"Mauritius\", \"Hong Kong\", \"Estonia\", \"Indonesia\", \"Vietnam\", \"Turkey\", \"Kyrgyzstan\", \"Nigeria\", \"Bhutan\", \"Azerbaijan\", \"Pakistan\", \"Jordan\", \"Montenegro\", \"China\", \"Zambia\", \"Romania\", \"Serbia\", \"Portugal\", \"Latvia\", \"Philippines\", \"Somaliland region\", \"Morocco\", \"Macedonia\", \"Mozambique\", \"Albania\", \"Bosnia and Herzegovina\", \"Lesotho\", \"Dominican Republic\", \"Laos\", \"Mongolia\", \"Swaziland\", \"Greece\", \"Lebanon\", \"Hungary\", \"Honduras\", \"Tajikistan\", \"Tunisia\", \"Palestinian Territories\", \"Bangladesh\", \"Iran\", \"Ukraine\", \"Iraq\", \"South Africa\", \"Ghana\", \"Zimbabwe\", \"Liberia\", \"India\", \"Sudan\", \"Haiti\", \"Congo (Kinshasa)\", \"Nepal\", \"Ethiopia\", \"Sierra Leone\", \"Mauritania\", \"Kenya\", \"Djibouti\", \"Armenia\", \"Botswana\", \"Myanmar\", \"Georgia\", \"Malawi\", \"Sri Lanka\", \"Cameroon\", \"Bulgaria\", \"Egypt\", \"Yemen\", \"Angola\", \"Mali\", \"Congo (Brazzaville)\", \"Comoros\", \"Uganda\", \"Senegal\", \"Gabon\", \"Niger\", \"Cambodia\", \"Tanzania\", \"Madagascar\", \"Central African Republic\", \"Chad\", \"Guinea\", \"Ivory Coast\", \"Burkina Faso\", \"Afghanistan\", \"Rwanda\", \"Benin\", \"Syria\", \"Burundi\", \"Togo\"], \"locationmode\": \"country names\", \"locations\": [\"Switzerland\", \"Iceland\", \"Denmark\", \"Norway\", \"Canada\", \"Finland\", \"Netherlands\", \"Sweden\", \"New Zealand\", \"Australia\", \"Israel\", \"Costa Rica\", \"Austria\", \"Mexico\", \"United States\", \"Brazil\", \"Luxembourg\", \"Ireland\", \"Belgium\", \"United Arab Emirates\", \"United Kingdom\", \"Oman\", \"Venezuela\", \"Singapore\", \"Panama\", \"Germany\", \"Chile\", \"Qatar\", \"France\", \"Argentina\", \"Czech Republic\", \"Uruguay\", \"Colombia\", \"Thailand\", \"Saudi Arabia\", \"Spain\", \"Malta\", \"Taiwan\", \"Kuwait\", \"Suriname\", \"Trinidad and Tobago\", \"El Salvador\", \"Guatemala\", \"Uzbekistan\", \"Slovakia\", \"Japan\", \"South Korea\", \"Ecuador\", \"Bahrain\", \"Italy\", \"Bolivia\", \"Moldova\", \"Paraguay\", \"Kazakhstan\", \"Slovenia\", \"Lithuania\", \"Nicaragua\", \"Peru\", \"Belarus\", \"Poland\", \"Malaysia\", \"Croatia\", \"Libya\", \"Russia\", \"Jamaica\", \"North Cyprus\", \"Cyprus\", \"Algeria\", \"Kosovo\", \"Turkmenistan\", \"Mauritius\", \"Hong Kong\", \"Estonia\", \"Indonesia\", \"Vietnam\", \"Turkey\", \"Kyrgyzstan\", \"Nigeria\", \"Bhutan\", \"Azerbaijan\", \"Pakistan\", \"Jordan\", \"Montenegro\", \"China\", \"Zambia\", \"Romania\", \"Serbia\", \"Portugal\", \"Latvia\", \"Philippines\", \"Somaliland region\", \"Morocco\", \"Macedonia\", \"Mozambique\", \"Albania\", \"Bosnia and Herzegovina\", \"Lesotho\", \"Dominican Republic\", \"Laos\", \"Mongolia\", \"Swaziland\", \"Greece\", \"Lebanon\", \"Hungary\", \"Honduras\", \"Tajikistan\", \"Tunisia\", \"Palestinian Territories\", \"Bangladesh\", \"Iran\", \"Ukraine\", \"Iraq\", \"South Africa\", \"Ghana\", \"Zimbabwe\", \"Liberia\", \"India\", \"Sudan\", \"Haiti\", \"Congo (Kinshasa)\", \"Nepal\", \"Ethiopia\", \"Sierra Leone\", \"Mauritania\", \"Kenya\", \"Djibouti\", \"Armenia\", \"Botswana\", \"Myanmar\", \"Georgia\", \"Malawi\", \"Sri Lanka\", \"Cameroon\", \"Bulgaria\", \"Egypt\", \"Yemen\", \"Angola\", \"Mali\", \"Congo (Brazzaville)\", \"Comoros\", \"Uganda\", \"Senegal\", \"Gabon\", \"Niger\", \"Cambodia\", \"Tanzania\", \"Madagascar\", \"Central African Republic\", \"Chad\", \"Guinea\", \"Ivory Coast\", \"Burkina Faso\", \"Afghanistan\", \"Rwanda\", \"Benin\", \"Syria\", \"Burundi\", \"Togo\"], \"name\": \"\", \"z\": [7.587000000000001, 7.561, 7.527, 7.522, 7.4270000000000005, 7.406000000000001, 7.377999999999999, 7.364, 7.2860000000000005, 7.284, 7.278, 7.226, 7.2, 7.187, 7.119, 6.983, 6.946000000000001, 6.94, 6.937, 6.901, 6.867000000000001, 6.853, 6.81, 6.797999999999999, 6.7860000000000005, 6.75, 6.67, 6.611000000000001, 6.575, 6.574, 6.505, 6.485, 6.477, 6.455, 6.4110000000000005, 6.329, 6.3020000000000005, 6.297999999999999, 6.295, 6.269, 6.167999999999999, 6.13, 6.122999999999999, 6.002999999999999, 5.995, 5.987, 5.984, 5.975, 5.96, 5.9479999999999995, 5.89, 5.888999999999999, 5.877999999999999, 5.855, 5.848, 5.832999999999999, 5.827999999999999, 5.824, 5.813, 5.791, 5.77, 5.7589999999999995, 5.754, 5.716, 5.709, 5.695, 5.689, 5.605, 5.5889999999999995, 5.547999999999999, 5.477, 5.474, 5.428999999999999, 5.399, 5.36, 5.332000000000001, 5.2860000000000005, 5.268, 5.252999999999999, 5.212000000000001, 5.194, 5.192, 5.192, 5.14, 5.129, 5.124, 5.122999999999999, 5.102, 5.098, 5.073, 5.0569999999999995, 5.013, 5.007, 4.971, 4.959, 4.949, 4.898, 4.885, 4.876, 4.874, 4.867, 4.857, 4.8389999999999995, 4.8, 4.788, 4.7860000000000005, 4.739, 4.715, 4.694, 4.686, 4.681, 4.677, 4.6419999999999995, 4.633, 4.61, 4.571000000000001, 4.565, 4.55, 4.518, 4.5169999999999995, 4.513999999999999, 4.512, 4.507, 4.436, 4.419, 4.369, 4.35, 4.332, 4.3069999999999995, 4.297, 4.292, 4.271, 4.252, 4.218, 4.194, 4.077, 4.033, 3.995, 3.989, 3.9560000000000004, 3.931, 3.904, 3.8960000000000004, 3.845, 3.819, 3.781, 3.681, 3.678, 3.667, 3.656, 3.655, 3.5869999999999997, 3.575, 3.465, 3.34, 3.0060000000000002, 2.905, 2.839], \"type\": \"choropleth\"}], \"name\": \"2015.0\"}, {\"data\": [{\"coloraxis\": \"coloraxis\", \"customdata\": [[7.526, 1.0, 1.4417799999999998, 1.16374, 0.79504, 0.5794100000000001, 0.44453000000000004, 0.36171, 2.73939], [7.5089999999999995, 2.0, 1.5273299999999999, 1.14524, 0.86303, 0.58557, 0.41203, 0.28083, 2.69463], [7.501, 3.0, 1.42666, 1.18326, 0.8673299999999999, 0.56624, 0.14975, 0.47678000000000004, 2.83137], [7.497999999999999, 4.0, 1.57744, 1.1269, 0.79579, 0.59609, 0.35775999999999997, 0.37895, 2.66465], [7.412999999999999, 5.0, 1.40598, 1.1346399999999999, 0.81091, 0.57104, 0.41003999999999996, 0.25492, 2.82596], [7.404, 6.0, 1.44015, 1.0961, 0.8276, 0.5737, 0.31329, 0.44833999999999996, 2.70485], [7.3389999999999995, 7.0, 1.46468, 1.02912, 0.8123100000000001, 0.55211, 0.29927, 0.47416, 2.70749], [7.334, 8.0, 1.36066, 1.17278, 0.83096, 0.5814699999999999, 0.41903999999999997, 0.49401000000000006, 2.47553], [7.313, 9.0, 1.4444299999999999, 1.10476, 0.8512, 0.5683699999999999, 0.32331, 0.47407, 2.5465], [7.291, 10.0, 1.45181, 1.08764, 0.83121, 0.58218, 0.40867, 0.38254, 2.54734], [7.267, 11.0, 1.33766, 0.9953700000000001, 0.8491700000000001, 0.36432, 0.08728, 0.32288, 3.31029], [7.119, 12.0, 1.45038, 1.0838299999999998, 0.80565, 0.54355, 0.21348000000000003, 0.32865, 2.6934299999999998], [7.104, 13.0, 1.50796, 1.04782, 0.779, 0.48163, 0.14868, 0.41076999999999997, 2.72782], [7.087000000000001, 14.0, 1.06879, 1.02152, 0.76146, 0.55225, 0.10547000000000001, 0.22553, 3.3516800000000004], [7.039, 15.0, 1.35943, 1.08113, 0.77758, 0.46823000000000004, 0.12275, 0.22202, 3.0076], [6.994, 16.0, 1.44787, 1.09774, 0.81487, 0.53466, 0.28551, 0.30451999999999996, 2.5093099999999997], [6.952000000000001, 17.0, 1.08754, 1.03938, 0.61415, 0.40425, 0.14165999999999998, 0.15775999999999998, 3.5073300000000005], [6.928999999999999, 18.0, 1.42539, 1.05249, 0.8195899999999999, 0.51354, 0.26248, 0.2424, 2.61355], [6.907, 19.0, 1.4834100000000001, 1.16157, 0.81455, 0.54008, 0.29754, 0.44963000000000003, 2.15988], [6.871, 20.0, 1.6975200000000001, 1.03999, 0.8454200000000001, 0.5487, 0.35329, 0.27571, 2.11055], [6.778, 21.0, 1.1150799999999998, 0.7146, 0.71143, 0.37709000000000004, 0.18355, 0.11735, 3.5590599999999997], [6.739, 22.0, 1.64555, 0.8675799999999999, 0.94719, 0.4877, 0.46986999999999995, 0.32706, 1.99375], [6.725, 23.0, 1.40283, 1.0867200000000001, 0.80991, 0.50036, 0.27399, 0.50156, 2.1499900000000003], [6.705, 24.0, 1.2167, 0.9058700000000001, 0.8188300000000001, 0.37789, 0.11450999999999999, 0.31595, 2.95505], [6.7010000000000005, 25.0, 1.18306, 0.9891200000000001, 0.70835, 0.48927, 0.08423, 0.2418, 3.00559], [6.65, 26.0, 1.15137, 1.0661200000000002, 0.69711, 0.42283999999999994, 0.07296, 0.10989000000000002, 3.12985], [6.596, 27.0, 1.30915, 1.00793, 0.76376, 0.41418, 0.03986, 0.09929, 2.96211], [6.5729999999999995, 28.0, 1.57352, 0.8711399999999999, 0.72993, 0.56215, 0.35561, 0.26591, 2.21507], [6.545, 29.0, 1.18157, 1.0314299999999998, 0.72183, 0.54388, 0.21394000000000002, 0.18056, 2.67139], [6.4879999999999995, 30.0, 1.30782, 1.09879, 0.80315, 0.54994, 0.17554, 0.56237, 1.99032], [6.481, 31.0, 1.0303200000000001, 1.02169, 0.59659, 0.44735, 0.053989999999999996, 0.15625999999999998, 3.1747099999999997], [6.478, 32.0, 1.39488, 1.00508, 0.83795, 0.46562, 0.17808, 0.1216, 2.4744], [6.474, 33.0, 1.0893, 1.04477, 0.64915, 0.49553, 0.02833, 0.58696, 2.5796], [6.379, 34.0, 1.48953, 0.84829, 0.59267, 0.37904, 0.30008, 0.15457, 2.61482], [6.379, 34.0, 1.39729, 0.92624, 0.79565, 0.32377, 0.0663, 0.25495, 2.61523], [6.375, 36.0, 1.82427, 0.87964, 0.71723, 0.56679, 0.48049, 0.32388, 1.5822399999999999], [6.361000000000001, 37.0, 1.34253, 1.12945, 0.8789600000000001, 0.37545, 0.06137000000000001, 0.17665, 2.39663], [6.355, 38.0, 1.05266, 0.83309, 0.6180399999999999, 0.21006, 0.16157, 0.07044, 3.40904], [6.324, 39.0, 0.83454, 0.8711899999999999, 0.5403899999999999, 0.50379, 0.08701, 0.28808, 3.19863], [6.269, 40.0, 1.09686, 0.77866, 0.5093300000000001, 0.5223399999999999, 0.12692, 0.16665, 3.06852], [6.239, 41.0, 1.61714, 0.8775799999999999, 0.63569, 0.43166000000000004, 0.23669, 0.15965, 2.28085], [6.218, 42.0, 1.44024, 0.9439700000000001, 0.65696, 0.47375, 0.25772, 0.17147, 2.27405], [6.167999999999999, 43.0, 1.32572, 0.98569, 0.52608, 0.48453, 0.01241, 0.31935, 2.5139400000000003], [6.084, 44.0, 1.1336700000000002, 1.03302, 0.6190399999999999, 0.19847, 0.08304, 0.0425, 2.9746799999999998], [6.077999999999999, 45.0, 1.27973, 1.0826799999999999, 0.70367, 0.23390999999999998, 0.02947, 0.13837, 2.61065], [6.068, 46.0, 0.8737, 0.80975, 0.596, 0.37269, 0.10613, 0.08877, 3.22134], [6.005, 47.0, 1.25142, 0.88025, 0.62366, 0.39031, 0.09081, 0.41473999999999994, 2.35384], [5.992000000000001, 48.0, 0.69384, 0.8952100000000001, 0.65213, 0.46581999999999996, 0.16292, 0.29773, 2.82428], [5.987, 49.0, 0.7359100000000001, 1.1681, 0.50163, 0.60848, 0.28333, 0.34326, 2.34638], [5.977, 50.0, 1.35495, 1.04167, 0.8510200000000001, 0.18827, 0.02556, 0.16684000000000002, 2.34918], [5.976, 51.0, 0.97306, 0.85974, 0.68613, 0.4027, 0.18037, 0.10074, 2.77366], [5.956, 52.0, 0.87616, 0.68655, 0.45569, 0.51231, 0.10770999999999999, 0.23684000000000002, 3.08039], [5.921, 53.0, 1.3800700000000001, 1.06054, 0.91491, 0.46761, 0.18985, 0.10224, 1.8058400000000001], [5.919, 54.0, 1.22943, 0.95544, 0.57386, 0.4052, 0.11132, 0.15011, 2.49325], [5.897, 55.0, 0.69177, 0.8313200000000001, 0.5230899999999999, 0.25201999999999997, 0.019030000000000002, 0.19997, 3.38007], [5.856, 56.0, 1.2322799999999998, 1.05261, 0.58991, 0.32682, 0.03586, 0.027360000000000002, 2.59115], [5.835, 57.0, 1.24585, 1.04685, 0.69058, 0.4519, 0.055, 0.14443, 2.20035], [5.835, 57.0, 1.35948, 0.7219399999999999, 0.88645, 0.25168, 0.07716, 0.18824000000000002, 2.35015], [5.822, 59.0, 0.79422, 0.8377899999999999, 0.4697, 0.50961, 0.07746, 0.21698, 2.91635], [5.813, 60.0, 1.2692, 1.0641100000000001, 0.64674, 0.18929, 0.0182, 0.02025, 2.60525], [5.8020000000000005, 61.0, 1.1306200000000002, 1.04993, 0.6310399999999999, 0.29091, 0.17457, 0.13942000000000002, 2.3858200000000003], [5.771, 62.0, 1.31141, 0.81826, 0.8414200000000001, 0.43596, 0.16577999999999998, 0.26322, 1.9344700000000001], [5.768, 63.0, 1.2994700000000001, 1.05613, 0.79151, 0.53164, 0.03635, 0.25738, 1.79522], [5.742999999999999, 64.0, 0.9960200000000001, 0.81255, 0.6299399999999999, 0.37501999999999996, 0.05292, 0.14527, 2.73117], [5.6579999999999995, 65.0, 1.08017, 1.03817, 0.44006000000000006, 0.37408, 0.28467, 0.22566999999999998, 2.21489], [5.648, 66.0, 1.14372, 0.75695, 0.66189, 0.46145, 0.05202999999999999, 0.36951, 2.20223], [5.615, 67.0, 1.0668799999999998, 0.95076, 0.52304, 0.40671999999999997, 0.10339000000000001, 0.17087, 2.39374], [5.56, 68.0, 1.2178799999999999, 0.95025, 0.63952, 0.27996, 0.0889, 0.17445, 2.20859], [5.546, 69.0, 1.31857, 0.70697, 0.8488, 0.29507, 0.05227999999999999, 0.27906, 2.04497], [5.537999999999999, 70.0, 0.8937299999999999, 1.11111, 0.58295, 0.46235, 0.07396, 0.25296, 2.16091], [5.528, 71.0, 1.1697, 0.7280300000000001, 0.67602, 0.36712, 0.006790000000000001, 0.12889, 2.4518400000000002], [5.517, 72.0, 1.2796399999999999, 1.0516299999999998, 0.68098, 0.41511000000000003, 0.18519000000000002, 0.08423, 1.81985], [5.51, 73.0, 0.89333, 0.96372, 0.5946899999999999, 0.43596999999999997, 0.04294, 0.22245, 2.35682], [5.4879999999999995, 74.0, 1.18649, 0.6080899999999999, 0.70524, 0.23906999999999998, 0.04002, 0.18434, 2.52462], [5.457999999999999, 75.0, 1.5107, 0.87021, 0.9527700000000001, 0.48078999999999994, 0.31647, 0.40097, 0.92614], [5.44, 76.0, 0.0, 0.33613000000000004, 0.11465999999999998, 0.5677800000000001, 0.3118, 0.27225, 3.8377199999999996], [5.401, 77.0, 0.90145, 0.66062, 0.54, 0.14396, 0.06547, 0.27992, 2.80998], [5.388999999999999, 78.0, 1.1649200000000002, 0.8771700000000001, 0.64718, 0.23889000000000002, 0.12347999999999999, 0.04707, 2.29074], [5.314, 79.0, 0.95104, 0.87625, 0.49373999999999996, 0.39237, 0.00322, 0.56521, 2.03171], [5.303, 80.0, 0.9967299999999999, 0.86216, 0.60712, 0.36023, 0.13297, 0.14262, 2.20142], [5.291, 81.0, 1.12373, 0.76042, 0.54504, 0.35327, 0.17914000000000002, 0.0564, 2.2735], [5.279, 82.0, 0.81217, 0.87877, 0.47036000000000006, 0.5485399999999999, 0.11757000000000001, 0.21674000000000002, 2.23484], [5.245, 83.0, 1.0278, 0.79381, 0.73561, 0.44011999999999996, 0.02745, 0.049589999999999995, 2.17087], [5.196000000000001, 84.0, 0.8527, 0.9083600000000001, 0.49759, 0.46074, 0.1616, 0.48546000000000006, 1.82916], [5.185, 85.0, 0.5604399999999999, 0.95434, 0.5544899999999999, 0.40212, 0.047619999999999996, 0.38432, 2.28136], [5.1770000000000005, 86.0, 1.03437, 0.81329, 0.6458, 0.15718, 0.04339, 0.20736999999999997, 2.2753900000000002], [5.162999999999999, 87.0, 0.9338299999999999, 0.64367, 0.7076600000000001, 0.09511, 0.0, 0.29889, 2.48406], [5.1610000000000005, 88.0, 1.07838, 0.74173, 0.6353300000000001, 0.15111, 0.12721, 0.17190999999999998, 2.2553099999999997], [5.155, 89.0, 1.02787, 0.9949600000000001, 0.5766899999999999, 0.52259, 0.12372000000000001, 0.21286, 1.6962599999999999], [5.151, 90.0, 0.8405799999999999, 0.38595, 0.5947100000000001, 0.25645999999999997, 0.08404, 0.040530000000000004, 2.9489099999999997], [5.145, 91.0, 1.24142, 0.9316399999999999, 0.67608, 0.1977, 0.044719999999999996, 0.099, 1.9547299999999999], [5.132000000000001, 92.0, 0.68816, 0.26135, 0.40306, 0.14622000000000002, 0.1388, 0.31185, 3.18286], [5.129, 93.0, 1.12268, 0.64184, 0.76171, 0.26228, 0.030610000000000002, 0.23693000000000003, 2.0733900000000003], [5.122999999999999, 94.0, 1.27607, 0.9436700000000001, 0.7936300000000001, 0.44727, 0.01521, 0.11690999999999999, 1.53015], [5.121, 95.0, 1.0193, 0.78236, 0.6473800000000001, 0.27668000000000004, 0.07047, 0.23506999999999997, 2.08947], [5.061, 96.0, 0.74037, 0.7911699999999999, 0.66157, 0.5595399999999999, 0.11556, 0.25075, 1.9418], [5.0569999999999995, 97.0, 0.25558000000000003, 0.75862, 0.33108000000000004, 0.3913, 0.36794, 0.51479, 2.43801], [5.045, 98.0, 0.97724, 0.43165, 0.59577, 0.23553000000000002, 0.0817, 0.03936, 2.68413], [5.033, 99.0, 1.24886, 0.75473, 0.80029, 0.05822000000000001, 0.04127, 0.0, 2.12944], [4.996, 100.0, 0.48835, 0.75602, 0.5311899999999999, 0.43408, 0.13509000000000002, 0.25998000000000004, 2.39106], [4.907, 101.0, 0.9885299999999999, 1.0898299999999999, 0.55469, 0.35972, 0.03285, 0.34539000000000003, 1.53586], [4.876, 102.0, 0.68042, 0.5497, 0.38291, 0.52168, 0.22423, 0.43078999999999995, 2.08637], [4.875, 103.0, 0.75216, 0.64498, 0.05108, 0.27854, 0.0305, 0.23219, 2.8858599999999996], [4.871, 104.0, 0.69429, 0.7559600000000001, 0.5838300000000001, 0.26755, 0.06906, 0.2044, 2.2955099999999997], [4.813, 105.0, 1.11758, 0.38856999999999997, 0.64232, 0.22544, 0.0557, 0.38538, 1.99817], [4.795, 106.0, 0.61202, 0.6376, 0.23573000000000002, 0.42662, 0.11479, 0.17865999999999999, 2.5899099999999997], [4.793, 107.0, 0.44626000000000005, 0.69699, 0.50073, 0.37012, 0.07007999999999999, 0.3816, 2.32694], [4.754, 108.0, 0.67024, 0.71629, 0.56844, 0.17744000000000001, 0.10613, 0.11154000000000001, 2.40364], [4.655, 109.0, 0.9553, 0.50163, 0.73007, 0.31866, 0.05301, 0.1684, 1.9281599999999999], [4.643, 110.0, 0.54177, 0.24749000000000002, 0.52989, 0.39778, 0.12583, 0.19132000000000002, 2.6090400000000002], [4.635, 111.0, 0.36485, 0.628, 0.0, 0.30685, 0.08196, 0.23897, 3.01402], [4.575, 112.0, 1.07474, 0.59205, 0.51076, 0.24856, 0.13635999999999998, 0.19589, 1.81657], [4.574, 113.0, 0.9328700000000001, 0.70362, 0.34745, 0.48613999999999996, 0.10397999999999999, 0.07795, 1.92198], [4.513, 114.0, 0.5249699999999999, 0.62542, 0.12697999999999998, 0.42736, 0.06126, 0.2268, 2.5198], [4.508, 115.0, 0.29283000000000003, 0.37932, 0.34578000000000003, 0.36703, 0.1717, 0.29522, 2.65614], [4.459, 116.0, 1.02416, 0.9605299999999999, 0.18611, 0.42483000000000004, 0.08415, 0.13656, 1.6422700000000001], [4.415, 117.0, 0.9731799999999999, 0.84783, 0.62007, 0.50817, 0.07964, 0.46978000000000003, 0.91681], [4.404, 118.0, 0.74036, 0.29247, 0.45091000000000003, 0.40285, 0.08722, 0.25028, 2.18032], [4.395, 119.0, 0.34112, 0.69981, 0.3988, 0.42691999999999997, 0.20243, 0.81971, 1.50655], [4.362, 120.0, 0.95395, 0.49813, 0.5211600000000001, 0.18847, 0.10393, 0.12705999999999998, 1.96895], [4.36, 121.0, 0.8608600000000001, 0.6247699999999999, 0.64083, 0.14037, 0.036160000000000005, 0.07793, 1.9786400000000002], [4.356, 122.0, 0.52267, 0.7624, 0.30146999999999996, 0.40576, 0.06686, 0.41328000000000004, 1.88326], [4.324, 123.0, 0.87287, 1.01413, 0.58628, 0.12859, 0.01829, 0.20363, 1.50066], [4.276, 124.0, 0.63107, 0.49353, 0.29681, 0.40973000000000004, 0.0326, 0.21203000000000002, 2.2002], [4.272, 125.0, 0.05661, 0.80676, 0.188, 0.15602, 0.06075, 0.25458000000000003, 2.7492400000000004], [4.252, 126.0, 0.8379200000000001, 0.19249000000000002, 0.64035, 0.32461, 0.3188, 0.06786, 1.87031], [4.236000000000001, 127.0, 0.7710899999999999, 0.47798999999999997, 0.28212, 0.37938, 0.09752999999999999, 0.12077, 2.10681], [4.218999999999999, 128.0, 0.44314, 0.7741600000000001, 0.40457, 0.31056, 0.11681, 0.19103, 1.9786099999999998], [4.217, 129.0, 1.11306, 0.92542, 0.67806, 0.21219000000000002, 0.00615, 0.12793, 1.15377], [4.2010000000000005, 130.0, 0.6139100000000001, 0.8414200000000001, 0.28639000000000003, 0.1268, 0.17955, 0.22685999999999998, 1.9263], [4.1930000000000005, 131.0, 0.35041, 0.71478, 0.1595, 0.25429, 0.08582000000000001, 0.18503, 2.4427], [4.156000000000001, 132.0, 0.08709, 0.147, 0.29364, 0.4143, 0.07564, 0.30968, 2.82859], [4.138999999999999, 133.0, 0.63069, 0.8192799999999999, 0.29759, 0.0, 0.10039, 0.18077000000000001, 2.10995], [4.121, 134.0, 1.15851, 0.72368, 0.3494, 0.28098, 0.09314, 0.062439999999999996, 1.4533200000000002], [4.073, 135.0, 0.31292, 0.8633299999999999, 0.16347, 0.27544, 0.13647, 0.21064000000000002, 2.1108700000000002], [4.0280000000000005, 136.0, 0.34097, 0.29561, 0.27494, 0.12072000000000001, 0.14476, 0.47958, 2.3711599999999997], [3.9739999999999998, 137.0, 1.09426, 0.89186, 0.34752, 0.44088999999999995, 0.10769000000000001, 0.12425, 0.96741], [3.9560000000000004, 138.0, 0.27509, 0.60323, 0.29980999999999997, 0.15412, 0.18437, 0.1827, 2.25632], [3.9160000000000004, 139.0, 0.55507, 0.57576, 0.04476, 0.40663, 0.1553, 0.20338, 1.97478], [3.907, 140.0, 0.55604, 0.5375, 0.42494, 0.5885199999999999, 0.08092, 0.40339, 1.3157299999999998], [3.866, 141.0, 0.84731, 0.66366, 0.04991, 0.00589, 0.08434, 0.12070999999999998, 2.09459], [3.8560000000000003, 142.0, 0.1327, 0.6053, 0.26161999999999996, 0.38040999999999997, 0.17176, 0.2097, 2.09469], [3.832, 143.0, 0.39394, 0.18519000000000002, 0.15780999999999998, 0.19662000000000002, 0.13015, 0.25899, 2.50929], [3.763, 144.0, 0.42213999999999996, 0.63178, 0.038239999999999996, 0.12807000000000002, 0.04952, 0.18667, 2.3063700000000003], [3.739, 145.0, 0.31995, 0.63054, 0.21297, 0.3337, 0.12533, 0.24353000000000002, 1.8731900000000001], [3.739, 145.0, 0.34719, 0.90981, 0.19625, 0.43653000000000003, 0.06442, 0.27102, 1.51416], [3.7239999999999998, 147.0, 0.57939, 0.47493, 0.31048000000000003, 0.2287, 0.05892000000000001, 0.09821, 1.97295], [3.695, 148.0, 0.27954, 0.46115, 0.37109000000000003, 0.13684000000000002, 0.07506, 0.2204, 2.15075], [3.6660000000000004, 149.0, 0.47155, 0.77623, 0.35700000000000004, 0.3176, 0.05099, 0.31472, 1.3776899999999999], [3.622, 150.0, 0.10705999999999999, 0.50353, 0.23165, 0.25748000000000004, 0.04852, 0.24063, 2.23284], [3.6069999999999998, 151.0, 0.22415, 0.3109, 0.18829, 0.30953, 0.1192, 0.29914, 2.15604], [3.515, 152.0, 0.32846, 0.6158600000000001, 0.31865, 0.5432, 0.50521, 0.23551999999999998, 0.96819], [3.484, 153.0, 0.39499, 0.10419, 0.21028000000000002, 0.39747, 0.06681000000000001, 0.2018, 2.10812], [3.36, 154.0, 0.38227, 0.11037000000000001, 0.17344, 0.1643, 0.07112, 0.31268, 2.14558], [3.303, 155.0, 0.28123000000000004, 0.0, 0.24811, 0.34678000000000003, 0.11587, 0.17517, 2.1354], [3.069, 156.0, 0.7471899999999999, 0.14866, 0.6299399999999999, 0.06912, 0.17232999999999998, 0.48396999999999996, 0.81789], [2.905, 157.0, 0.06831, 0.23442, 0.15747, 0.0432, 0.09419, 0.2029, 2.1040400000000004]], \"geo\": \"geo\", \"hoverlabel\": {\"namelength\": 0}, \"hovertemplate\": \"<b>%{hovertext}</b><br><br>Year=2016.0<br>Happiness Score=%{z}<br>Happiness Rank=%{customdata[1]}<br>Economy (GDP per Capita)=%{customdata[2]}<br>Family=%{customdata[3]}<br>Health (Life Expectancy)=%{customdata[4]}<br>Freedom=%{customdata[5]}<br>Trust (Government Corruption)=%{customdata[6]}<br>Generosity=%{customdata[7]}<br>Dystopia Residual=%{customdata[8]}<br>Country=%{location}\", \"hovertext\": [\"Denmark\", \"Switzerland\", \"Iceland\", \"Norway\", \"Finland\", \"Canada\", \"Netherlands\", \"New Zealand\", \"Australia\", \"Sweden\", \"Israel\", \"Austria\", \"United States\", \"Costa Rica\", \"Puerto Rico\", \"Germany\", \"Brazil\", \"Belgium\", \"Ireland\", \"Luxembourg\", \"Mexico\", \"Singapore\", \"United Kingdom\", \"Chile\", \"Panama\", \"Argentina\", \"Czech Republic\", \"United Arab Emirates\", \"Uruguay\", \"Malta\", \"Colombia\", \"France\", \"Thailand\", \"Saudi Arabia\", \"Taiwan\", \"Qatar\", \"Spain\", \"Algeria\", \"Guatemala\", \"Suriname\", \"Kuwait\", \"Bahrain\", \"Trinidad and Tobago\", \"Venezuela\", \"Slovakia\", \"El Salvador\", \"Malaysia\", \"Nicaragua\", \"Uzbekistan\", \"Italy\", \"Ecuador\", \"Belize\", \"Japan\", \"Kazakhstan\", \"Moldova\", \"Russia\", \"Poland\", \"South Korea\", \"Bolivia\", \"Lithuania\", \"Belarus\", \"North Cyprus\", \"Slovenia\", \"Peru\", \"Turkmenistan\", \"Mauritius\", \"Libya\", \"Latvia\", \"Cyprus\", \"Paraguay\", \"Romania\", \"Estonia\", \"Jamaica\", \"Croatia\", \"Hong Kong\", \"Somalia\", \"Kosovo\", \"Turkey\", \"Indonesia\", \"Jordan\", \"Azerbaijan\", \"Philippines\", \"China\", \"Bhutan\", \"Kyrgyzstan\", \"Serbia\", \"Bosnia and Herzegovina\", \"Montenegro\", \"Dominican Republic\", \"Morocco\", \"Hungary\", \"Pakistan\", \"Lebanon\", \"Portugal\", \"Macedonia\", \"Vietnam\", \"Somaliland Region\", \"Tunisia\", \"Greece\", \"Tajikistan\", \"Mongolia\", \"Laos\", \"Nigeria\", \"Honduras\", \"Iran\", \"Zambia\", \"Nepal\", \"Palestinian Territories\", \"Albania\", \"Bangladesh\", \"Sierra Leone\", \"Iraq\", \"Namibia\", \"Cameroon\", \"Ethiopia\", \"South Africa\", \"Sri Lanka\", \"India\", \"Myanmar\", \"Egypt\", \"Armenia\", \"Kenya\", \"Ukraine\", \"Ghana\", \"Congo (Kinshasa)\", \"Georgia\", \"Congo (Brazzaville)\", \"Senegal\", \"Bulgaria\", \"Mauritania\", \"Zimbabwe\", \"Malawi\", \"Sudan\", \"Gabon\", \"Mali\", \"Haiti\", \"Botswana\", \"Comoros\", \"Ivory Coast\", \"Cambodia\", \"Angola\", \"Niger\", \"South Sudan\", \"Chad\", \"Burkina Faso\", \"Uganda\", \"Yemen\", \"Madagascar\", \"Tanzania\", \"Liberia\", \"Guinea\", \"Rwanda\", \"Benin\", \"Afghanistan\", \"Togo\", \"Syria\", \"Burundi\"], \"locationmode\": \"country names\", \"locations\": [\"Denmark\", \"Switzerland\", \"Iceland\", \"Norway\", \"Finland\", \"Canada\", \"Netherlands\", \"New Zealand\", \"Australia\", \"Sweden\", \"Israel\", \"Austria\", \"United States\", \"Costa Rica\", \"Puerto Rico\", \"Germany\", \"Brazil\", \"Belgium\", \"Ireland\", \"Luxembourg\", \"Mexico\", \"Singapore\", \"United Kingdom\", \"Chile\", \"Panama\", \"Argentina\", \"Czech Republic\", \"United Arab Emirates\", \"Uruguay\", \"Malta\", \"Colombia\", \"France\", \"Thailand\", \"Saudi Arabia\", \"Taiwan\", \"Qatar\", \"Spain\", \"Algeria\", \"Guatemala\", \"Suriname\", \"Kuwait\", \"Bahrain\", \"Trinidad and Tobago\", \"Venezuela\", \"Slovakia\", \"El Salvador\", \"Malaysia\", \"Nicaragua\", \"Uzbekistan\", \"Italy\", \"Ecuador\", \"Belize\", \"Japan\", \"Kazakhstan\", \"Moldova\", \"Russia\", \"Poland\", \"South Korea\", \"Bolivia\", \"Lithuania\", \"Belarus\", \"North Cyprus\", \"Slovenia\", \"Peru\", \"Turkmenistan\", \"Mauritius\", \"Libya\", \"Latvia\", \"Cyprus\", \"Paraguay\", \"Romania\", \"Estonia\", \"Jamaica\", \"Croatia\", \"Hong Kong\", \"Somalia\", \"Kosovo\", \"Turkey\", \"Indonesia\", \"Jordan\", \"Azerbaijan\", \"Philippines\", \"China\", \"Bhutan\", \"Kyrgyzstan\", \"Serbia\", \"Bosnia and Herzegovina\", \"Montenegro\", \"Dominican Republic\", \"Morocco\", \"Hungary\", \"Pakistan\", \"Lebanon\", \"Portugal\", \"Macedonia\", \"Vietnam\", \"Somaliland Region\", \"Tunisia\", \"Greece\", \"Tajikistan\", \"Mongolia\", \"Laos\", \"Nigeria\", \"Honduras\", \"Iran\", \"Zambia\", \"Nepal\", \"Palestinian Territories\", \"Albania\", \"Bangladesh\", \"Sierra Leone\", \"Iraq\", \"Namibia\", \"Cameroon\", \"Ethiopia\", \"South Africa\", \"Sri Lanka\", \"India\", \"Myanmar\", \"Egypt\", \"Armenia\", \"Kenya\", \"Ukraine\", \"Ghana\", \"Congo (Kinshasa)\", \"Georgia\", \"Congo (Brazzaville)\", \"Senegal\", \"Bulgaria\", \"Mauritania\", \"Zimbabwe\", \"Malawi\", \"Sudan\", \"Gabon\", \"Mali\", \"Haiti\", \"Botswana\", \"Comoros\", \"Ivory Coast\", \"Cambodia\", \"Angola\", \"Niger\", \"South Sudan\", \"Chad\", \"Burkina Faso\", \"Uganda\", \"Yemen\", \"Madagascar\", \"Tanzania\", \"Liberia\", \"Guinea\", \"Rwanda\", \"Benin\", \"Afghanistan\", \"Togo\", \"Syria\", \"Burundi\"], \"name\": \"\", \"z\": [7.526, 7.5089999999999995, 7.501, 7.497999999999999, 7.412999999999999, 7.404, 7.3389999999999995, 7.334, 7.313, 7.291, 7.267, 7.119, 7.104, 7.087000000000001, 7.039, 6.994, 6.952000000000001, 6.928999999999999, 6.907, 6.871, 6.778, 6.739, 6.725, 6.705, 6.7010000000000005, 6.65, 6.596, 6.5729999999999995, 6.545, 6.4879999999999995, 6.481, 6.478, 6.474, 6.379, 6.379, 6.375, 6.361000000000001, 6.355, 6.324, 6.269, 6.239, 6.218, 6.167999999999999, 6.084, 6.077999999999999, 6.068, 6.005, 5.992000000000001, 5.987, 5.977, 5.976, 5.956, 5.921, 5.919, 5.897, 5.856, 5.835, 5.835, 5.822, 5.813, 5.8020000000000005, 5.771, 5.768, 5.742999999999999, 5.6579999999999995, 5.648, 5.615, 5.56, 5.546, 5.537999999999999, 5.528, 5.517, 5.51, 5.4879999999999995, 5.457999999999999, 5.44, 5.401, 5.388999999999999, 5.314, 5.303, 5.291, 5.279, 5.245, 5.196000000000001, 5.185, 5.1770000000000005, 5.162999999999999, 5.1610000000000005, 5.155, 5.151, 5.145, 5.132000000000001, 5.129, 5.122999999999999, 5.121, 5.061, 5.0569999999999995, 5.045, 5.033, 4.996, 4.907, 4.876, 4.875, 4.871, 4.813, 4.795, 4.793, 4.754, 4.655, 4.643, 4.635, 4.575, 4.574, 4.513, 4.508, 4.459, 4.415, 4.404, 4.395, 4.362, 4.36, 4.356, 4.324, 4.276, 4.272, 4.252, 4.236000000000001, 4.218999999999999, 4.217, 4.2010000000000005, 4.1930000000000005, 4.156000000000001, 4.138999999999999, 4.121, 4.073, 4.0280000000000005, 3.9739999999999998, 3.9560000000000004, 3.9160000000000004, 3.907, 3.866, 3.8560000000000003, 3.832, 3.763, 3.739, 3.739, 3.7239999999999998, 3.695, 3.6660000000000004, 3.622, 3.6069999999999998, 3.515, 3.484, 3.36, 3.303, 3.069, 2.905], \"type\": \"choropleth\"}], \"name\": \"2016.0\"}, {\"data\": [{\"coloraxis\": \"coloraxis\", \"customdata\": [[7.537000179290769, 1.0, 1.6164631843566901, 1.53352355957031, 0.796666502952576, 0.635422587394714, 0.31596383452415505, 0.36201223731041, 2.27702665328979], [7.52199983596802, 2.0, 1.48238301277161, 1.55112159252167, 0.7925655245780941, 0.626006722450256, 0.40077006816863997, 0.3552804887294771, 2.31370735168457], [7.50400018692017, 3.0, 1.480633020401, 1.6105740070343, 0.8335521221160892, 0.6271626353263849, 0.15352655947208402, 0.47554022073745705, 2.32271528244019], [7.49399995803833, 4.0, 1.5649795532226598, 1.51691174507141, 0.858131289482117, 0.620070576667786, 0.36700728535652205, 0.29054927825927696, 2.2767162322998], [7.468999862670901, 5.0, 1.44357192516327, 1.5402467250824, 0.80915766954422, 0.6179508566856379, 0.38261154294014, 0.24548277258873, 2.4301815032958998], [7.3769998550415, 6.0, 1.50394463539124, 1.42893922328949, 0.8106961250305179, 0.5853844881057739, 0.282661825418472, 0.47048982977867104, 2.29480409622192], [7.31599998474121, 7.0, 1.47920441627502, 1.48134899139404, 0.83455765247345, 0.611100912094116, 0.287371516227722, 0.435539722442627, 2.18726444244385], [7.31400012969971, 8.0, 1.40570604801178, 1.54819512367249, 0.816759705543518, 0.6140621304512021, 0.38281670212745705, 0.500005125999451, 2.0464563369751], [7.28399991989136, 9.0, 1.49438726902008, 1.47816216945648, 0.830875158309937, 0.612924098968506, 0.384398728609085, 0.38539925217628496, 2.09753799438477], [7.28399991989136, 10.0, 1.4844149351120002, 1.5100419521331798, 0.84388679265976, 0.601607382297516, 0.301183730363846, 0.47769924998283403, 2.06521081924438], [7.212999820709231, 11.0, 1.3753824234008798, 1.37628996372223, 0.83840399980545, 0.40598860383033797, 0.0852421000599861, 0.330082654953003, 2.80175733566284], [7.0789999961853, 12.0, 1.10970628261566, 1.4164036512374898, 0.7595092654228209, 0.580131649971008, 0.100106589496136, 0.21461322903633104, 2.89863920211792], [7.00600004196167, 13.0, 1.4870972633361799, 1.4599449634552, 0.8153284192085269, 0.567766189575195, 0.22106036543846105, 0.316472321748734, 2.1385064125061004], [6.993000030517581, 14.0, 1.54625928401947, 1.4199205636978103, 0.7742866277694699, 0.505740523338318, 0.135638788342476, 0.392578780651093, 2.2181134223937997], [6.9770002365112305, 15.0, 1.5357066392898602, 1.5582311153411899, 0.8097826242446899, 0.5731103420257571, 0.29838815331459007, 0.42785832285881, 1.77386903762817], [6.9510002136230495, 16.0, 1.48792338371277, 1.47252035140991, 0.798950731754303, 0.562511384487152, 0.276731938123703, 0.33626917004585305, 2.01576995849609], [6.89099979400635, 17.0, 1.4637807607650801, 1.4623126983642598, 0.8180918693542479, 0.5397707223892211, 0.251343131065369, 0.23150333762168898, 2.12421035766602], [6.86299991607666, 18.0, 1.74194359779358, 1.45758366584778, 0.845089495182037, 0.59662789106369, 0.31883442401886, 0.283180981874466, 1.61951208114624], [6.71400022506714, 19.0, 1.44163393974304, 1.4964600801467902, 0.805335938930511, 0.508190035820007, 0.265428066253662, 0.492774158716202, 1.7041435241699199], [6.65199995040894, 20.0, 1.25278460979462, 1.28402495384216, 0.8194797039031979, 0.376895278692245, 0.0822879821062088, 0.3266624212265011, 2.5095858573913596], [6.6479997634887695, 21.0, 1.6263433694839498, 1.2664102315902699, 0.726798236370087, 0.60834527015686, 0.324489563703537, 0.3609419465065, 1.734703540802], [6.6350002288818395, 22.0, 1.1073532104492199, 1.43130600452423, 0.6165523529052729, 0.437453746795654, 0.11109276115894301, 0.16234989464282998, 2.7692670822143595], [6.60900020599365, 23.0, 1.35268235206604, 1.4338852167129499, 0.754444003105164, 0.49094617366790794, 0.0368729270994663, 0.0881067588925362, 2.45186185836792], [6.59899997711182, 24.0, 1.18529546260834, 1.44045114517212, 0.695137083530426, 0.49451920390129106, 0.05973988771438599, 0.109457060694695, 2.61400532722473], [6.57800006866455, 25.0, 1.1531838178634601, 1.2108621597290001, 0.709978997707367, 0.412730008363724, 0.132774114608765, 0.12099043279886199, 2.8371548652648904], [6.57200002670288, 26.0, 1.69227766990662, 1.35381436347961, 0.9494923949241642, 0.549840569496155, 0.46430778503417997, 0.345965981483459, 1.2163619995117199], [6.52699995040894, 27.0, 1.34327983856201, 1.48841166496277, 0.821944236755371, 0.588767051696777, 0.153066068887711, 0.5747305750846861, 1.55686283111572], [6.4539999961853, 28.0, 1.2175596952438401, 1.4122278690338101, 0.719216823577881, 0.5793922543525699, 0.17806187272071802, 0.175096929073334, 2.17240953445435], [6.4539999961853, 29.0, 0.872001945972443, 1.25558519363403, 0.540239989757538, 0.5313106179237371, 0.0772232785820961, 0.283488392829895, 2.89389109611511], [6.4520001411438, 30.0, 1.23374843597412, 1.3731925487518302, 0.706156134605408, 0.550026834011078, 0.070983923971653, 0.21055693924427, 2.30719995498657], [6.44199991226196, 31.0, 1.43092346191406, 1.38777685165405, 0.8444658517837521, 0.470222115516663, 0.172502428293228, 0.129762306809425, 2.00595474243164], [6.4239997863769505, 32.0, 1.12786877155304, 1.4257924556732198, 0.647239029407501, 0.580200731754303, 0.0316127352416515, 0.572123110294342, 2.03950834274292], [6.42199993133545, 33.0, 1.4336265325546298, 1.38456535339355, 0.793984234333038, 0.361466586589813, 0.0638292357325554, 0.258360475301743, 2.1266074180603], [6.40299987792969, 34.0, 1.38439786434174, 1.53209090232849, 0.888960599899292, 0.408781230449677, 0.0709140971302986, 0.190133571624756, 1.92775774002075], [6.375, 35.0, 1.8707656860351598, 1.27429687976837, 0.7100980877876278, 0.604130983352661, 0.43929925560951205, 0.33047387003898604, 1.1454644203186002], [6.35699987411499, 36.0, 1.07062232494354, 1.4021829366683998, 0.595027923583984, 0.47748741507530196, 0.0466687418520451, 0.14901447296142598, 2.6160681247711204], [6.343999862670901, 37.0, 1.53062355518341, 1.28667759895325, 0.590148329734802, 0.449750572443008, 0.27343225479126004, 0.147616013884544, 2.0654296875], [6.1680002212524405, 38.0, 1.36135590076447, 1.3802285194397, 0.5199832916259771, 0.518630743026733, 0.00896481610834599, 0.32529646158218395, 2.0532474517822297], [6.10500001907349, 39.0, 1.63295245170593, 1.25969874858856, 0.6321057081222529, 0.49633759260177596, 0.21515955030918102, 0.228289797902107, 1.64042520523071], [6.09800004959106, 40.0, 1.32539355754852, 1.5050592422485398, 0.712732911109924, 0.295817464590073, 0.0242108516395092, 0.136544480919838, 2.09777665138245], [6.08699989318848, 41.0, 1.4884122610092199, 1.3231104612350502, 0.653133034706116, 0.536746919155121, 0.257042169570923, 0.17266848683357197, 1.65614938735962], [6.08400011062622, 42.0, 1.29121541976929, 1.28464603424072, 0.618784427642822, 0.40226498246192893, 0.0656007081270218, 0.416608929634094, 2.00444889068604], [6.07100009918213, 43.0, 0.737299203872681, 1.28721570968628, 0.6530959606170649, 0.447551846504211, 0.130687981843948, 0.301674216985703, 2.51393055915833], [6.00799989700317, 44.0, 1.00082039833069, 1.2861688137054401, 0.685636222362518, 0.4551981985569, 0.140134647488594, 0.15011246502399403, 2.29035258293152], [6.002999782562259, 45.0, 0.9097844958305359, 1.1821250915527302, 0.596018552780151, 0.432452529668808, 0.0899809598922729, 0.0782579854130745, 2.7145938873291002], [5.97300004959106, 46.0, 1.29178786277771, 1.44571197032928, 0.699475347995758, 0.520342111587524, 0.0593078061938286, 0.158465966582298, 1.7977228164672898], [5.97100019454956, 47.0, 0.786441087722778, 1.5489691495895401, 0.498272627592087, 0.6582486629486078, 0.246528223156929, 0.41598364710807795, 1.8169136047363301], [5.96400022506714, 48.0, 1.3950666189193701, 1.44492328166962, 0.8531443476676941, 0.256450712680817, 0.0280280914157629, 0.17278964817523998, 1.81331205368042], [5.962999820709231, 49.0, 1.28177809715271, 1.46928238868713, 0.547349333763123, 0.373783111572266, 0.0329628810286522, 0.0522638224065304, 2.20560741424561], [5.955999851226809, 50.0, 0.907975316047668, 1.0814177989959701, 0.45019176602363603, 0.5475093722343439, 0.0965810716152191, 0.24001564085483604, 2.63195562362671], [5.92000007629395, 51.0, 1.41691517829895, 1.43633782863617, 0.9134758710861209, 0.505625545978546, 0.163760736584663, 0.12057276815175999, 1.36322355270386], [5.90199995040894, 52.0, 1.3145823478698702, 1.47351610660553, 0.62894994020462, 0.234231784939766, 0.0118656428530812, 0.010164656676352, 2.22844052314758], [5.872000217437741, 53.0, 1.09186446666718, 1.1462174654007, 0.6175846457481379, 0.233335807919502, 0.14609611034393302, 0.0694366469979286, 2.5676038265228303], [5.849999904632571, 54.0, 1.26074862480164, 1.40471494197845, 0.638566970825195, 0.32570791244506797, 0.0738427266478539, 0.153074786067009, 1.9936552047729499], [5.837999820709231, 55.0, 1.40167844295502, 1.1282744407653797, 0.900214076042175, 0.257921665906906, 0.0632826685905457, 0.206674367189407, 1.8803780078887902], [5.837999820709231, 56.0, 0.7288706302642819, 1.25182557106018, 0.5894652009010309, 0.24072904884815197, 0.0100912861526012, 0.20877912640571603, 2.80780839920044], [5.824999809265139, 57.0, 1.21768391132355, 1.15009129047394, 0.6851583123207089, 0.457003742456436, 0.0043879006989300294, 0.133519917726517, 2.17683148384094], [5.82299995422363, 58.0, 0.833756566047668, 1.2276190519332901, 0.47363024950027505, 0.5587329268455511, 0.0604777261614799, 0.22556072473526, 2.4432790279388397], [5.82200002670288, 59.0, 1.1307767629623402, 1.49314916133881, 0.437726080417633, 0.41827192902565, 0.25927034020423895, 0.24992498755454998, 1.83290982246399], [5.8189997673034695, 60.0, 1.2845562696456898, 1.3843690156936599, 0.6060415506362921, 0.43745428323745705, 0.11928288638591802, 0.20196442306041698, 1.7848925590515101], [5.80999994277954, 61.0, 1.3469113111496, 1.18630337715149, 0.834647238254547, 0.47120362520217896, 0.155353352427483, 0.266845703125, 1.5491576194763201], [5.75799989700317, 62.0, 1.3412059545516999, 1.4525188207626298, 0.7908282279968258, 0.572575807571411, 0.0451289787888527, 0.242649093270302, 1.31331729888916], [5.71500015258789, 63.0, 1.0352252721786501, 1.21877038478851, 0.6301661133766171, 0.45000287890434293, 0.0470490865409374, 0.126819714903831, 2.2072694301605202], [5.62900018692017, 64.0, 1.1893955469131499, 1.20956099033356, 0.6380074620246889, 0.491247326135635, 0.0421815551817417, 0.360933750867844, 1.6975839138031], [5.62099981307983, 65.0, 1.3559380769729599, 1.13136327266693, 0.84471470117569, 0.35511153936386103, 0.0412379764020443, 0.271254301071167, 1.62124919891357], [5.61100006103516, 66.0, 1.3208793401718102, 1.47667109966278, 0.695168316364288, 0.479131430387497, 0.18324892222881303, 0.0988908112049103, 1.35750865936279], [5.5689997673034695, 67.0, 1.15655755996704, 1.4449452161788898, 0.6377142667770389, 0.295400261878967, 0.156313821673393, 0.15513750910759, 1.72323298454285], [5.525000095367429, 68.0, 1.1018030643463101, 1.3575643301010099, 0.520169019699097, 0.465733230113983, 0.0926102101802826, 0.15207366645336198, 1.8350112438201898], [5.5, 69.0, 1.1982743740081798, 1.33775317668915, 0.6376056075096129, 0.300740599632263, 0.0996715798974037, 0.0466930419206619, 1.87927794456482], [5.493000030517581, 70.0, 0.932537317276001, 1.50728487968445, 0.579250693321228, 0.473507791757584, 0.091065913438797, 0.224150657653809, 1.6853334903716999], [5.47200012207031, 71.0, 1.55167484283447, 1.26279091835022, 0.943062424659729, 0.490968644618988, 0.29393374919891396, 0.374465793371201, 0.554633140563965], [5.42999982833862, 72.0, 0.85769921541214, 1.25391757488251, 0.46800905466079706, 0.585214674472809, 0.0993318930268288, 0.193513423204422, 1.9726047515869098], [5.39499998092651, 73.0, 1.06931757926941, 1.2581897974014298, 0.65078467130661, 0.20871552824974102, 0.0409037806093693, 0.22012588381767298, 1.94708442687988], [5.33599996566772, 74.0, 0.9910123944282528, 1.2390888929367099, 0.6045900583267211, 0.418421149253845, 0.11980327218771002, 0.17217046022415197, 1.79117655754089], [5.32399988174438, 75.0, 1.2860119342803997, 1.34313309192657, 0.6877634525299069, 0.17586351931095098, 0.0366369374096394, 0.0784016624093056, 1.7164592742919902], [5.31099987030029, 76.0, 0.925579309463501, 1.3682180643081698, 0.6410223841667181, 0.474307239055634, 0.0552677810192108, 0.23381833732128102, 1.61232566833496], [5.2930002212524405, 77.0, 1.22255623340607, 0.9679830074310299, 0.701288521289825, 0.255772292613983, 0.0431031100451946, 0.248002976179123, 1.85449242591858], [5.27899980545044, 78.0, 0.951484382152557, 1.1378535032272301, 0.541452050209045, 0.260287940502167, 0.0574716180562973, 0.319931447505951, 2.0105407238006596], [5.2729997634887695, 79.0, 1.08116579055786, 1.16083741188049, 0.741415500640869, 0.47278770804405196, 0.0227942746132612, 0.0288068410009146, 1.76493859291077], [5.26900005340576, 80.0, 0.7268835306167599, 0.6726906895637509, 0.40204778313636796, 0.23521526157856, 0.12434806674718901, 0.31544601917266807, 2.7924892902374303], [5.26200008392334, 81.0, 0.995538592338562, 1.2744446992874099, 0.49234572052955605, 0.443323463201523, 0.0153171354904771, 0.611704587936401, 1.42947697639465], [5.25, 82.0, 1.12843120098114, 1.43133759498596, 0.617144227027893, 0.15399712324142498, 0.0644911229610443, 0.0650196298956871, 1.78946375846863], [5.23699998855591, 83.0, 1.12112903594971, 1.23837649822235, 0.6674646735191351, 0.194989055395126, 0.0881741940975189, 0.197911024093628, 1.72919154167175], [5.2350001335144, 84.0, 0.8781145811080929, 0.774864435195923, 0.59771066904068, 0.408158332109451, 0.0877631828188896, 0.0322099551558495, 2.45618939399719], [5.234000205993651, 85.0, 1.1536017656326298, 1.15240025520325, 0.5407757759094239, 0.39815583825111406, 0.180987507104874, 0.0452693402767181, 1.7624816894531203], [5.230000019073491, 86.0, 1.07937383651733, 1.4024167060852097, 0.574873745441437, 0.55258983373642, 0.113945253193378, 0.186967849731445, 1.3194651603698702], [5.2270002365112305, 87.0, 1.28948748111725, 1.23941457271576, 0.8101989030838009, 0.0957312509417534, 0.043289776891470004, 0.0, 1.74922156333923], [5.22499990463257, 88.0, 1.07498753070831, 1.1296242475509601, 0.7350810766220089, 0.28851598501205394, 0.037513829767704, 0.26445075869560203, 1.69507384300232], [5.19500017166138, 89.0, 1.3151752948761002, 1.36704301834106, 0.795843541622162, 0.498465299606323, 0.0158694516867399, 0.0951027125120163, 1.10768270492554], [5.18200016021729, 90.0, 0.982409417629242, 1.0693359375, 0.705186307430267, 0.204403176903725, 0.0, 0.328867495059967, 1.89217257499695], [5.1810002326965305, 91.0, 0.730573117733002, 1.14394497871399, 0.582569479942322, 0.348079860210419, 0.0733454525470734, 0.23618887364864302, 2.0658111572265603], [5.175000190734861, 92.0, 1.06457793712616, 1.20789301395416, 0.644948184490204, 0.325905978679657, 0.0602777935564518, 0.25376096367836, 1.6174693107605], [5.151000022888179, 93.0, 0.0226431842893362, 0.7211513519287109, 0.11398913711309401, 0.602126955986023, 0.28241032361984303, 0.291631311178207, 3.11748456954956], [5.07399988174438, 94.0, 0.7885475754737851, 1.27749133110046, 0.6521689891815191, 0.571055591106415, 0.0876332372426987, 0.23496805131435397, 1.46231865882874], [5.07399988174438, 95.0, 0.783756256103516, 1.21577048301697, 0.0569157302379608, 0.394952565431595, 0.0261215660721064, 0.23094719648361198, 2.36539053916931], [5.04099988937378, 96.0, 0.524713635444641, 1.27146327495575, 0.5292351245880129, 0.47156670689582797, 0.14637714624404902, 0.24899764358997303, 1.8490493297576898], [5.01100015640259, 97.0, 0.885416388511658, 1.3401265144348102, 0.495879292488098, 0.5015376806259161, 0.17338038980960802, 0.474054545164108, 1.14018440246582], [5.0040001869201705, 98.0, 0.5962200760841371, 1.39423859119415, 0.553457796573639, 0.454943388700485, 0.0394391790032387, 0.42858037352562, 1.5367231369018601], [4.961999893188481, 99.0, 0.479820191860199, 1.17928326129913, 0.504130780696869, 0.44030594825744607, 0.0729755461215973, 0.39409616589546204, 1.8912410736084], [4.95499992370605, 100.0, 1.0272358655929599, 1.4930112361908001, 0.557783484458923, 0.39414396882057207, 0.0329022891819477, 0.338464230298996, 1.1112923622131299], [4.8289999961853, 101.0, 1.05469870567322, 1.38478863239288, 0.18708007037639604, 0.479246735572815, 0.0725094974040985, 0.13936237990856198, 1.51090860366821], [4.80499982833862, 102.0, 1.00726580619812, 0.8683514595031742, 0.613212049007416, 0.289680689573288, 0.0867231488227844, 0.0496933571994305, 1.8902511596679699], [4.77500009536743, 103.0, 0.716249227523804, 1.1556471586227401, 0.565666973590851, 0.25471106171608, 0.0892826020717621, 0.114173173904419, 1.8788902759552], [4.7350001335144, 104.0, 0.989701807498932, 0.997471392154694, 0.520187258720398, 0.28211015462875394, 0.114381365478039, 0.128631442785263, 1.70216107368469], [4.71400022506714, 105.0, 1.1614590883255, 1.4343794584274299, 0.708217680454254, 0.28923171758651695, 0.0110515309497714, 0.113177694380283, 0.996139287948608], [4.70900011062622, 106.0, 0.36842092871666, 0.984136044979095, 0.005564753897488121, 0.318697690963745, 0.0710951760411263, 0.293040901422501, 2.66845989227295], [4.69500017166138, 107.0, 0.564305365085602, 0.946018218994141, 0.132892116904259, 0.430388748645782, 0.0513066314160824, 0.23629845678806302, 2.3336455821991], [4.69199991226196, 108.0, 1.15687310695648, 0.7115512490272521, 0.639333188533783, 0.24932260811328896, 0.048761073499918005, 0.387242913246155, 1.49873495101929], [4.64400005340576, 109.0, 0.996192753314972, 0.8036852478981021, 0.731159746646881, 0.381498634815216, 0.0398642159998417, 0.20131294429302202, 1.49044156074524], [4.60799980163574, 110.0, 0.586682975292206, 0.735131740570068, 0.533241033554077, 0.478356659412384, 0.123717859387398, 0.17225535213947304, 1.9787361621856698], [4.57399988174438, 111.0, 0.964434325695038, 1.0984708070755, 0.33861181139946, 0.520303547382355, 0.0931469723582268, 0.0771337449550629, 1.4818902015686002], [4.55299997329712, 112.0, 0.560479462146759, 1.0679507255554201, 0.30998834967613204, 0.45276376605033897, 0.0646413192152977, 0.444860309362411, 1.6519021987915001], [4.550000190734861, 113.0, 0.23430564999580397, 0.870701014995575, 0.10665443539619399, 0.48079109191894503, 0.17943638563156103, 0.322228103876114, 2.3556509017944305], [4.54500007629395, 114.0, 0.36711055040359497, 1.12323594093323, 0.397522568702698, 0.514492034912109, 0.188816204667091, 0.8380751609802249, 1.11529040336609], [4.53499984741211, 115.0, 0.479309022426605, 1.17969191074371, 0.409362852573395, 0.37792226672172496, 0.11546044796705199, 0.183468893170357, 1.78964614868164], [4.513999938964839, 116.0, 0.6364067792892459, 1.00318729877472, 0.25783589482307395, 0.461603492498398, 0.0782135501503944, 0.249580144882202, 1.82670545578003], [4.49700021743774, 117.0, 1.1027104854583702, 0.978613197803497, 0.501180469989777, 0.288555532693863, 0.10721575468778599, 0.19963726401329, 1.31890726089478], [4.46500015258789, 118.0, 1.1982102394104, 1.1556202173233001, 0.35657858848571794, 0.31232857704162603, 0.0760467872023582, 0.0437853783369064, 1.3229162693023702], [4.46000003814697, 119.0, 0.339233845472336, 0.8646692037582401, 0.35340970754623396, 0.408842742443085, 0.16545571386814098, 0.31265074014663696, 2.01574373245239], [4.44000005722046, 120.0, 1.00985014438629, 1.25997638702393, 0.625130832195282, 0.561213254928589, 0.0736539661884308, 0.49086356163024897, 0.41938924789428705], [4.37599992752075, 121.0, 0.900596737861633, 1.00748372077942, 0.637524425983429, 0.198303267359734, 0.0266744215041399, 0.0834880918264389, 1.5214991569518999], [4.31500005722046, 122.0, 0.7922212481498722, 0.754372596740723, 0.455427616834641, 0.469987004995346, 0.0922268852591515, 0.23153848946094502, 1.5191171169281], [4.29199981689453, 123.0, 0.6484572887420649, 1.2720308303833001, 0.285349279642105, 0.0960980430245399, 0.136957004666328, 0.201870024204254, 1.65163731575012], [4.29099988937378, 124.0, 0.8089642524719242, 0.8320443630218509, 0.28995743393898, 0.4350258708000179, 0.0796181336045265, 0.12085212767124198, 1.7241356372833299], [4.28599977493286, 125.0, 0.950612664222717, 0.57061493396759, 0.649546980857849, 0.309410035610199, 0.25166663527488703, 0.0540088154375553, 1.50013780593872], [4.2800002098083505, 126.0, 0.0921023488044739, 1.22902345657349, 0.191407024860382, 0.235961347818375, 0.0602413564920425, 0.246455833315849, 2.22495865821838], [4.19000005722046, 127.0, 0.476180493831635, 1.2814733982086202, 0.16936567425727803, 0.306613743305206, 0.10497024655342098, 0.183354198932648, 1.66819095611572], [4.17999982833862, 128.0, 0.6030489206314089, 0.904780030250549, 0.0486421696841717, 0.4477061927318571, 0.130061775445938, 0.201237469911575, 1.84496426582336], [4.1680002212524405, 129.0, 0.6017650961875921, 1.00623834133148, 0.429783403873444, 0.633375823497772, 0.0681059509515762, 0.385922968387604, 1.04294109344482], [4.138999938964839, 130.0, 0.6595166921615601, 1.21400856971741, 0.290920823812485, 0.0149958552792668, 0.089847519993782, 0.182317450642586, 1.6870658397674598], [4.11999988555908, 131.0, 0.667224824428558, 0.873664736747742, 0.29563772678375205, 0.423026293516159, 0.0253363698720932, 0.25692394375801103, 1.57786750793457], [4.09600019454956, 132.0, 0.89465194940567, 1.39453756809235, 0.575903952121735, 0.12297477573156401, 0.0230294708162546, 0.270061463117599, 0.8143823146820072], [4.08099985122681, 133.0, 0.381430715322495, 1.12982773780823, 0.21763260662555703, 0.443185955286026, 0.057069718837738, 0.32576605677604703, 1.526362657547], [4.03200006484985, 134.0, 0.35022771358490007, 1.04328000545502, 0.21584425866603896, 0.32436785101890603, 0.12032810598611803, 0.250864684581757, 1.72721290588379], [4.02799987792969, 135.0, 0.16192533075809498, 0.993025004863739, 0.26850500702858, 0.36365869641304, 0.13857294619083402, 0.22867384552955602, 1.87398338317871], [3.97000002861023, 136.0, 0.233442038297653, 0.5125688314437871, 0.315089583396912, 0.466914653778076, 0.0727116540074348, 0.28717046976089505, 2.08178615570068], [3.9360001087188703, 137.0, 0.43801298737525896, 0.953855872154236, 0.0411347150802612, 0.16234202682972002, 0.0535818822681904, 0.21611385047435802, 2.07123804092407], [3.875, 138.0, 0.37584653496742204, 1.08309590816498, 0.19676375389099102, 0.336384207010269, 0.0953753814101219, 0.189143493771553, 1.59797024726868], [3.80800008773804, 139.0, 0.521021246910095, 1.19009518623352, 0.0, 0.390661299228668, 0.119094640016556, 0.157497271895409, 1.42983531951904], [3.79500007629395, 140.0, 0.8584281802177429, 1.1044119596481299, 0.0498686656355858, 0.0, 0.0697203353047371, 0.09792649000883098, 1.6144824028015101], [3.7939999103546103, 141.0, 0.401477217674255, 0.581543326377869, 0.18074677884578697, 0.106179520487785, 0.0611578300595284, 0.311870932579041, 2.15080118179321], [3.7660000324249303, 142.0, 1.12209415435791, 1.2215549945831299, 0.34175550937652605, 0.505196332931519, 0.0985831990838051, 0.0993484482169151, 0.37791371345520003], [3.65700006484985, 143.0, 0.43108540773391707, 0.43529984354972795, 0.20993021130561804, 0.42596277594566295, 0.0609290152788162, 0.207948461174965, 1.88563096523285], [3.64400005340576, 144.0, 0.305808693170547, 0.9130203723907471, 0.375223308801651, 0.18919676542282102, 0.0672319754958153, 0.208732530474663, 1.58461260795593], [3.6029999256133998, 145.0, 0.368610262870789, 0.640449821949005, 0.277321130037308, 0.0303698573261499, 0.0998721495270729, 0.48920378088951094, 1.69716763496399], [3.59299993515015, 146.0, 0.5916834473609921, 0.93538224697113, 0.310080915689468, 0.24946372210979503, 0.0567674227058887, 0.104125209152699, 1.3456006050109899], [3.5910000801086404, 147.0, 0.39724862575531, 0.601323127746582, 0.163486003875732, 0.147062435746193, 0.116793513298035, 0.285670816898346, 1.8795673847198502], [3.5329999923706095, 148.0, 0.11904179304838199, 0.8721179366111759, 0.229918196797371, 0.33288118243217496, 0.0389482490718365, 0.26654988527298, 1.6732859611511202], [3.50699996948242, 149.0, 0.24454993009567302, 0.7912446856498722, 0.194129139184952, 0.348587512969971, 0.110937617719173, 0.264815092086792, 1.55231189727783], [3.4949998855590803, 150.0, 0.30544471740722695, 0.4318825304508211, 0.247105568647385, 0.38042613863945, 0.0956650152802467, 0.19689615070819896, 1.8372292518615703], [3.47099995613098, 151.0, 0.368745893239975, 0.945707023143768, 0.326424807310104, 0.5818438529968261, 0.455220013856888, 0.25275602936744695, 0.540061235427856], [3.46199989318848, 152.0, 0.777153134346008, 0.396102607250214, 0.5005333423614501, 0.0815394446253777, 0.15134713053703303, 0.49366372823715204, 1.06157350540161], [3.34899997711182, 153.0, 0.511135876178741, 1.04198980331421, 0.364509284496307, 0.390017777681351, 0.0660351067781448, 0.354256361722946, 0.621130466461182], [2.90499997138977, 154.0, 0.09162256866693501, 0.629793584346771, 0.151610791683197, 0.0599007532000542, 0.0841479450464249, 0.20443518459796897, 1.68302416801453], [2.69300007820129, 155.0, 0.0, 0.0, 0.0187726859003305, 0.270842045545578, 0.0565650761127472, 0.280876487493515, 2.06600475311279]], \"geo\": \"geo\", \"hoverlabel\": {\"namelength\": 0}, \"hovertemplate\": \"<b>%{hovertext}</b><br><br>Year=2017.0<br>Happiness Score=%{z}<br>Happiness Rank=%{customdata[1]}<br>Economy (GDP per Capita)=%{customdata[2]}<br>Family=%{customdata[3]}<br>Health (Life Expectancy)=%{customdata[4]}<br>Freedom=%{customdata[5]}<br>Trust (Government Corruption)=%{customdata[6]}<br>Generosity=%{customdata[7]}<br>Dystopia Residual=%{customdata[8]}<br>Country=%{location}\", \"hovertext\": [\"Norway\", \"Denmark\", \"Iceland\", \"Switzerland\", \"Finland\", \"Netherlands\", \"Canada\", \"New Zealand\", \"Sweden\", \"Australia\", \"Israel\", \"Costa Rica\", \"Austria\", \"United States\", \"Ireland\", \"Germany\", \"Belgium\", \"Luxembourg\", \"United Kingdom\", \"Chile\", \"United Arab Emirates\", \"Brazil\", \"Czech Republic\", \"Argentina\", \"Mexico\", \"Singapore\", \"Malta\", \"Uruguay\", \"Guatemala\", \"Panama\", \"France\", \"Thailand\", \"Taiwan Province of China\", \"Spain\", \"Qatar\", \"Colombia\", \"Saudi Arabia\", \"Trinidad and Tobago\", \"Kuwait\", \"Slovakia\", \"Bahrain\", \"Malaysia\", \"Nicaragua\", \"Ecuador\", \"El Salvador\", \"Poland\", \"Uzbekistan\", \"Italy\", \"Russia\", \"Belize\", \"Japan\", \"Lithuania\", \"Algeria\", \"Latvia\", \"South Korea\", \"Moldova\", \"Romania\", \"Bolivia\", \"Turkmenistan\", \"Kazakhstan\", \"North Cyprus\", \"Slovenia\", \"Peru\", \"Mauritius\", \"Cyprus\", \"Estonia\", \"Belarus\", \"Libya\", \"Turkey\", \"Paraguay\", \"Hong Kong S.A.R., China\", \"Philippines\", \"Serbia\", \"Jordan\", \"Hungary\", \"Jamaica\", \"Croatia\", \"Kosovo\", \"China\", \"Pakistan\", \"Indonesia\", \"Venezuela\", \"Montenegro\", \"Morocco\", \"Azerbaijan\", \"Dominican Republic\", \"Greece\", \"Lebanon\", \"Portugal\", \"Bosnia and Herzegovina\", \"Honduras\", \"Macedonia\", \"Somalia\", \"Vietnam\", \"Nigeria\", \"Tajikistan\", \"Bhutan\", \"Kyrgyzstan\", \"Nepal\", \"Mongolia\", \"South Africa\", \"Tunisia\", \"Palestinian Territories\", \"Egypt\", \"Bulgaria\", \"Sierra Leone\", \"Cameroon\", \"Iran\", \"Albania\", \"Bangladesh\", \"Namibia\", \"Kenya\", \"Mozambique\", \"Myanmar\", \"Senegal\", \"Zambia\", \"Iraq\", \"Gabon\", \"Ethiopia\", \"Sri Lanka\", \"Armenia\", \"India\", \"Mauritania\", \"Congo (Brazzaville)\", \"Georgia\", \"Congo (Kinshasa)\", \"Mali\", \"Ivory Coast\", \"Cambodia\", \"Sudan\", \"Ghana\", \"Ukraine\", \"Uganda\", \"Burkina Faso\", \"Niger\", \"Malawi\", \"Chad\", \"Zimbabwe\", \"Lesotho\", \"Angola\", \"Afghanistan\", \"Botswana\", \"Benin\", \"Madagascar\", \"Haiti\", \"Yemen\", \"South Sudan\", \"Liberia\", \"Guinea\", \"Togo\", \"Rwanda\", \"Syria\", \"Tanzania\", \"Burundi\", \"Central African Republic\"], \"locationmode\": \"country names\", \"locations\": [\"Norway\", \"Denmark\", \"Iceland\", \"Switzerland\", \"Finland\", \"Netherlands\", \"Canada\", \"New Zealand\", \"Sweden\", \"Australia\", \"Israel\", \"Costa Rica\", \"Austria\", \"United States\", \"Ireland\", \"Germany\", \"Belgium\", \"Luxembourg\", \"United Kingdom\", \"Chile\", \"United Arab Emirates\", \"Brazil\", \"Czech Republic\", \"Argentina\", \"Mexico\", \"Singapore\", \"Malta\", \"Uruguay\", \"Guatemala\", \"Panama\", \"France\", \"Thailand\", \"Taiwan Province of China\", \"Spain\", \"Qatar\", \"Colombia\", \"Saudi Arabia\", \"Trinidad and Tobago\", \"Kuwait\", \"Slovakia\", \"Bahrain\", \"Malaysia\", \"Nicaragua\", \"Ecuador\", \"El Salvador\", \"Poland\", \"Uzbekistan\", \"Italy\", \"Russia\", \"Belize\", \"Japan\", \"Lithuania\", \"Algeria\", \"Latvia\", \"South Korea\", \"Moldova\", \"Romania\", \"Bolivia\", \"Turkmenistan\", \"Kazakhstan\", \"North Cyprus\", \"Slovenia\", \"Peru\", \"Mauritius\", \"Cyprus\", \"Estonia\", \"Belarus\", \"Libya\", \"Turkey\", \"Paraguay\", \"Hong Kong S.A.R., China\", \"Philippines\", \"Serbia\", \"Jordan\", \"Hungary\", \"Jamaica\", \"Croatia\", \"Kosovo\", \"China\", \"Pakistan\", \"Indonesia\", \"Venezuela\", \"Montenegro\", \"Morocco\", \"Azerbaijan\", \"Dominican Republic\", \"Greece\", \"Lebanon\", \"Portugal\", \"Bosnia and Herzegovina\", \"Honduras\", \"Macedonia\", \"Somalia\", \"Vietnam\", \"Nigeria\", \"Tajikistan\", \"Bhutan\", \"Kyrgyzstan\", \"Nepal\", \"Mongolia\", \"South Africa\", \"Tunisia\", \"Palestinian Territories\", \"Egypt\", \"Bulgaria\", \"Sierra Leone\", \"Cameroon\", \"Iran\", \"Albania\", \"Bangladesh\", \"Namibia\", \"Kenya\", \"Mozambique\", \"Myanmar\", \"Senegal\", \"Zambia\", \"Iraq\", \"Gabon\", \"Ethiopia\", \"Sri Lanka\", \"Armenia\", \"India\", \"Mauritania\", \"Congo (Brazzaville)\", \"Georgia\", \"Congo (Kinshasa)\", \"Mali\", \"Ivory Coast\", \"Cambodia\", \"Sudan\", \"Ghana\", \"Ukraine\", \"Uganda\", \"Burkina Faso\", \"Niger\", \"Malawi\", \"Chad\", \"Zimbabwe\", \"Lesotho\", \"Angola\", \"Afghanistan\", \"Botswana\", \"Benin\", \"Madagascar\", \"Haiti\", \"Yemen\", \"South Sudan\", \"Liberia\", \"Guinea\", \"Togo\", \"Rwanda\", \"Syria\", \"Tanzania\", \"Burundi\", \"Central African Republic\"], \"name\": \"\", \"z\": [7.537000179290769, 7.52199983596802, 7.50400018692017, 7.49399995803833, 7.468999862670901, 7.3769998550415, 7.31599998474121, 7.31400012969971, 7.28399991989136, 7.28399991989136, 7.212999820709231, 7.0789999961853, 7.00600004196167, 6.993000030517581, 6.9770002365112305, 6.9510002136230495, 6.89099979400635, 6.86299991607666, 6.71400022506714, 6.65199995040894, 6.6479997634887695, 6.6350002288818395, 6.60900020599365, 6.59899997711182, 6.57800006866455, 6.57200002670288, 6.52699995040894, 6.4539999961853, 6.4539999961853, 6.4520001411438, 6.44199991226196, 6.4239997863769505, 6.42199993133545, 6.40299987792969, 6.375, 6.35699987411499, 6.343999862670901, 6.1680002212524405, 6.10500001907349, 6.09800004959106, 6.08699989318848, 6.08400011062622, 6.07100009918213, 6.00799989700317, 6.002999782562259, 5.97300004959106, 5.97100019454956, 5.96400022506714, 5.962999820709231, 5.955999851226809, 5.92000007629395, 5.90199995040894, 5.872000217437741, 5.849999904632571, 5.837999820709231, 5.837999820709231, 5.824999809265139, 5.82299995422363, 5.82200002670288, 5.8189997673034695, 5.80999994277954, 5.75799989700317, 5.71500015258789, 5.62900018692017, 5.62099981307983, 5.61100006103516, 5.5689997673034695, 5.525000095367429, 5.5, 5.493000030517581, 5.47200012207031, 5.42999982833862, 5.39499998092651, 5.33599996566772, 5.32399988174438, 5.31099987030029, 5.2930002212524405, 5.27899980545044, 5.2729997634887695, 5.26900005340576, 5.26200008392334, 5.25, 5.23699998855591, 5.2350001335144, 5.234000205993651, 5.230000019073491, 5.2270002365112305, 5.22499990463257, 5.19500017166138, 5.18200016021729, 5.1810002326965305, 5.175000190734861, 5.151000022888179, 5.07399988174438, 5.07399988174438, 5.04099988937378, 5.01100015640259, 5.0040001869201705, 4.961999893188481, 4.95499992370605, 4.8289999961853, 4.80499982833862, 4.77500009536743, 4.7350001335144, 4.71400022506714, 4.70900011062622, 4.69500017166138, 4.69199991226196, 4.64400005340576, 4.60799980163574, 4.57399988174438, 4.55299997329712, 4.550000190734861, 4.54500007629395, 4.53499984741211, 4.513999938964839, 4.49700021743774, 4.46500015258789, 4.46000003814697, 4.44000005722046, 4.37599992752075, 4.31500005722046, 4.29199981689453, 4.29099988937378, 4.28599977493286, 4.2800002098083505, 4.19000005722046, 4.17999982833862, 4.1680002212524405, 4.138999938964839, 4.11999988555908, 4.09600019454956, 4.08099985122681, 4.03200006484985, 4.02799987792969, 3.97000002861023, 3.9360001087188703, 3.875, 3.80800008773804, 3.79500007629395, 3.7939999103546103, 3.7660000324249303, 3.65700006484985, 3.64400005340576, 3.6029999256133998, 3.59299993515015, 3.5910000801086404, 3.5329999923706095, 3.50699996948242, 3.4949998855590803, 3.47099995613098, 3.46199989318848, 3.34899997711182, 2.90499997138977, 2.69300007820129], \"type\": \"choropleth\"}], \"name\": \"2017.0\"}, {\"data\": [{\"coloraxis\": \"coloraxis\", \"customdata\": [[7.632000000000001, 1.0, 1.305, 1.5919999999999999, 0.8740000000000001, 0.6809999999999999, 0.39299999999999996, 0.20199999999999999, null], [7.593999999999999, 2.0, 1.456, 1.5819999999999999, 0.861, 0.6859999999999999, 0.34, 0.28600000000000003, null], [7.555, 3.0, 1.351, 1.59, 0.868, 0.6829999999999999, 0.408, 0.284, null], [7.495, 4.0, 1.3430000000000002, 1.6440000000000001, 0.914, 0.677, 0.138, 0.353, null], [7.487, 5.0, 1.42, 1.5490000000000002, 0.927, 0.66, 0.35700000000000004, 0.256, null], [7.441, 6.0, 1.361, 1.4880000000000002, 0.878, 0.638, 0.295, 0.33299999999999996, null], [7.327999999999999, 7.0, 1.33, 1.5319999999999998, 0.8959999999999999, 0.653, 0.29100000000000004, 0.321, null], [7.324, 8.0, 1.268, 1.601, 0.8759999999999999, 0.669, 0.389, 0.365, null], [7.314, 9.0, 1.355, 1.501, 0.9129999999999999, 0.659, 0.38299999999999995, 0.285, null], [7.272, 10.0, 1.34, 1.5730000000000002, 0.91, 0.647, 0.302, 0.361, null], [7.19, 11.0, 1.244, 1.433, 0.888, 0.46399999999999997, 0.08199999999999999, 0.262, null], [7.138999999999999, 12.0, 1.341, 1.504, 0.8909999999999999, 0.617, 0.22399999999999998, 0.242, null], [7.072, 13.0, 1.01, 1.459, 0.8170000000000001, 0.632, 0.10099999999999999, 0.14300000000000002, null], [6.977, 14.0, 1.4480000000000002, 1.5830000000000002, 0.8759999999999999, 0.614, 0.306, 0.307, null], [6.965, 15.0, 1.34, 1.474, 0.861, 0.586, 0.28, 0.273, null], [6.9270000000000005, 16.0, 1.324, 1.483, 0.894, 0.583, 0.24, 0.188, null], [6.91, 17.0, 1.5759999999999998, 1.52, 0.8959999999999999, 0.632, 0.321, 0.196, null], [6.886, 18.0, 1.3980000000000001, 1.4709999999999999, 0.8190000000000001, 0.547, 0.133, 0.29100000000000004, null], [6.814, 19.0, 1.301, 1.5590000000000002, 0.883, 0.5329999999999999, 0.272, 0.354, null], [6.774, 20.0, 2.096, 0.7759999999999999, 0.67, 0.284, null, 0.18600000000000003, null], [6.711, 21.0, 1.2329999999999999, 1.489, 0.8540000000000001, 0.5429999999999999, 0.034, 0.064, null], [6.627000000000001, 22.0, 1.27, 1.525, 0.884, 0.645, 0.142, 0.376, null], [6.489, 23.0, 1.2930000000000001, 1.466, 0.9079999999999999, 0.52, 0.17600000000000002, 0.098, null], [6.4879999999999995, 24.0, 1.038, 1.252, 0.7609999999999999, 0.479, 0.095, 0.069, null], [6.476, 25.0, 1.131, 1.331, 0.8079999999999999, 0.431, 0.061, 0.19699999999999998, null], [6.441, 26.0, 1.365, 1.436, 0.857, 0.418, 0.078, 0.151, null], [6.43, 27.0, 1.112, 1.4380000000000002, 0.759, 0.597, 0.063, 0.125, null], [6.419, 28.0, 0.986, 1.474, 0.675, 0.493, 0.08800000000000001, 0.11, null], [6.388, 29.0, 1.073, 1.4680000000000002, 0.7440000000000001, 0.57, 0.054000000000000006, 0.062, null], [6.382000000000001, 30.0, 0.7809999999999999, 1.268, 0.608, 0.604, 0.071, 0.179, null], [6.379, 31.0, 1.093, 1.459, 0.7709999999999999, 0.625, 0.155, 0.13, null], [6.374, 32.0, 1.649, 1.3030000000000002, 0.748, 0.654, 0.171, 0.256, null], [6.371, 33.0, 1.379, 1.331, 0.633, 0.509, 0.127, 0.098, null], [6.343, 34.0, 1.5290000000000001, 1.4509999999999998, 1.008, 0.631, 0.457, 0.261, null], [6.322, 35.0, 1.161, 1.258, 0.669, 0.35600000000000004, 0.059000000000000004, 0.311, null], [6.31, 36.0, 1.251, 1.538, 0.965, 0.449, 0.07400000000000001, 0.142, null], [6.26, 37.0, 0.96, 1.439, 0.635, 0.531, 0.039, 0.099, null], [6.192, 38.0, 1.2229999999999999, 1.492, 0.564, 0.575, 0.019, 0.171, null], [6.172999999999999, 39.0, 1.21, 1.537, 0.7759999999999999, 0.354, 0.013999999999999999, 0.11800000000000001, null], [6.167000000000001, 40.0, 0.8059999999999999, 1.2309999999999999, 0.639, 0.461, 0.08199999999999999, 0.065, null], [6.141, 41.0, 0.6679999999999999, 1.319, 0.7, 0.527, 0.128, 0.20800000000000002, null], [6.122999999999999, 42.0, 1.176, 1.4480000000000002, 0.7809999999999999, 0.546, 0.064, 0.10800000000000001, null], [6.105, 43.0, 1.338, 1.3659999999999999, 0.698, 0.594, 0.12300000000000001, 0.243, null], [6.096, 44.0, 0.7190000000000001, 1.584, 0.605, 0.7240000000000001, 0.259, 0.32799999999999996, null], [6.082999999999999, 45.0, 1.474, 1.301, 0.675, 0.5539999999999999, 0.106, 0.16699999999999998, null], [6.072, 46.0, 1.016, 1.4169999999999998, 0.7070000000000001, 0.637, 0.028999999999999998, 0.364, null], [6.0, 47.0, 1.264, 1.501, 0.946, 0.281, 0.027999999999999997, 0.13699999999999998, null], [5.973, 48.0, 0.889, 1.33, 0.736, 0.556, 0.12, 0.114, null], [5.956, 49.0, 0.807, 1.101, 0.474, 0.593, 0.08900000000000001, 0.183, null], [5.952000000000001, 50.0, 1.197, 1.527, 0.716, 0.35, 0.006, 0.026000000000000002, null], [5.9479999999999995, 51.0, 1.219, 1.506, 0.856, 0.633, 0.051, 0.16, null], [5.945, 52.0, 1.1159999999999999, 1.219, 0.726, 0.528, 0.001, 0.08800000000000001, null], [5.933, 53.0, 1.148, 1.454, 0.6709999999999999, 0.363, 0.066, 0.092, null], [5.915, 54.0, 1.294, 1.462, 0.988, 0.5529999999999999, 0.15, 0.079, null], [5.891, 55.0, 1.09, 1.3869999999999998, 0.684, 0.584, 0.05, 0.245, null], [5.89, 56.0, 0.8190000000000001, 1.493, 0.693, 0.575, 0.031, 0.096, null], [5.875, 57.0, 1.266, 1.204, 0.955, 0.244, 0.051, 0.175, null], [5.835, 58.0, 1.229, 1.2109999999999999, 0.909, 0.495, 0.154, 0.179, null], [5.81, 59.0, 1.151, 1.479, 0.599, 0.39899999999999997, 0.025, 0.065, null], [5.79, 60.0, 1.143, 1.516, 0.631, 0.45399999999999996, 0.121, 0.14800000000000002, null], [5.7620000000000005, 61.0, 1.229, 1.1909999999999998, 0.909, 0.423, 0.035, 0.20199999999999999, null], [5.752000000000001, 62.0, 0.7509999999999999, 1.2229999999999999, 0.508, 0.606, 0.054000000000000006, 0.141, null], [5.739, 63.0, 1.2, 1.5319999999999998, 0.737, 0.5529999999999999, 0.174, 0.086, null], [5.681, 64.0, 0.835, 1.5219999999999998, 0.615, 0.541, 0.07400000000000001, 0.162, null], [5.662999999999999, 65.0, 0.934, 1.249, 0.674, 0.53, 0.034, 0.092, null], [5.662000000000001, 66.0, 0.855, 1.23, 0.578, 0.44799999999999995, 0.023, 0.27399999999999997, null], [5.64, 67.0, 0.657, 1.301, 0.62, 0.23199999999999998, 0.0, 0.171, null], [5.636, 68.0, 1.016, 1.5330000000000001, 0.517, 0.41700000000000004, 0.037000000000000005, 0.19899999999999998, null], [5.62, 69.0, 1.171, 1.401, 0.732, 0.259, 0.022000000000000002, 0.061, null], [5.566, 70.0, 0.985, 1.35, 0.5529999999999999, 0.496, 0.14800000000000002, 0.11599999999999999, null], [5.524, 71.0, 0.775, 1.3119999999999998, 0.513, 0.643, 0.105, 0.12, null], [5.504, 72.0, 0.62, 1.205, 0.622, 0.45899999999999996, 0.07400000000000001, 0.19699999999999998, null], [5.483, 73.0, 1.0390000000000001, 1.4980000000000002, 0.7, 0.307, 0.154, 0.10099999999999999, null], [5.483, 74.0, 1.148, 1.38, 0.6859999999999999, 0.324, 0.109, 0.106, null], [5.472, 75.0, 0.652, 0.81, 0.424, 0.33399999999999996, 0.113, 0.21600000000000003, null], [5.43, 76.0, 1.405, 1.29, 1.03, 0.524, 0.29100000000000004, 0.24600000000000002, null], [5.41, 77.0, 1.188, 1.429, 0.884, 0.562, 0.017, 0.055, null], [5.398, 78.0, 0.975, 1.369, 0.685, 0.28800000000000003, 0.043, 0.134, null], [5.358, 79.0, 1.1540000000000001, 1.202, 0.879, 0.131, 0.044000000000000004, 0.0, null], [5.358, 80.0, 0.965, 1.179, 0.785, 0.503, 0.136, 0.214, null], [5.347, 81.0, 1.0170000000000001, 1.2790000000000001, 0.7290000000000001, 0.259, 0.081, 0.111, null], [5.321000000000001, 82.0, 1.115, 1.161, 0.737, 0.38, 0.039, 0.12, null], [5.3020000000000005, 83.0, 0.982, 1.4409999999999998, 0.614, 0.578, 0.106, 0.12, null], [5.295, 84.0, 0.9790000000000001, 1.1540000000000001, 0.687, 0.077, 0.135, 0.055, null], [5.254, 85.0, 0.779, 0.797, 0.669, 0.46, 0.07400000000000001, 0.026000000000000002, null], [5.246, 86.0, 0.9890000000000001, 1.1420000000000001, 0.799, 0.597, 0.10300000000000001, 0.028999999999999998, null], [5.2010000000000005, 87.0, 1.024, 1.161, 0.603, 0.43, 0.17600000000000002, 0.031, null], [5.199, 88.0, 0.474, 1.166, 0.598, 0.292, 0.034, 0.187, null], [5.185, 89.0, 0.9590000000000001, 1.239, 0.691, 0.39399999999999996, 0.052000000000000005, 0.17300000000000001, null], [5.1610000000000005, 90.0, 0.8220000000000001, 1.265, 0.645, 0.46799999999999997, 0.134, 0.13, null], [5.155, 91.0, 0.6890000000000001, 1.172, 0.048, 0.462, 0.032, 0.201, null], [5.131, 92.0, 0.53, 1.416, 0.594, 0.54, 0.035, 0.281, null], [5.129, 93.0, 0.915, 1.078, 0.758, 0.28, 0.0, 0.21600000000000003, null], [5.125, 94.0, 0.914, 1.517, 0.575, 0.395, 0.032, 0.253, null], [5.103, 95.0, 0.715, 1.365, 0.7020000000000001, 0.618, 0.079, 0.177, null], [5.093, 96.0, 0.899, 1.215, 0.522, 0.5379999999999999, 0.018000000000000002, 0.484, null], [5.082, 97.0, 0.7959999999999999, 1.335, 0.527, 0.541, 0.171, 0.364, null], [4.982, 98.0, 0.0, 0.7120000000000001, 0.115, 0.674, 0.282, 0.23800000000000002, null], [4.975, 99.0, 0.535, 0.8909999999999999, 0.182, 0.45399999999999996, 0.043, 0.183, null], [4.933, 100.0, 1.054, 1.515, 0.7120000000000001, 0.359, 0.009000000000000001, 0.064, null], [4.88, 101.0, 0.425, 1.228, 0.539, 0.526, 0.078, 0.302, null], [4.806, 102.0, 0.996, 1.469, 0.657, 0.133, 0.052000000000000005, 0.055999999999999994, null], [4.758, 103.0, 1.036, 1.1640000000000001, 0.40399999999999997, 0.35600000000000004, 0.052000000000000005, 0.032, null], [4.743, 104.0, 0.642, 1.217, 0.602, 0.266, 0.076, 0.086, null], [4.724, 105.0, 0.94, 1.41, 0.33, 0.516, 0.055999999999999994, 0.10300000000000001, null], [4.707, 106.0, 1.0590000000000002, 0.7709999999999999, 0.691, 0.45899999999999996, 0.129, 0.282, null], [4.671, 107.0, 0.541, 0.872, 0.08, 0.467, 0.10300000000000001, 0.146, null], [4.657, 108.0, 0.5920000000000001, 0.8959999999999999, 0.337, 0.499, 0.028999999999999998, 0.212, null], [4.631, 109.0, 0.429, 1.117, 0.433, 0.406, 0.08199999999999999, 0.138, null], [4.623, 110.0, 0.72, 1.034, 0.441, 0.626, 0.174, 0.23, null], [4.592, 111.0, 0.9, 0.9059999999999999, 0.69, 0.271, 0.063, 0.04, null], [4.586, 112.0, 0.9159999999999999, 0.8170000000000001, 0.79, 0.419, 0.032, 0.149, null], [4.571000000000001, 113.0, 0.256, 0.813, 0.0, 0.355, 0.053, 0.23800000000000002, null], [4.559, 114.0, 0.682, 0.8109999999999999, 0.34299999999999997, 0.514, 0.077, 0.091, null], [4.5, 115.0, 0.532, 0.85, 0.579, 0.58, 0.14400000000000002, 0.153, null], [4.471, 116.0, 0.9179999999999999, 1.314, 0.672, 0.585, 0.05, 0.307, null], [4.456, 117.0, 1.01, 0.971, 0.536, 0.304, 0.095, 0.14800000000000002, null], [4.447, 118.0, 0.37, 1.2329999999999999, 0.152, 0.36700000000000005, 0.055999999999999994, 0.139, null], [4.441, 119.0, 0.8740000000000001, 1.281, 0.365, 0.519, 0.064, 0.051, null], [4.433, 120.0, 0.5489999999999999, 1.088, 0.457, 0.696, 0.065, 0.256, null], [4.4239999999999995, 121.0, 0.314, 1.097, 0.254, 0.312, 0.128, 0.175, null], [4.419, 122.0, 0.885, 1.025, 0.5529999999999999, 0.312, 0.107, 0.092, null], [4.417, 123.0, 0.198, 0.902, 0.17300000000000001, 0.531, 0.158, 0.20600000000000002, null], [4.41, 124.0, 0.493, 1.048, 0.45399999999999996, 0.504, 0.055, 0.35200000000000004, null], [4.377, 125.0, 0.562, 1.047, 0.295, 0.503, 0.08199999999999999, 0.221, null], [4.356, 126.0, 0.557, 1.245, 0.292, 0.129, 0.09300000000000001, 0.134, null], [4.35, 127.0, 0.308, 0.95, 0.391, 0.452, 0.146, 0.22, null], [4.34, 128.0, 0.853, 0.5920000000000001, 0.643, 0.375, 0.215, 0.038, null], [4.321000000000001, 129.0, 0.816, 0.99, 0.6659999999999999, 0.26, 0.027999999999999997, 0.077, null], [4.308, 130.0, 0.682, 1.1740000000000002, 0.429, 0.58, 0.17800000000000002, 0.598, null], [4.301, 131.0, 0.358, 0.907, 0.053, 0.18899999999999997, 0.06, 0.18100000000000002, null], [4.245, 132.0, 0.069, 1.136, 0.204, 0.312, 0.052000000000000005, 0.19699999999999998, null], [4.19, 133.0, 0.721, 0.747, 0.485, 0.539, 0.09300000000000001, 0.172, null], [4.166, 134.0, 0.131, 0.867, 0.221, 0.39, 0.099, 0.175, null], [4.1610000000000005, 135.0, 0.322, 1.09, 0.237, 0.45, 0.061, 0.259, null], [4.141, 136.0, 0.37799999999999995, 0.37200000000000005, 0.24, 0.44, 0.067, 0.163, null], [4.138999999999999, 137.0, 0.605, 1.24, 0.312, 0.016, 0.08199999999999999, 0.134, null], [4.103, 138.0, 0.7929999999999999, 1.413, 0.609, 0.163, 0.011000000000000001, 0.187, null], [3.9989999999999997, 139.0, 0.259, 0.474, 0.253, 0.434, 0.10099999999999999, 0.158, null], [3.964, 140.0, 0.344, 0.792, 0.21100000000000002, 0.39399999999999996, 0.094, 0.185, null], [3.8080000000000003, 141.0, 0.47200000000000003, 1.215, 0.079, 0.423, 0.11199999999999999, 0.11599999999999999, null], [3.795, 142.0, 0.73, 1.125, 0.26899999999999996, 0.0, 0.061, 0.079, null], [3.7739999999999996, 143.0, 0.262, 0.9079999999999999, 0.402, 0.221, 0.049, 0.155, null], [3.6919999999999997, 144.0, 0.35700000000000004, 1.094, 0.248, 0.406, 0.099, 0.132, null], [3.6319999999999997, 145.0, 0.332, 0.537, 0.255, 0.085, 0.036000000000000004, 0.191, null], [3.59, 146.0, 1.0170000000000001, 1.1740000000000002, 0.41700000000000004, 0.557, 0.092, 0.042, null], [3.5869999999999997, 147.0, 0.18600000000000003, 0.541, 0.306, 0.531, 0.08, 0.21, null], [3.582, 148.0, 0.315, 0.7140000000000001, 0.289, 0.025, 0.10400000000000001, 0.392, null], [3.495, 149.0, 0.076, 0.858, 0.267, 0.419, 0.03, 0.20600000000000002, null], [3.4619999999999997, 150.0, 0.6890000000000001, 0.382, 0.539, 0.08800000000000001, 0.14400000000000002, 0.376, null], [3.408, 151.0, 0.332, 0.8959999999999999, 0.4, 0.636, 0.444, 0.2, null], [3.355, 152.0, 0.442, 1.073, 0.34299999999999997, 0.244, 0.064, 0.083, null], [3.303, 153.0, 0.455, 0.991, 0.381, 0.48100000000000004, 0.09699999999999999, 0.27, null], [3.2539999999999996, 154.0, 0.337, 0.608, 0.177, 0.11199999999999999, 0.106, 0.22399999999999998, null], [3.083, 155.0, 0.024, 0.0, 0.01, 0.305, 0.038, 0.218, null], [2.905, 156.0, 0.091, 0.627, 0.145, 0.065, 0.076, 0.149, null]], \"geo\": \"geo\", \"hoverlabel\": {\"namelength\": 0}, \"hovertemplate\": \"<b>%{hovertext}</b><br><br>Year=2018.0<br>Happiness Score=%{z}<br>Happiness Rank=%{customdata[1]}<br>Economy (GDP per Capita)=%{customdata[2]}<br>Family=%{customdata[3]}<br>Health (Life Expectancy)=%{customdata[4]}<br>Freedom=%{customdata[5]}<br>Trust (Government Corruption)=%{customdata[6]}<br>Generosity=%{customdata[7]}<br>Dystopia Residual=%{customdata[8]}<br>Country=%{location}\", \"hovertext\": [\"Finland\", \"Norway\", \"Denmark\", \"Iceland\", \"Switzerland\", \"Netherlands\", \"Canada\", \"New Zealand\", \"Sweden\", \"Australia\", \"United Kingdom\", \"Austria\", \"Costa Rica\", \"Ireland\", \"Germany\", \"Belgium\", \"Luxembourg\", \"United States\", \"Israel\", \"United Arab Emirates\", \"Czech Republic\", \"Malta\", \"France\", \"Mexico\", \"Chile\", \"Taiwan\", \"Panama\", \"Brazil\", \"Argentina\", \"Guatemala\", \"Uruguay\", \"Qatar\", \"Saudi Arabia\", \"Singapore\", \"Malaysia\", \"Spain\", \"Colombia\", \"Trinidad & Tobago\", \"Slovakia\", \"El Salvador\", \"Nicaragua\", \"Poland\", \"Bahrain\", \"Uzbekistan\", \"Kuwait\", \"Thailand\", \"Italy\", \"Ecuador\", \"Belize\", \"Lithuania\", \"Slovenia\", \"Romania\", \"Latvia\", \"Japan\", \"Mauritius\", \"Jamaica\", \"South Korea\", \"Northern Cyprus\", \"Russia\", \"Kazakhstan\", \"Cyprus\", \"Bolivia\", \"Estonia\", \"Paraguay\", \"Peru\", \"Kosovo\", \"Moldova\", \"Turkmenistan\", \"Hungary\", \"Libya\", \"Philippines\", \"Honduras\", \"Belarus\", \"Turkey\", \"Pakistan\", \"Hong Kong\", \"Portugal\", \"Serbia\", \"Greece\", \"Lebanon\", \"Montenegro\", \"Croatia\", \"Dominican Republic\", \"Algeria\", \"Morocco\", \"China\", \"Azerbaijan\", \"Tajikistan\", \"Macedonia\", \"Jordan\", \"Nigeria\", \"Kyrgyzstan\", \"Bosnia and Herzegovina\", \"Mongolia\", \"Vietnam\", \"Indonesia\", \"Bhutan\", \"Somalia\", \"Cameroon\", \"Bulgaria\", \"Nepal\", \"Venezuela\", \"Gabon\", \"Palestinian Territories\", \"South Africa\", \"Iran\", \"Ivory Coast\", \"Ghana\", \"Senegal\", \"Laos\", \"Tunisia\", \"Albania\", \"Sierra Leone\", \"Congo (Brazzaville)\", \"Bangladesh\", \"Sri Lanka\", \"Iraq\", \"Mali\", \"Namibia\", \"Cambodia\", \"Burkina Faso\", \"Egypt\", \"Mozambique\", \"Kenya\", \"Zambia\", \"Mauritania\", \"Ethiopia\", \"Georgia\", \"Armenia\", \"Myanmar\", \"Chad\", \"Congo (Kinshasa)\", \"India\", \"Niger\", \"Uganda\", \"Benin\", \"Sudan\", \"Ukraine\", \"Togo\", \"Guinea\", \"Lesotho\", \"Angola\", \"Madagascar\", \"Zimbabwe\", \"Afghanistan\", \"Botswana\", \"Malawi\", \"Haiti\", \"Liberia\", \"Syria\", \"Rwanda\", \"Yemen\", \"Tanzania\", \"South Sudan\", \"Central African Republic\", \"Burundi\"], \"locationmode\": \"country names\", \"locations\": [\"Finland\", \"Norway\", \"Denmark\", \"Iceland\", \"Switzerland\", \"Netherlands\", \"Canada\", \"New Zealand\", \"Sweden\", \"Australia\", \"United Kingdom\", \"Austria\", \"Costa Rica\", \"Ireland\", \"Germany\", \"Belgium\", \"Luxembourg\", \"United States\", \"Israel\", \"United Arab Emirates\", \"Czech Republic\", \"Malta\", \"France\", \"Mexico\", \"Chile\", \"Taiwan\", \"Panama\", \"Brazil\", \"Argentina\", \"Guatemala\", \"Uruguay\", \"Qatar\", \"Saudi Arabia\", \"Singapore\", \"Malaysia\", \"Spain\", \"Colombia\", \"Trinidad & Tobago\", \"Slovakia\", \"El Salvador\", \"Nicaragua\", \"Poland\", \"Bahrain\", \"Uzbekistan\", \"Kuwait\", \"Thailand\", \"Italy\", \"Ecuador\", \"Belize\", \"Lithuania\", \"Slovenia\", \"Romania\", \"Latvia\", \"Japan\", \"Mauritius\", \"Jamaica\", \"South Korea\", \"Northern Cyprus\", \"Russia\", \"Kazakhstan\", \"Cyprus\", \"Bolivia\", \"Estonia\", \"Paraguay\", \"Peru\", \"Kosovo\", \"Moldova\", \"Turkmenistan\", \"Hungary\", \"Libya\", \"Philippines\", \"Honduras\", \"Belarus\", \"Turkey\", \"Pakistan\", \"Hong Kong\", \"Portugal\", \"Serbia\", \"Greece\", \"Lebanon\", \"Montenegro\", \"Croatia\", \"Dominican Republic\", \"Algeria\", \"Morocco\", \"China\", \"Azerbaijan\", \"Tajikistan\", \"Macedonia\", \"Jordan\", \"Nigeria\", \"Kyrgyzstan\", \"Bosnia and Herzegovina\", \"Mongolia\", \"Vietnam\", \"Indonesia\", \"Bhutan\", \"Somalia\", \"Cameroon\", \"Bulgaria\", \"Nepal\", \"Venezuela\", \"Gabon\", \"Palestinian Territories\", \"South Africa\", \"Iran\", \"Ivory Coast\", \"Ghana\", \"Senegal\", \"Laos\", \"Tunisia\", \"Albania\", \"Sierra Leone\", \"Congo (Brazzaville)\", \"Bangladesh\", \"Sri Lanka\", \"Iraq\", \"Mali\", \"Namibia\", \"Cambodia\", \"Burkina Faso\", \"Egypt\", \"Mozambique\", \"Kenya\", \"Zambia\", \"Mauritania\", \"Ethiopia\", \"Georgia\", \"Armenia\", \"Myanmar\", \"Chad\", \"Congo (Kinshasa)\", \"India\", \"Niger\", \"Uganda\", \"Benin\", \"Sudan\", \"Ukraine\", \"Togo\", \"Guinea\", \"Lesotho\", \"Angola\", \"Madagascar\", \"Zimbabwe\", \"Afghanistan\", \"Botswana\", \"Malawi\", \"Haiti\", \"Liberia\", \"Syria\", \"Rwanda\", \"Yemen\", \"Tanzania\", \"South Sudan\", \"Central African Republic\", \"Burundi\"], \"name\": \"\", \"z\": [7.632000000000001, 7.593999999999999, 7.555, 7.495, 7.487, 7.441, 7.327999999999999, 7.324, 7.314, 7.272, 7.19, 7.138999999999999, 7.072, 6.977, 6.965, 6.9270000000000005, 6.91, 6.886, 6.814, 6.774, 6.711, 6.627000000000001, 6.489, 6.4879999999999995, 6.476, 6.441, 6.43, 6.419, 6.388, 6.382000000000001, 6.379, 6.374, 6.371, 6.343, 6.322, 6.31, 6.26, 6.192, 6.172999999999999, 6.167000000000001, 6.141, 6.122999999999999, 6.105, 6.096, 6.082999999999999, 6.072, 6.0, 5.973, 5.956, 5.952000000000001, 5.9479999999999995, 5.945, 5.933, 5.915, 5.891, 5.89, 5.875, 5.835, 5.81, 5.79, 5.7620000000000005, 5.752000000000001, 5.739, 5.681, 5.662999999999999, 5.662000000000001, 5.64, 5.636, 5.62, 5.566, 5.524, 5.504, 5.483, 5.483, 5.472, 5.43, 5.41, 5.398, 5.358, 5.358, 5.347, 5.321000000000001, 5.3020000000000005, 5.295, 5.254, 5.246, 5.2010000000000005, 5.199, 5.185, 5.1610000000000005, 5.155, 5.131, 5.129, 5.125, 5.103, 5.093, 5.082, 4.982, 4.975, 4.933, 4.88, 4.806, 4.758, 4.743, 4.724, 4.707, 4.671, 4.657, 4.631, 4.623, 4.592, 4.586, 4.571000000000001, 4.559, 4.5, 4.471, 4.456, 4.447, 4.441, 4.433, 4.4239999999999995, 4.419, 4.417, 4.41, 4.377, 4.356, 4.35, 4.34, 4.321000000000001, 4.308, 4.301, 4.245, 4.19, 4.166, 4.1610000000000005, 4.141, 4.138999999999999, 4.103, 3.9989999999999997, 3.964, 3.8080000000000003, 3.795, 3.7739999999999996, 3.6919999999999997, 3.6319999999999997, 3.59, 3.5869999999999997, 3.582, 3.495, 3.4619999999999997, 3.408, 3.355, 3.303, 3.2539999999999996, 3.083, 2.905], \"type\": \"choropleth\"}], \"name\": \"2018.0\"}, {\"data\": [{\"coloraxis\": \"coloraxis\", \"customdata\": [[7.769, 1.0, 1.34, 1.587, 0.986, 0.596, 0.39299999999999996, 0.153, null], [7.6, 2.0, 1.383, 1.5730000000000002, 0.996, 0.5920000000000001, 0.41, 0.252, null], [7.553999999999999, 3.0, 1.4880000000000002, 1.5819999999999999, 1.028, 0.603, 0.341, 0.271, null], [7.494, 4.0, 1.38, 1.624, 1.026, 0.591, 0.11800000000000001, 0.354, null], [7.4879999999999995, 5.0, 1.396, 1.5219999999999998, 0.9990000000000001, 0.557, 0.298, 0.322, null], [7.48, 6.0, 1.452, 1.526, 1.052, 0.5720000000000001, 0.34299999999999997, 0.263, null], [7.343, 7.0, 1.3869999999999998, 1.4869999999999999, 1.0090000000000001, 0.574, 0.373, 0.267, null], [7.307, 8.0, 1.3030000000000002, 1.557, 1.026, 0.585, 0.38, 0.33, null], [7.278, 9.0, 1.365, 1.505, 1.0390000000000001, 0.584, 0.308, 0.285, null], [7.246, 10.0, 1.376, 1.475, 1.016, 0.532, 0.226, 0.244, null], [7.228, 11.0, 1.3719999999999999, 1.548, 1.036, 0.557, 0.29, 0.332, null], [7.167000000000001, 12.0, 1.034, 1.4409999999999998, 0.963, 0.5579999999999999, 0.09300000000000001, 0.14400000000000002, null], [7.138999999999999, 13.0, 1.276, 1.455, 1.0290000000000001, 0.371, 0.08199999999999999, 0.261, null], [7.09, 14.0, 1.609, 1.479, 1.012, 0.526, 0.316, 0.19399999999999998, null], [7.053999999999999, 15.0, 1.3330000000000002, 1.538, 0.996, 0.45, 0.278, 0.348, null], [7.021, 16.0, 1.499, 1.5530000000000002, 0.9990000000000001, 0.516, 0.31, 0.298, null], [6.985, 17.0, 1.3730000000000002, 1.454, 0.987, 0.495, 0.265, 0.261, null], [6.922999999999999, 18.0, 1.3559999999999999, 1.504, 0.986, 0.473, 0.21, 0.16, null], [6.892, 19.0, 1.433, 1.4569999999999999, 0.8740000000000001, 0.45399999999999996, 0.128, 0.28, null], [6.852, 20.0, 1.2690000000000001, 1.4869999999999999, 0.92, 0.457, 0.036000000000000004, 0.046, null], [6.825, 21.0, 1.5030000000000001, 1.31, 0.825, 0.598, 0.182, 0.262, null], [6.726, 22.0, 1.3, 1.52, 0.9990000000000001, 0.564, 0.151, 0.375, null], [6.595, 23.0, 1.07, 1.3230000000000002, 0.861, 0.433, 0.073, 0.07400000000000001, null], [6.5920000000000005, 24.0, 1.324, 1.472, 1.045, 0.436, 0.183, 0.111, null], [6.446000000000001, 25.0, 1.368, 1.43, 0.914, 0.35100000000000003, 0.09699999999999999, 0.242, null], [6.444, 26.0, 1.159, 1.369, 0.92, 0.35700000000000004, 0.055999999999999994, 0.187, null], [6.436, 27.0, 0.8, 1.2690000000000001, 0.746, 0.535, 0.078, 0.175, null], [6.375, 28.0, 1.403, 1.357, 0.795, 0.439, 0.132, 0.08, null], [6.374, 29.0, 1.6840000000000002, 1.3130000000000002, 0.871, 0.555, 0.16699999999999998, 0.22, null], [6.354, 30.0, 1.286, 1.484, 1.062, 0.36200000000000004, 0.079, 0.153, null], [6.321000000000001, 31.0, 1.149, 1.442, 0.91, 0.516, 0.054000000000000006, 0.109, null], [6.3, 32.0, 1.004, 1.439, 0.802, 0.39, 0.086, 0.099, null], [6.292999999999999, 33.0, 1.124, 1.465, 0.8909999999999999, 0.523, 0.15, 0.127, null], [6.2620000000000005, 34.0, 1.5719999999999998, 1.463, 1.141, 0.556, 0.45299999999999996, 0.271, null], [6.252999999999999, 35.0, 0.794, 1.242, 0.789, 0.43, 0.07400000000000001, 0.09300000000000001, null], [6.223, 36.0, 1.294, 1.4880000000000002, 1.0390000000000001, 0.231, 0.03, 0.158, null], [6.199, 37.0, 1.3619999999999999, 1.368, 0.871, 0.536, 0.11, 0.255, null], [6.1979999999999995, 38.0, 1.246, 1.504, 0.8809999999999999, 0.33399999999999996, 0.013999999999999999, 0.121, null], [6.192, 39.0, 1.2309999999999999, 1.4769999999999999, 0.713, 0.489, 0.016, 0.185, null], [6.182, 40.0, 1.206, 1.4380000000000002, 0.884, 0.483, 0.05, 0.11699999999999999, null], [6.1739999999999995, 41.0, 0.745, 1.5290000000000001, 0.7559999999999999, 0.631, 0.24, 0.322, null], [6.149, 42.0, 1.238, 1.515, 0.818, 0.29100000000000004, 0.042, 0.043, null], [6.125, 43.0, 0.985, 1.41, 0.841, 0.47, 0.034, 0.099, null], [6.117999999999999, 44.0, 1.258, 1.5230000000000001, 0.953, 0.564, 0.057, 0.14400000000000002, null], [6.105, 45.0, 0.6940000000000001, 1.325, 0.835, 0.435, 0.127, 0.2, null], [6.1, 46.0, 0.882, 1.232, 0.758, 0.489, 0.006, 0.262, null], [6.086, 47.0, 1.092, 1.432, 0.8809999999999999, 0.47100000000000003, 0.05, 0.066, null], [6.07, 48.0, 1.162, 1.232, 0.825, 0.462, 0.005, 0.083, null], [6.046, 49.0, 1.263, 1.2229999999999999, 1.042, 0.406, 0.040999999999999995, 0.19, null], [6.028, 50.0, 0.912, 1.3119999999999998, 0.868, 0.498, 0.087, 0.126, null], [6.021, 51.0, 1.5, 1.319, 0.8079999999999999, 0.493, 0.09699999999999999, 0.142, null], [6.007999999999999, 52.0, 1.05, 1.409, 0.828, 0.557, 0.027999999999999997, 0.359, null], [5.94, 53.0, 1.187, 1.465, 0.812, 0.264, 0.064, 0.075, null], [5.895, 54.0, 1.301, 1.219, 1.036, 0.159, 0.055999999999999994, 0.175, null], [5.893, 55.0, 1.237, 1.528, 0.8740000000000001, 0.495, 0.161, 0.10300000000000001, null], [5.89, 56.0, 0.831, 1.4780000000000002, 0.831, 0.49, 0.027999999999999997, 0.107, null], [5.888, 57.0, 1.12, 1.402, 0.7979999999999999, 0.498, 0.06, 0.215, null], [5.886, 58.0, 1.327, 1.419, 1.088, 0.445, 0.14, 0.069, null], [5.86, 59.0, 0.642, 1.236, 0.828, 0.507, 0.078, 0.24600000000000002, null], [5.809, 60.0, 1.173, 1.508, 0.7290000000000001, 0.41, 0.096, 0.146, null], [5.779, 61.0, 0.7759999999999999, 1.209, 0.706, 0.511, 0.064, 0.13699999999999998, null], [5.757999999999999, 62.0, 1.2009999999999998, 1.41, 0.828, 0.19899999999999998, 0.02, 0.081, null], [5.742999999999999, 63.0, 0.855, 1.475, 0.777, 0.514, 0.08, 0.184, null], [5.718, 64.0, 1.263, 1.252, 1.042, 0.41700000000000004, 0.162, 0.191, null], [5.697, 65.0, 0.96, 1.274, 0.8540000000000001, 0.455, 0.027000000000000003, 0.083, null], [5.693, 66.0, 1.2209999999999999, 1.431, 0.9990000000000001, 0.508, 0.025, 0.047, null], [5.653, 67.0, 0.677, 0.8859999999999999, 0.535, 0.313, 0.098, 0.22, null], [5.648, 68.0, 1.183, 1.452, 0.726, 0.33399999999999996, 0.031, 0.08199999999999999, null], [5.631, 69.0, 0.807, 1.2930000000000001, 0.657, 0.5579999999999999, 0.107, 0.11699999999999999, null], [5.603, 70.0, 1.004, 1.383, 0.8540000000000001, 0.282, 0.039, 0.13699999999999998, null], [5.529, 71.0, 0.685, 1.328, 0.7390000000000001, 0.245, 0.0, 0.18100000000000002, null], [5.525, 72.0, 1.044, 1.3030000000000002, 0.6729999999999999, 0.41600000000000004, 0.152, 0.133, null], [5.523, 73.0, 1.051, 1.361, 0.871, 0.19699999999999998, 0.08, 0.142, null], [5.4670000000000005, 74.0, 0.493, 1.0979999999999999, 0.718, 0.389, 0.14400000000000002, 0.23, null], [5.432, 75.0, 1.155, 1.266, 0.914, 0.29600000000000004, 0.022000000000000002, 0.11900000000000001, null], [5.43, 76.0, 1.4380000000000002, 1.2770000000000001, 1.122, 0.44, 0.287, 0.258, null], [5.425, 77.0, 1.015, 1.401, 0.779, 0.49700000000000005, 0.10099999999999999, 0.113, null], [5.386, 78.0, 0.945, 1.212, 0.845, 0.212, 0.006, 0.263, null], [5.372999999999999, 79.0, 1.183, 1.36, 0.8079999999999999, 0.195, 0.106, 0.083, null], [5.3389999999999995, 80.0, 1.2209999999999999, 1.171, 0.828, 0.508, 0.024, 0.26, null], [5.3229999999999995, 81.0, 1.067, 1.465, 0.789, 0.235, 0.142, 0.094, null], [5.287000000000001, 82.0, 1.181, 1.156, 0.9990000000000001, 0.067, 0.034, 0.0, null], [5.285, 83.0, 0.948, 1.531, 0.667, 0.317, 0.038, 0.235, null], [5.274, 84.0, 0.983, 1.294, 0.838, 0.345, 0.034, 0.185, null], [5.265, 85.0, 0.696, 1.111, 0.245, 0.426, 0.040999999999999995, 0.215, null], [5.261, 86.0, 0.551, 1.4380000000000002, 0.723, 0.508, 0.023, 0.3, null], [5.247000000000001, 87.0, 1.052, 1.538, 0.657, 0.39399999999999996, 0.027999999999999997, 0.244, null], [5.211, 88.0, 1.002, 1.16, 0.785, 0.086, 0.114, 0.073, null], [5.207999999999999, 89.0, 0.8009999999999999, 0.782, 0.782, 0.418, 0.076, 0.036000000000000004, null], [5.207999999999999, 90.0, 1.043, 1.147, 0.769, 0.35100000000000003, 0.182, 0.035, null], [5.197, 91.0, 0.987, 1.224, 0.815, 0.21600000000000003, 0.027000000000000003, 0.166, null], [5.192, 92.0, 0.9309999999999999, 1.203, 0.66, 0.491, 0.027999999999999997, 0.498, null], [5.191, 93.0, 1.0290000000000001, 1.125, 0.893, 0.521, 0.1, 0.057999999999999996, null], [5.175, 94.0, 0.741, 1.3459999999999999, 0.851, 0.5429999999999999, 0.073, 0.147, null], [5.082, 95.0, 0.813, 1.321, 0.604, 0.457, 0.16699999999999998, 0.37, null], [5.044, 96.0, 0.5489999999999999, 0.91, 0.331, 0.381, 0.037000000000000005, 0.187, null], [5.011, 97.0, 1.092, 1.5130000000000001, 0.815, 0.311, 0.004, 0.081, null], [4.996, 98.0, 0.611, 0.868, 0.486, 0.381, 0.04, 0.245, null], [4.944, 99.0, 0.569, 0.8079999999999999, 0.23199999999999998, 0.35200000000000004, 0.09, 0.154, null], [4.913, 100.0, 0.446, 1.226, 0.677, 0.439, 0.08900000000000001, 0.285, null], [4.906000000000001, 101.0, 0.8370000000000001, 1.225, 0.815, 0.38299999999999995, 0.13, 0.11, null], [4.883, 102.0, 0.39299999999999996, 0.43700000000000006, 0.397, 0.349, 0.08199999999999999, 0.175, null], [4.812, 103.0, 0.6729999999999999, 0.799, 0.508, 0.37200000000000005, 0.09300000000000001, 0.105, null], [4.7989999999999995, 104.0, 1.057, 1.183, 0.5710000000000001, 0.295, 0.055, 0.043, null], [4.796, 105.0, 0.764, 1.03, 0.551, 0.547, 0.16399999999999998, 0.266, null], [4.7219999999999995, 106.0, 0.96, 1.351, 0.469, 0.389, 0.055, 0.13, null], [4.718999999999999, 107.0, 0.9470000000000001, 0.848, 0.8740000000000001, 0.38299999999999995, 0.027000000000000003, 0.17800000000000002, null], [4.707, 108.0, 0.96, 1.4269999999999998, 0.805, 0.154, 0.047, 0.064, null], [4.7, 109.0, 0.574, 1.122, 0.637, 0.609, 0.062, 0.23199999999999998, null], [4.696000000000001, 110.0, 0.657, 1.247, 0.672, 0.225, 0.066, 0.10300000000000001, null], [4.681, 111.0, 0.45, 1.1340000000000001, 0.5710000000000001, 0.292, 0.07200000000000001, 0.153, null], [4.668, 112.0, 0.0, 0.698, 0.268, 0.5589999999999999, 0.27, 0.243, null], [4.638999999999999, 113.0, 0.879, 1.3130000000000002, 0.47700000000000004, 0.401, 0.055999999999999994, 0.07, null], [4.628, 114.0, 0.138, 0.774, 0.366, 0.318, 0.102, 0.188, null], [4.587, 115.0, 0.331, 1.056, 0.38, 0.255, 0.113, 0.177, null], [4.559, 116.0, 0.85, 1.055, 0.815, 0.28300000000000003, 0.064, 0.095, null], [4.548, 117.0, 1.1, 0.8420000000000001, 0.785, 0.305, 0.125, 0.27, null], [4.534, 118.0, 0.38, 0.8290000000000001, 0.375, 0.332, 0.086, 0.207, null], [4.519, 119.0, 0.8859999999999999, 0.6659999999999999, 0.752, 0.34600000000000003, 0.16399999999999998, 0.043, null], [4.516, 120.0, 0.308, 0.9390000000000001, 0.428, 0.382, 0.16699999999999998, 0.26899999999999996, null], [4.5089999999999995, 121.0, 0.512, 0.983, 0.581, 0.431, 0.053, 0.37200000000000005, null], [4.49, 122.0, 0.57, 1.167, 0.489, 0.066, 0.08800000000000001, 0.106, null], [4.466, 123.0, 0.204, 0.986, 0.39, 0.494, 0.138, 0.19699999999999998, null], [4.461, 124.0, 0.9209999999999999, 1.0, 0.815, 0.16699999999999998, 0.055, 0.059000000000000004, null], [4.456, 125.0, 0.562, 0.9279999999999999, 0.723, 0.527, 0.14300000000000002, 0.166, null], [4.437, 126.0, 1.043, 0.98, 0.574, 0.24100000000000002, 0.08900000000000001, 0.14800000000000002, null], [4.418, 127.0, 0.094, 1.125, 0.35700000000000004, 0.26899999999999996, 0.053, 0.212, null], [4.39, 128.0, 0.385, 1.105, 0.308, 0.327, 0.052000000000000005, 0.153, null], [4.374, 129.0, 0.268, 0.841, 0.242, 0.309, 0.045, 0.252, null], [4.3660000000000005, 130.0, 0.9490000000000001, 1.265, 0.831, 0.47, 0.047, 0.244, null], [4.36, 131.0, 0.71, 1.181, 0.555, 0.525, 0.172, 0.5660000000000001, null], [4.35, 132.0, 0.35, 0.7659999999999999, 0.192, 0.174, 0.078, 0.198, null], [4.332, 133.0, 0.82, 1.39, 0.7390000000000001, 0.17800000000000002, 0.01, 0.187, null], [4.2860000000000005, 134.0, 0.336, 1.033, 0.532, 0.344, 0.1, 0.209, null], [4.212, 135.0, 0.8109999999999999, 1.149, 0.0, 0.313, 0.135, 0.07400000000000001, null], [4.189, 136.0, 0.332, 1.069, 0.44299999999999995, 0.35600000000000004, 0.06, 0.252, null], [4.166, 137.0, 0.9129999999999999, 1.0390000000000001, 0.644, 0.24100000000000002, 0.067, 0.076, null], [4.107, 138.0, 0.578, 1.058, 0.426, 0.431, 0.087, 0.247, null], [4.085, 139.0, 0.275, 0.5720000000000001, 0.41, 0.293, 0.085, 0.177, null], [4.015, 140.0, 0.755, 0.765, 0.588, 0.498, 0.085, 0.2, null], [3.975, 141.0, 0.073, 0.922, 0.44299999999999995, 0.37, 0.033, 0.233, null], [3.9730000000000003, 142.0, 0.27399999999999997, 0.757, 0.505, 0.142, 0.078, 0.275, null], [3.9330000000000003, 143.0, 0.27399999999999997, 0.9159999999999999, 0.555, 0.14800000000000002, 0.040999999999999995, 0.16899999999999998, null], [3.802, 144.0, 0.489, 1.169, 0.168, 0.359, 0.09300000000000001, 0.107, null], [3.775, 145.0, 0.046, 0.447, 0.38, 0.22, 0.18, 0.17600000000000002, null], [3.6630000000000003, 146.0, 0.366, 1.114, 0.433, 0.361, 0.08900000000000001, 0.151, null], [3.597, 147.0, 0.32299999999999995, 0.688, 0.449, 0.026000000000000002, 0.11, 0.419, null], [3.488, 148.0, 1.041, 1.145, 0.5379999999999999, 0.455, 0.1, 0.025, null], [3.4619999999999997, 149.0, 0.619, 0.37799999999999995, 0.44, 0.013000000000000001, 0.141, 0.331, null], [3.41, 150.0, 0.191, 0.56, 0.495, 0.44299999999999995, 0.08900000000000001, 0.218, null], [3.38, 151.0, 0.287, 1.163, 0.46299999999999997, 0.14300000000000002, 0.077, 0.10800000000000001, null], [3.3339999999999996, 152.0, 0.359, 0.711, 0.614, 0.555, 0.41100000000000003, 0.217, null], [3.2310000000000003, 153.0, 0.47600000000000003, 0.885, 0.499, 0.41700000000000004, 0.147, 0.276, null], [3.2030000000000003, 154.0, 0.35, 0.517, 0.361, 0.0, 0.025, 0.158, null], [3.083, 155.0, 0.026000000000000002, 0.0, 0.105, 0.225, 0.035, 0.235, null], [2.853, 156.0, 0.306, 0.575, 0.295, 0.01, 0.091, 0.20199999999999999, null]], \"geo\": \"geo\", \"hoverlabel\": {\"namelength\": 0}, \"hovertemplate\": \"<b>%{hovertext}</b><br><br>Year=2019.0<br>Happiness Score=%{z}<br>Happiness Rank=%{customdata[1]}<br>Economy (GDP per Capita)=%{customdata[2]}<br>Family=%{customdata[3]}<br>Health (Life Expectancy)=%{customdata[4]}<br>Freedom=%{customdata[5]}<br>Trust (Government Corruption)=%{customdata[6]}<br>Generosity=%{customdata[7]}<br>Dystopia Residual=%{customdata[8]}<br>Country=%{location}\", \"hovertext\": [\"Finland\", \"Denmark\", \"Norway\", \"Iceland\", \"Netherlands\", \"Switzerland\", \"Sweden\", \"New Zealand\", \"Canada\", \"Austria\", \"Australia\", \"Costa Rica\", \"Israel\", \"Luxembourg\", \"United Kingdom\", \"Ireland\", \"Germany\", \"Belgium\", \"United States\", \"Czech Republic\", \"United Arab Emirates\", \"Malta\", \"Mexico\", \"France\", \"Taiwan\", \"Chile\", \"Guatemala\", \"Saudi Arabia\", \"Qatar\", \"Spain\", \"Panama\", \"Brazil\", \"Uruguay\", \"Singapore\", \"El Salvador\", \"Italy\", \"Bahrain\", \"Slovakia\", \"Trinidad & Tobago\", \"Poland\", \"Uzbekistan\", \"Lithuania\", \"Colombia\", \"Slovenia\", \"Nicaragua\", \"Kosovo\", \"Argentina\", \"Romania\", \"Cyprus\", \"Ecuador\", \"Kuwait\", \"Thailand\", \"Latvia\", \"South Korea\", \"Estonia\", \"Jamaica\", \"Mauritius\", \"Japan\", \"Honduras\", \"Kazakhstan\", \"Bolivia\", \"Hungary\", \"Paraguay\", \"Northern Cyprus\", \"Peru\", \"Portugal\", \"Pakistan\", \"Russia\", \"Philippines\", \"Serbia\", \"Moldova\", \"Libya\", \"Montenegro\", \"Tajikistan\", \"Croatia\", \"Hong Kong\", \"Dominican Republic\", \"Bosnia and Herzegovina\", \"Turkey\", \"Malaysia\", \"Belarus\", \"Greece\", \"Mongolia\", \"North Macedonia\", \"Nigeria\", \"Kyrgyzstan\", \"Turkmenistan\", \"Algeria\", \"Morocco\", \"Azerbaijan\", \"Lebanon\", \"Indonesia\", \"China\", \"Vietnam\", \"Bhutan\", \"Cameroon\", \"Bulgaria\", \"Ghana\", \"Ivory Coast\", \"Nepal\", \"Jordan\", \"Benin\", \"Congo (Brazzaville)\", \"Gabon\", \"Laos\", \"South Africa\", \"Albania\", \"Venezuela\", \"Cambodia\", \"Palestinian Territories\", \"Senegal\", \"Somalia\", \"Namibia\", \"Niger\", \"Burkina Faso\", \"Armenia\", \"Iran\", \"Guinea\", \"Georgia\", \"Gambia\", \"Kenya\", \"Mauritania\", \"Mozambique\", \"Tunisia\", \"Bangladesh\", \"Iraq\", \"Congo (Kinshasa)\", \"Mali\", \"Sierra Leone\", \"Sri Lanka\", \"Myanmar\", \"Chad\", \"Ukraine\", \"Ethiopia\", \"Swaziland\", \"Uganda\", \"Egypt\", \"Zambia\", \"Togo\", \"India\", \"Liberia\", \"Comoros\", \"Madagascar\", \"Lesotho\", \"Burundi\", \"Zimbabwe\", \"Haiti\", \"Botswana\", \"Syria\", \"Malawi\", \"Yemen\", \"Rwanda\", \"Tanzania\", \"Afghanistan\", \"Central African Republic\", \"South Sudan\"], \"locationmode\": \"country names\", \"locations\": [\"Finland\", \"Denmark\", \"Norway\", \"Iceland\", \"Netherlands\", \"Switzerland\", \"Sweden\", \"New Zealand\", \"Canada\", \"Austria\", \"Australia\", \"Costa Rica\", \"Israel\", \"Luxembourg\", \"United Kingdom\", \"Ireland\", \"Germany\", \"Belgium\", \"United States\", \"Czech Republic\", \"United Arab Emirates\", \"Malta\", \"Mexico\", \"France\", \"Taiwan\", \"Chile\", \"Guatemala\", \"Saudi Arabia\", \"Qatar\", \"Spain\", \"Panama\", \"Brazil\", \"Uruguay\", \"Singapore\", \"El Salvador\", \"Italy\", \"Bahrain\", \"Slovakia\", \"Trinidad & Tobago\", \"Poland\", \"Uzbekistan\", \"Lithuania\", \"Colombia\", \"Slovenia\", \"Nicaragua\", \"Kosovo\", \"Argentina\", \"Romania\", \"Cyprus\", \"Ecuador\", \"Kuwait\", \"Thailand\", \"Latvia\", \"South Korea\", \"Estonia\", \"Jamaica\", \"Mauritius\", \"Japan\", \"Honduras\", \"Kazakhstan\", \"Bolivia\", \"Hungary\", \"Paraguay\", \"Northern Cyprus\", \"Peru\", \"Portugal\", \"Pakistan\", \"Russia\", \"Philippines\", \"Serbia\", \"Moldova\", \"Libya\", \"Montenegro\", \"Tajikistan\", \"Croatia\", \"Hong Kong\", \"Dominican Republic\", \"Bosnia and Herzegovina\", \"Turkey\", \"Malaysia\", \"Belarus\", \"Greece\", \"Mongolia\", \"North Macedonia\", \"Nigeria\", \"Kyrgyzstan\", \"Turkmenistan\", \"Algeria\", \"Morocco\", \"Azerbaijan\", \"Lebanon\", \"Indonesia\", \"China\", \"Vietnam\", \"Bhutan\", \"Cameroon\", \"Bulgaria\", \"Ghana\", \"Ivory Coast\", \"Nepal\", \"Jordan\", \"Benin\", \"Congo (Brazzaville)\", \"Gabon\", \"Laos\", \"South Africa\", \"Albania\", \"Venezuela\", \"Cambodia\", \"Palestinian Territories\", \"Senegal\", \"Somalia\", \"Namibia\", \"Niger\", \"Burkina Faso\", \"Armenia\", \"Iran\", \"Guinea\", \"Georgia\", \"Gambia\", \"Kenya\", \"Mauritania\", \"Mozambique\", \"Tunisia\", \"Bangladesh\", \"Iraq\", \"Congo (Kinshasa)\", \"Mali\", \"Sierra Leone\", \"Sri Lanka\", \"Myanmar\", \"Chad\", \"Ukraine\", \"Ethiopia\", \"Swaziland\", \"Uganda\", \"Egypt\", \"Zambia\", \"Togo\", \"India\", \"Liberia\", \"Comoros\", \"Madagascar\", \"Lesotho\", \"Burundi\", \"Zimbabwe\", \"Haiti\", \"Botswana\", \"Syria\", \"Malawi\", \"Yemen\", \"Rwanda\", \"Tanzania\", \"Afghanistan\", \"Central African Republic\", \"South Sudan\"], \"name\": \"\", \"z\": [7.769, 7.6, 7.553999999999999, 7.494, 7.4879999999999995, 7.48, 7.343, 7.307, 7.278, 7.246, 7.228, 7.167000000000001, 7.138999999999999, 7.09, 7.053999999999999, 7.021, 6.985, 6.922999999999999, 6.892, 6.852, 6.825, 6.726, 6.595, 6.5920000000000005, 6.446000000000001, 6.444, 6.436, 6.375, 6.374, 6.354, 6.321000000000001, 6.3, 6.292999999999999, 6.2620000000000005, 6.252999999999999, 6.223, 6.199, 6.1979999999999995, 6.192, 6.182, 6.1739999999999995, 6.149, 6.125, 6.117999999999999, 6.105, 6.1, 6.086, 6.07, 6.046, 6.028, 6.021, 6.007999999999999, 5.94, 5.895, 5.893, 5.89, 5.888, 5.886, 5.86, 5.809, 5.779, 5.757999999999999, 5.742999999999999, 5.718, 5.697, 5.693, 5.653, 5.648, 5.631, 5.603, 5.529, 5.525, 5.523, 5.4670000000000005, 5.432, 5.43, 5.425, 5.386, 5.372999999999999, 5.3389999999999995, 5.3229999999999995, 5.287000000000001, 5.285, 5.274, 5.265, 5.261, 5.247000000000001, 5.211, 5.207999999999999, 5.207999999999999, 5.197, 5.192, 5.191, 5.175, 5.082, 5.044, 5.011, 4.996, 4.944, 4.913, 4.906000000000001, 4.883, 4.812, 4.7989999999999995, 4.796, 4.7219999999999995, 4.718999999999999, 4.707, 4.7, 4.696000000000001, 4.681, 4.668, 4.638999999999999, 4.628, 4.587, 4.559, 4.548, 4.534, 4.519, 4.516, 4.5089999999999995, 4.49, 4.466, 4.461, 4.456, 4.437, 4.418, 4.39, 4.374, 4.3660000000000005, 4.36, 4.35, 4.332, 4.2860000000000005, 4.212, 4.189, 4.166, 4.107, 4.085, 4.015, 3.975, 3.9730000000000003, 3.9330000000000003, 3.802, 3.775, 3.6630000000000003, 3.597, 3.488, 3.4619999999999997, 3.41, 3.38, 3.3339999999999996, 3.2310000000000003, 3.2030000000000003, 3.083, 2.853], \"type\": \"choropleth\"}], \"name\": \"2019.0\"}]);\n",
              "                        }).then(function(){\n",
              "                            \n",
              "var gd = document.getElementById('004e69a4-46e5-4fe7-9282-e6ca0c8f8fcf');\n",
              "var x = new MutationObserver(function (mutations, observer) {{\n",
              "        var display = window.getComputedStyle(gd).display;\n",
              "        if (!display || display === 'none') {{\n",
              "            console.log([gd, 'removed!']);\n",
              "            Plotly.purge(gd);\n",
              "            observer.disconnect();\n",
              "        }}\n",
              "}});\n",
              "\n",
              "// Listen for the removal of the full notebook cells\n",
              "var notebookContainer = gd.closest('#notebook-container');\n",
              "if (notebookContainer) {{\n",
              "    x.observe(notebookContainer, {childList: true});\n",
              "}}\n",
              "\n",
              "// Listen for the clearing of the current output cell\n",
              "var outputEl = gd.closest('.output');\n",
              "if (outputEl) {{\n",
              "    x.observe(outputEl, {childList: true});\n",
              "}}\n",
              "\n",
              "                        })\n",
              "                };\n",
              "                \n",
              "            </script>\n",
              "        </div>\n",
              "</body>\n",
              "</html>"
            ]
          },
          "metadata": {
            "tags": []
          }
        },
        {
          "output_type": "stream",
          "text": [
            "Gray countries are the ones without information in the dataset\n"
          ],
          "name": "stdout"
        }
      ]
    },
    {
      "cell_type": "markdown",
      "metadata": {
        "id": "0eTuNxyHu0Rf"
      },
      "source": [
        "DATOS PIE CHART"
      ]
    },
    {
      "cell_type": "code",
      "metadata": {
        "colab": {
          "base_uri": "https://localhost:8080/",
          "height": 195
        },
        "id": "CsAjUlbQu61h",
        "outputId": "13c2da48-d6e9-4291-cb23-9dc5f2f08f32"
      },
      "source": [
        "df_pie = df[df['Happiness Rank']==1]\n",
        "df_pie = df_pie.loc[:, ['Country', 'Happiness Score','Year']]\n",
        "cols = ['Year']\n",
        "df_pie[cols] = df_pie[cols].applymap(np.int64)\n",
        "df_pie.head()"
      ],
      "execution_count": null,
      "outputs": [
        {
          "output_type": "execute_result",
          "data": {
            "text/html": [
              "<div>\n",
              "<style scoped>\n",
              "    .dataframe tbody tr th:only-of-type {\n",
              "        vertical-align: middle;\n",
              "    }\n",
              "\n",
              "    .dataframe tbody tr th {\n",
              "        vertical-align: top;\n",
              "    }\n",
              "\n",
              "    .dataframe thead th {\n",
              "        text-align: right;\n",
              "    }\n",
              "</style>\n",
              "<table border=\"1\" class=\"dataframe\">\n",
              "  <thead>\n",
              "    <tr style=\"text-align: right;\">\n",
              "      <th></th>\n",
              "      <th>Country</th>\n",
              "      <th>Happiness Score</th>\n",
              "      <th>Year</th>\n",
              "    </tr>\n",
              "  </thead>\n",
              "  <tbody>\n",
              "    <tr>\n",
              "      <th>0</th>\n",
              "      <td>Switzerland</td>\n",
              "      <td>7.587</td>\n",
              "      <td>2015</td>\n",
              "    </tr>\n",
              "    <tr>\n",
              "      <th>158</th>\n",
              "      <td>Denmark</td>\n",
              "      <td>7.526</td>\n",
              "      <td>2016</td>\n",
              "    </tr>\n",
              "    <tr>\n",
              "      <th>315</th>\n",
              "      <td>Norway</td>\n",
              "      <td>7.537</td>\n",
              "      <td>2017</td>\n",
              "    </tr>\n",
              "    <tr>\n",
              "      <th>470</th>\n",
              "      <td>Finland</td>\n",
              "      <td>7.632</td>\n",
              "      <td>2018</td>\n",
              "    </tr>\n",
              "    <tr>\n",
              "      <th>626</th>\n",
              "      <td>Finland</td>\n",
              "      <td>7.769</td>\n",
              "      <td>2019</td>\n",
              "    </tr>\n",
              "  </tbody>\n",
              "</table>\n",
              "</div>"
            ],
            "text/plain": [
              "         Country  Happiness Score  Year\n",
              "0    Switzerland            7.587  2015\n",
              "158      Denmark            7.526  2016\n",
              "315       Norway            7.537  2017\n",
              "470      Finland            7.632  2018\n",
              "626      Finland            7.769  2019"
            ]
          },
          "metadata": {
            "tags": []
          },
          "execution_count": 479
        }
      ]
    },
    {
      "cell_type": "markdown",
      "metadata": {
        "id": "f8Kcxmy4H7Tc"
      },
      "source": [
        "**DATOS** **MAPAS**"
      ]
    },
    {
      "cell_type": "markdown",
      "metadata": {
        "id": "I5hrgoujO0Jh"
      },
      "source": [
        "Datos Rotating Globe\n"
      ]
    },
    {
      "cell_type": "markdown",
      "metadata": {
        "id": "sCuJVFg-3IHE"
      },
      "source": [
        "Datos Map Bubbles"
      ]
    },
    {
      "cell_type": "code",
      "metadata": {
        "colab": {
          "base_uri": "https://localhost:8080/",
          "height": 195
        },
        "id": "oIIjF9zb3sq7",
        "outputId": "70f5bb9b-2b9b-4e67-cb3c-7d454f6c53f8"
      },
      "source": [
        "df_map = df.loc[df['Year'] == 2019.0]\n",
        "df_map = df_map.loc[:, ['country_code','Country','Happiness Score']]\n",
        "\n",
        "df_map.head()"
      ],
      "execution_count": null,
      "outputs": [
        {
          "output_type": "execute_result",
          "data": {
            "text/html": [
              "<div>\n",
              "<style scoped>\n",
              "    .dataframe tbody tr th:only-of-type {\n",
              "        vertical-align: middle;\n",
              "    }\n",
              "\n",
              "    .dataframe tbody tr th {\n",
              "        vertical-align: top;\n",
              "    }\n",
              "\n",
              "    .dataframe thead th {\n",
              "        text-align: right;\n",
              "    }\n",
              "</style>\n",
              "<table border=\"1\" class=\"dataframe\">\n",
              "  <thead>\n",
              "    <tr style=\"text-align: right;\">\n",
              "      <th></th>\n",
              "      <th>country_code</th>\n",
              "      <th>Country</th>\n",
              "      <th>Happiness Score</th>\n",
              "    </tr>\n",
              "  </thead>\n",
              "  <tbody>\n",
              "    <tr>\n",
              "      <th>626</th>\n",
              "      <td>FI</td>\n",
              "      <td>Finland</td>\n",
              "      <td>7.769</td>\n",
              "    </tr>\n",
              "    <tr>\n",
              "      <th>627</th>\n",
              "      <td>DK</td>\n",
              "      <td>Denmark</td>\n",
              "      <td>7.600</td>\n",
              "    </tr>\n",
              "    <tr>\n",
              "      <th>628</th>\n",
              "      <td>NO</td>\n",
              "      <td>Norway</td>\n",
              "      <td>7.554</td>\n",
              "    </tr>\n",
              "    <tr>\n",
              "      <th>629</th>\n",
              "      <td>IS</td>\n",
              "      <td>Iceland</td>\n",
              "      <td>7.494</td>\n",
              "    </tr>\n",
              "    <tr>\n",
              "      <th>630</th>\n",
              "      <td>NL</td>\n",
              "      <td>Netherlands</td>\n",
              "      <td>7.488</td>\n",
              "    </tr>\n",
              "  </tbody>\n",
              "</table>\n",
              "</div>"
            ],
            "text/plain": [
              "    country_code      Country  Happiness Score\n",
              "626           FI      Finland            7.769\n",
              "627           DK      Denmark            7.600\n",
              "628           NO       Norway            7.554\n",
              "629           IS      Iceland            7.494\n",
              "630           NL  Netherlands            7.488"
            ]
          },
          "metadata": {
            "tags": []
          },
          "execution_count": 579
        }
      ]
    },
    {
      "cell_type": "markdown",
      "metadata": {
        "id": "JwWhd-bXG4aW"
      },
      "source": [
        "**1.HTML** Abrir archivos, Insertar encabezado"
      ]
    },
    {
      "cell_type": "code",
      "metadata": {
        "id": "bbrrTxoqlVuU"
      },
      "source": [
        "f = open(\"index.txt\") \n",
        "g = open ('index.html','a')\n",
        "for linea in f:\n",
        "        g.write(linea)\n",
        "f.close()  "
      ],
      "execution_count": null,
      "outputs": []
    },
    {
      "cell_type": "markdown",
      "metadata": {
        "id": "t8qI4n3R8J-z"
      },
      "source": [
        "\n",
        "\n",
        "`<script globemap >`"
      ]
    },
    {
      "cell_type": "code",
      "metadata": {
        "colab": {
          "base_uri": "https://localhost:8080/"
        },
        "id": "dMe7ZqtJ8fBK",
        "outputId": "d31a540f-a05b-46d0-f912-321c8797ce74"
      },
      "source": [
        "s1 = \"\"\"<script>\n",
        "    //------------------------------------------------------------GLOBE MAP START------------------------------------------------------------------------------------------\n",
        "    am4core.ready(function() {\n",
        "    \n",
        "    // Themes begin\n",
        "    am4core.useTheme(am4themes_animated);\n",
        "    // Themes end\n",
        "    \n",
        "    // Create map instance\n",
        "    var chart = am4core.create(\"mapglobediv\", am4maps.MapChart);\n",
        "    var interfaceColors = new am4core.InterfaceColorSet();\n",
        "    \n",
        "    try {\n",
        "        chart.geodata = am4geodata_worldLow;\n",
        "    }\n",
        "    catch (e) {\n",
        "        chart.raiseCriticalError(new Error(\"Map geodata could not be loaded. Please download the latest \"));\n",
        "    }\n",
        "    \n",
        "    \n",
        "    var label = chart.createChild(am4core.Label)\n",
        "    label.text = \"World Happiness score from 2019.\";\n",
        "    label.fontSize = 12;\n",
        "    label.align = \"left\";\n",
        "    label.valign = \"bottom\"\n",
        "    label.fill = am4core.color(\"#927459\");\n",
        "    label.background = new am4core.RoundedRectangle()\n",
        "    label.background.cornerRadius(10,10,10,10);\n",
        "    label.padding(10,10,10,10);\n",
        "    label.marginLeft = 30;\n",
        "    label.marginBottom = 30;\n",
        "    label.background.strokeOpacity = 0.3;\n",
        "    label.background.stroke =am4core.color(\"#927459\");\n",
        "    label.background.fill = am4core.color(\"#f9e3ce\");\n",
        "    label.background.fillOpacity = 0.6;\n",
        "    \n",
        "    var dataSource = chart.createChild(am4core.TextLink)\n",
        "    dataSource.text = \"Data source: Gallup World Poll\";\n",
        "    dataSource.fontSize = 12;\n",
        "    dataSource.align = \"left\";\n",
        "    dataSource.valign = \"top\"\n",
        "    dataSource.urlTarget = \"_blank\";\n",
        "    dataSource.fill = am4core.color(\"#927459\");\n",
        "    dataSource.padding(10,10,10,10);\n",
        "    dataSource.marginLeft = 30;\n",
        "    dataSource.marginTop = 30;\n",
        "    \n",
        "    // Set projection\n",
        "    chart.projection = new am4maps.projections.Orthographic();\n",
        "    chart.panBehavior = \"rotateLongLat\";\n",
        "    chart.padding(20,20,20,20);\n",
        "    \n",
        "    // Add zoom control\n",
        "    chart.zoomControl = new am4maps.ZoomControl();\n",
        "    \n",
        "    var homeButton = new am4core.Button();\n",
        "    homeButton.events.on(\"hit\", function(){\n",
        "      chart.goHome();\n",
        "    });\n",
        "    \n",
        "    homeButton.icon = new am4core.Sprite();\n",
        "    homeButton.padding(7, 5, 7, 5);\n",
        "    homeButton.width = 30;\n",
        "    homeButton.icon.path = \"M16,8 L14,8 L14,16 L10,16 L10,10 L6,10 L6,16 L2,16 L2,8 L0,8 L8,0 L16,8 Z M16,8\";\n",
        "    homeButton.marginBottom = 10;\n",
        "    homeButton.parent = chart.zoomControl;\n",
        "    homeButton.insertBefore(chart.zoomControl.plusButton);\n",
        "    \n",
        "    chart.backgroundSeries.mapPolygons.template.polygon.fill = am4core.color(\"#bfa58d\");\n",
        "    chart.backgroundSeries.mapPolygons.template.polygon.fillOpacity = 1;\n",
        "    chart.deltaLongitude = 20;\n",
        "    chart.deltaLatitude = -20;\n",
        "    \n",
        "    // limits vertical rotation\n",
        "    chart.adapter.add(\"deltaLatitude\", function(delatLatitude){\n",
        "        return am4core.math.fitToRange(delatLatitude, -90, 90);\n",
        "    })\n",
        "    \n",
        "    // Create map polygon series\n",
        "    \n",
        "    var shadowPolygonSeries = chart.series.push(new am4maps.MapPolygonSeries());\n",
        "    shadowPolygonSeries.geodata = am4geodata_continentsLow;\n",
        "    \n",
        "    try {\n",
        "        shadowPolygonSeries.geodata = am4geodata_continentsLow;\n",
        "    }\n",
        "    catch (e) {\n",
        "        shadowPolygonSeries.raiseCriticalError(new Error(\"Map geodata could not be loaded. Please download the latest\"));\n",
        "    }\n",
        "    \n",
        "    shadowPolygonSeries.useGeodata = true;\n",
        "    shadowPolygonSeries.dx = 2;\n",
        "    shadowPolygonSeries.dy = 2;\n",
        "    shadowPolygonSeries.mapPolygons.template.fill = am4core.color(\"#000\");\n",
        "    shadowPolygonSeries.mapPolygons.template.fillOpacity = 0.2;\n",
        "    shadowPolygonSeries.mapPolygons.template.strokeOpacity = 0;\n",
        "    shadowPolygonSeries.fillOpacity = 0.1;\n",
        "    shadowPolygonSeries.fill = am4core.color(\"#000\");\n",
        "    \n",
        "    \n",
        "    // Create map polygon series\n",
        "    var polygonSeries = chart.series.push(new am4maps.MapPolygonSeries());\n",
        "    polygonSeries.useGeodata = true;\n",
        "    \n",
        "    polygonSeries.calculateVisualCenter = true;\n",
        "    polygonSeries.tooltip.background.fillOpacity = 0.2;\n",
        "    polygonSeries.tooltip.background.cornerRadius = 20;\n",
        "    \n",
        "    var template = polygonSeries.mapPolygons.template;\n",
        "    template.nonScalingStroke = true;\n",
        "    template.fill = am4core.color(\"#f9e3ce\");\n",
        "    template.stroke = am4core.color(\"#e2c9b0\");\n",
        "    \n",
        "    polygonSeries.calculateVisualCenter = true;\n",
        "    template.propertyFields.id = \"id\";\n",
        "    template.tooltipPosition = \"fixed\";\n",
        "    template.fillOpacity = 1;\n",
        "    \n",
        "    template.events.on(\"over\", function (event) {\n",
        "      if (event.target.dummyData) {\n",
        "        event.target.dummyData.isHover = true;\n",
        "      }\n",
        "    })\n",
        "    template.events.on(\"out\", function (event) {\n",
        "      if (event.target.dummyData) {\n",
        "        event.target.dummyData.isHover = false;\n",
        "      }\n",
        "    })\n",
        "    \n",
        "    var hs = polygonSeries.mapPolygons.template.states.create(\"hover\");\n",
        "    hs.properties.fillOpacity = 1;\n",
        "    hs.properties.fill = am4core.color(\"#deb7ad\");\n",
        "    \n",
        "    var graticuleSeries = chart.series.push(new am4maps.GraticuleSeries());\n",
        "    graticuleSeries.mapLines.template.stroke = am4core.color(\"#fff\");\n",
        "    graticuleSeries.fitExtent = false;\n",
        "    graticuleSeries.mapLines.template.strokeOpacity = 0.2;\n",
        "    graticuleSeries.mapLines.template.stroke = am4core.color(\"#fff\");\n",
        "     \n",
        "    var measelsSeries = chart.series.push(new am4maps.MapPolygonSeries())\n",
        "    measelsSeries.tooltip.background.fillOpacity = 0;\n",
        "    measelsSeries.tooltip.background.cornerRadius = 20;\n",
        "    measelsSeries.tooltip.autoTextColor = false;\n",
        "    measelsSeries.tooltip.label.fill = am4core.color(\"#000\");\n",
        "    measelsSeries.tooltip.dy = -5;\n",
        "    \n",
        "    var measelTemplate = measelsSeries.mapPolygons.template;\n",
        "    measelTemplate.fill = am4core.color(\"#bf7569\");\n",
        "    measelTemplate.strokeOpacity = 0;\n",
        "    measelTemplate.fillOpacity = 0.75;\n",
        "    measelTemplate.tooltipPosition = \"fixed\";\n",
        "     \n",
        "    var hs2 = measelsSeries.mapPolygons.template.states.create(\"hover\");\n",
        "    hs2.properties.fillOpacity = 1;\n",
        "    hs2.properties.fill = am4core.color(\"#86240c\");\n",
        "    \n",
        "    polygonSeries.events.on(\"inited\", function () {\n",
        "      polygonSeries.mapPolygons.each(function (mapPolygon) {\n",
        "        var count = datamap[mapPolygon.id];\n",
        "    \n",
        "        if (count > 0) {\n",
        "          var polygon = measelsSeries.mapPolygons.create();\n",
        "          polygon.multiPolygon = am4maps.getCircle(mapPolygon.visualLongitude, mapPolygon.visualLatitude, Math.max(0.2, Math.log(count) * Math.LN10 / 10));\n",
        "          polygon.tooltipText = mapPolygon.dataItem.dataContext.name + \": \" + count;\n",
        "          mapPolygon.dummyData = polygon;\n",
        "          polygon.events.on(\"over\", function () {\n",
        "            mapPolygon.isHover = true;\n",
        "          })\n",
        "          polygon.events.on(\"out\", function () {\n",
        "            mapPolygon.isHover = false;\n",
        "          })\n",
        "        }\n",
        "        else {\n",
        "          mapPolygon.tooltipText = mapPolygon.dataItem.dataContext.name + \": no data\";\n",
        "          mapPolygon.fillOpacity = 0.9;\n",
        "        }\n",
        "    \n",
        "      })\n",
        "    })\n",
        "//------------------------------------------------------------GLOBE MAP END------------------------------------------------------------------------------------------\"\"\"\n",
        "\n",
        "g.write(s1)"
      ],
      "execution_count": null,
      "outputs": [
        {
          "output_type": "execute_result",
          "data": {
            "text/plain": [
              "6896"
            ]
          },
          "metadata": {
            "tags": []
          },
          "execution_count": 540
        }
      ]
    },
    {
      "cell_type": "markdown",
      "metadata": {
        "id": "pRU_BuStGsvF"
      },
      "source": [
        "**Insertar datos mapas** df_map"
      ]
    },
    {
      "cell_type": "code",
      "metadata": {
        "id": "qlPGQTLWmOn_"
      },
      "source": [
        "size = len(df_map)\n",
        "g.write('\\n // MAPS Add data\\n var datamap = {\\n')\n",
        "\n",
        "cont = 0\n",
        "\n",
        "for index, row in df_map.iterrows():\n",
        "    code = row['country_code']\n",
        "    score = row['Happiness Score']\n",
        "    if cont < size - 1: \n",
        "        g.write('\"'+str(code)+'\"'+':'+ str(score)+',\\n')\n",
        "        cont = cont + 1\n",
        "    else:\n",
        "        g.write('\"'+str(code)+'\"'+':'+ str(score)+'\\n}\\n')\n"
      ],
      "execution_count": null,
      "outputs": []
    },
    {
      "cell_type": "code",
      "metadata": {
        "colab": {
          "base_uri": "https://localhost:8080/"
        },
        "id": "F_Xwmg_UC6HQ",
        "outputId": "b0ab9dbf-1a5b-4653-d7dd-5586cd15513b"
      },
      "source": [
        "s1 = \"\"\"}); // end am4core.ready()\n",
        "</script>\"\"\"\n",
        "g.write(s1)"
      ],
      "execution_count": null,
      "outputs": [
        {
          "output_type": "execute_result",
          "data": {
            "text/plain": [
              "36"
            ]
          },
          "metadata": {
            "tags": []
          },
          "execution_count": 542
        }
      ]
    },
    {
      "cell_type": "markdown",
      "metadata": {
        "id": "UuBE6sNSFITQ"
      },
      "source": [
        "Map with bubbles"
      ]
    },
    {
      "cell_type": "code",
      "metadata": {
        "colab": {
          "base_uri": "https://localhost:8080/"
        },
        "id": "xUNxAfuW_oB5",
        "outputId": "3ebf214b-18d1-49ff-9382-0efa806917de"
      },
      "source": [
        "s2 = \"\"\"<script>\n",
        "//------------------------------------------------------------BUBBLE MAP START--------------------------------------------------------------------------------------\n",
        "\n",
        "am4core.ready(function() {\n",
        "// Themes begin\n",
        "am4core.useTheme(am4themes_animated);\n",
        "// Themes end\n",
        "\n",
        "// Create map instance\n",
        "var bubblechart = am4core.create(\"mapbubblediv\", am4maps.MapChart);\n",
        "\n",
        "var title = bubblechart.titles.create();\n",
        "title.text = \"[bold font-size: 20]World Hapiness Report of 2019[/]\";\n",
        "title.textAlign = \"middle\";\n",
        "//------------------------------------------------------------BUBBLE MAP END--------------------------------------------------------------------------------------\"\"\"\n",
        "g.write(s2)"
      ],
      "execution_count": null,
      "outputs": [
        {
          "output_type": "execute_result",
          "data": {
            "text/plain": [
              "663"
            ]
          },
          "metadata": {
            "tags": []
          },
          "execution_count": 543
        }
      ]
    },
    {
      "cell_type": "code",
      "metadata": {
        "id": "nI4vH7By7XD8"
      },
      "source": [
        "g.write('\\n // BUBBLE MAP Add data \\n var datamap2 = [')\n",
        "cont = 0\n",
        "for index, row in df_map.iterrows():\n",
        "    code = row['country_code']\n",
        "    country = row['Country']\n",
        "    score = row['Happiness Score']\n",
        "\n",
        "    if cont < size - 1:\n",
        "        g.write('{\"id\":\"'+str(code)+'\",\\n\"name\":\"' +str(country)+'\",\\n\"value\":' +str(score)+'\\n},')\n",
        "        cont = cont + 1\n",
        "    else:\n",
        "        g.write('{\"id\":\"'+str(code)+'\",\\n\"name\":\"'+str(country)+'\",\\n\"value\":' +str(score)+'\\n}];\\n')"
      ],
      "execution_count": null,
      "outputs": []
    },
    {
      "cell_type": "code",
      "metadata": {
        "colab": {
          "base_uri": "https://localhost:8080/"
        },
        "id": "toDJbxu9_7Gw",
        "outputId": "b7faee6e-c3da-457a-8d66-abf22460c8ac"
      },
      "source": [
        "s2 = \"\"\"//>>>>>>>>>>>>>>>>>>>>>>>>>>>>>>>>>>>>>>>>>>>>>>>>>>>>>>>>>>>>BUBBLE MAP START<<<<<<<<<<<<<<<<<<<<<<<<<<<<<<<<<<<<<<<<<<<<<<<<<<<<<<<<<<<<<<<<<<<<<<<<<<<<<<<<<<<<<<\n",
        "\n",
        "// Set map definition\n",
        "bubblechart.geodata = am4geodata_worldLow;\n",
        "\n",
        "// Set projection\n",
        "bubblechart.projection = new am4maps.projections.Miller();\n",
        "\n",
        "// Create map polygon series\n",
        "var polygonSeries = bubblechart.series.push(new am4maps.MapPolygonSeries());\n",
        "polygonSeries.exclude = [\"AQ\"];\n",
        "polygonSeries.useGeodata = true;\n",
        "polygonSeries.nonScalingStroke = true;\n",
        "polygonSeries.strokeWidth = 0.5;\n",
        "polygonSeries.calculateVisualCenter = true;\n",
        "\n",
        "var imageSeries = bubblechart.series.push(new am4maps.MapImageSeries());\n",
        "imageSeries.data = datamap2;\n",
        "imageSeries.dataFields.value = \"value\";\n",
        "\n",
        "var imageTemplate = imageSeries.mapImages.template;\n",
        "imageTemplate.nonScaling = true\n",
        "\n",
        "var circle = imageTemplate.createChild(am4core.Circle);\n",
        "circle.fillOpacity = 0.5;\n",
        "\n",
        "function generarLetra(){\n",
        "\tvar letras = [\"a\",\"b\",\"c\",\"d\",\"e\",\"f\",\"0\",\"1\",\"2\",\"3\",\"4\",\"5\",\"6\",\"7\",\"8\",\"9\"];\n",
        "\tvar numero = (Math.random()*15).toFixed(0);\n",
        "\treturn letras[numero];\n",
        "}\n",
        "\t\n",
        "function colorHEX(){\n",
        "\tvar coolor = \"\";\n",
        "\tfor(var i=0;i<6;i++){\n",
        "\t\tcoolor = coolor + generarLetra() ;\n",
        "\t}\n",
        "\treturn \"#\" + coolor;\n",
        "}\n",
        "\n",
        "circle.fill =  am4core.color(colorHEX());\n",
        "circle.tooltipText = \"{name}: [bold]{value}[/]\";\n",
        "\n",
        "\n",
        "imageSeries.heatRules.push({\n",
        "  \"target\": circle,\n",
        "  \"property\": \"radius\",\n",
        "  \"min\": 4,\n",
        "  \"max\": 30,\n",
        "  \"dataField\": \"value\"\n",
        "})\n",
        "\n",
        "imageTemplate.adapter.add(\"latitude\", function(latitude, target) {\n",
        "  var polygon = polygonSeries.getPolygonById(target.dataItem.dataContext.id);\n",
        "  if(polygon){\n",
        "    return polygon.visualLatitude;\n",
        "   }\n",
        "   return latitude;\n",
        "})\n",
        "\n",
        "imageTemplate.adapter.add(\"longitude\", function(longitude, target) {\n",
        "  var polygon = polygonSeries.getPolygonById(target.dataItem.dataContext.id);\n",
        "  if(polygon){\n",
        "    return polygon.visualLongitude;\n",
        "   }\n",
        "   return longitude;\n",
        "})\n",
        "\n",
        "//>>>>>>>>>>>>>>>>>>>>>>>>>>>>>>>>>>>>>>>>>>>>>>>>>>>>>>>>>>>>BUBBLE MAP END<<<<<<<<<<<<<<<<<<<<<<<<<<<<<<<<<<<<<<<<<<<<<<<<<<<<<<<<<<<<<<<<<<<<<<<<<<<<<<<<<<<<<<\n",
        "}); // end am4core.ready()\n",
        "</script>\"\"\"\n",
        "g.write(s2)"
      ],
      "execution_count": null,
      "outputs": [
        {
          "output_type": "execute_result",
          "data": {
            "text/plain": [
              "2084"
            ]
          },
          "metadata": {
            "tags": []
          },
          "execution_count": 545
        }
      ]
    },
    {
      "cell_type": "markdown",
      "metadata": {
        "id": "8hiDUBdGHWh1"
      },
      "source": [
        "**Insertar datos Chart Race** df_graphic_race"
      ]
    },
    {
      "cell_type": "code",
      "metadata": {
        "colab": {
          "base_uri": "https://localhost:8080/"
        },
        "id": "yrAiunvLAUJg",
        "outputId": "59736a2a-08b9-43b5-af57-f159f1fa01ee"
      },
      "source": [
        "s3 = \"\"\"<script>\n",
        "//------------------------------------------------------------CHART RACE  START--------------------------------------------------------------------------------------\n",
        " am4core.ready(function() {\n",
        "// Themes begin\n",
        "am4core.useTheme(am4themes_animated);\n",
        "// Themes end\n",
        "\n",
        "var racechart = am4core.create(\"chartracediv\", am4charts.XYChart);\n",
        "racechart.padding(40, 40, 40, 40);\n",
        "\n",
        "racechart.numberFormatter.bigNumberPrefixes = [\n",
        "  { \"number\": 1e+3, \"suffix\": \"K\" },\n",
        "  { \"number\": 1e+6, \"suffix\": \"M\" },\n",
        "  { \"number\": 1e+9, \"suffix\": \"B\" }\n",
        "];\n",
        "\n",
        "var label = racechart.plotContainer.createChild(am4core.Label);\n",
        "label.x = am4core.percent(97);\n",
        "label.y = am4core.percent(95);\n",
        "label.horizontalCenter = \"right\";\n",
        "label.verticalCenter = \"middle\";\n",
        "label.dx = -15;\n",
        "label.fontSize = 50;\n",
        "\n",
        "var playButton = racechart.plotContainer.createChild(am4core.PlayButton);\n",
        "playButton.x = am4core.percent(97);\n",
        "playButton.y = am4core.percent(95);\n",
        "playButton.dy = -2;\n",
        "playButton.verticalCenter = \"middle\";\n",
        "playButton.events.on(\"toggled\", function(event) {\n",
        "  if (event.target.isActive) {\n",
        "    play();\n",
        "  }\n",
        "  else {\n",
        "    stop();\n",
        "  }\n",
        "})\n",
        "\n",
        "var stepDuration = 4000;\n",
        "\n",
        "var categoryAxis = racechart.yAxes.push(new am4charts.CategoryAxis());\n",
        "categoryAxis.renderer.grid.template.location = 0;\n",
        "categoryAxis.dataFields.category = \"Country\";\n",
        "categoryAxis.renderer.minGridDistance = 1;\n",
        "categoryAxis.renderer.inversed = true;\n",
        "categoryAxis.renderer.grid.template.disabled = true;\n",
        "\n",
        "var valueAxis = racechart.xAxes.push(new am4charts.ValueAxis());\n",
        "valueAxis.min = 0;\n",
        "valueAxis.rangeChangeEasing = am4core.ease.linear;\n",
        "valueAxis.rangeChangeDuration = stepDuration;\n",
        "valueAxis.extraMax = 0.1;\n",
        "\n",
        "var series = racechart.series.push(new am4charts.ColumnSeries());\n",
        "series.dataFields.categoryY = \"Country\";\n",
        "series.dataFields.valueX = \"MAU\";\n",
        "series.tooltipText = \"{valueX.value}\"\n",
        "series.columns.template.strokeOpacity = 0;\n",
        "series.columns.template.column.cornerRadiusBottomRight = 5;\n",
        "series.columns.template.column.cornerRadiusTopRight = 5;\n",
        "series.interpolationDuration = stepDuration;\n",
        "series.interpolationEasing = am4core.ease.linear;\n",
        "\n",
        "var labelBullet = series.bullets.push(new am4charts.LabelBullet())\n",
        "labelBullet.label.horizontalCenter = \"right\";\n",
        "labelBullet.label.text = \"{values.valueX.workingValue.formatNumber('#.0as')}\";\n",
        "labelBullet.label.textAlign = \"end\";\n",
        "labelBullet.label.dx = -10;\n",
        "\n",
        "racechart.zoomOutButton.disabled = true;\n",
        "\n",
        "// as by default columns of the same series are of the same color, we add adapter which takes colors from chart.colors color set\n",
        "series.columns.template.adapter.add(\"fill\", function(fill, target){\n",
        "  return racechart.colors.getIndex(target.dataItem.index);\n",
        "});\n",
        "\n",
        "var year = 2015;\n",
        "label.text = year.toString();\n",
        "\n",
        "var interval;\n",
        "\n",
        "function play() {\n",
        "  interval = setInterval(function(){\n",
        "    nextYear();\n",
        "  }, stepDuration)\n",
        "  nextYear();\n",
        "}\n",
        "\n",
        "function stop() {\n",
        "  if (interval) {\n",
        "    clearInterval(interval);\n",
        "  }\n",
        "}\n",
        "\n",
        "function nextYear() {\n",
        "  year++\n",
        "\n",
        "  if (year > 2019) {\n",
        "    year = 2015;\n",
        "  }\n",
        "\n",
        "  var newData = dataRace[year];\n",
        "  var itemsWithNonZero = 0;\n",
        "  for (var i = 0; i < racechart.data.length; i++) {\n",
        "    racechart.data[i].MAU = newData[i].MAU;\n",
        "    if (racechart.data[i].MAU > 0) {\n",
        "      itemsWithNonZero++;\n",
        "    }\n",
        "  }\n",
        "\n",
        "  if (year == 2015) {\n",
        "    series.interpolationDuration = stepDuration / 4;\n",
        "    valueAxis.rangeChangeDuration = stepDuration / 4;\n",
        "  }\n",
        "  else {\n",
        "    series.interpolationDuration = stepDuration;\n",
        "    valueAxis.rangeChangeDuration = stepDuration;\n",
        "  }\n",
        "\n",
        "  racechart.invalidateRawData();\n",
        "  label.text = year.toString();\n",
        "\n",
        "  categoryAxis.zoom({ start: 0, end: itemsWithNonZero / categoryAxis.dataItems.length });\n",
        "}\n",
        "\n",
        "categoryAxis.sortBySeries = series;\n",
        "\n",
        "//------------------------------------------------------------CHART RACE  END--------------------------------------------------------------------------------------\"\"\"\n",
        "g.write(s3)"
      ],
      "execution_count": null,
      "outputs": [
        {
          "output_type": "execute_result",
          "data": {
            "text/plain": [
              "3783"
            ]
          },
          "metadata": {
            "tags": []
          },
          "execution_count": 546
        }
      ]
    },
    {
      "cell_type": "code",
      "metadata": {
        "colab": {
          "base_uri": "https://localhost:8080/"
        },
        "id": "DZePkEahpdjE",
        "outputId": "c4cea711-9a97-4373-aaf6-14b6d9530937"
      },
      "source": [
        "grouped = df_graphic_race.groupby('Year').apply(lambda x: x.to_json(orient='records'))\n",
        "grouped = grouped.to_json()\n",
        "g.write('\\n // GRAPHIC RACE Add data \\n var dataRace = \\n')\n",
        "\n",
        "newstr = str(grouped).replace(\"\\\\\", \"\").replace('\"[', '[').replace('\"]', ']').replace(']\"', ']').replace('],', '],\\n')\n",
        "\n",
        "g.write(newstr)\n"
      ],
      "execution_count": null,
      "outputs": [
        {
          "output_type": "execute_result",
          "data": {
            "text/plain": [
              "6163"
            ]
          },
          "metadata": {
            "tags": []
          },
          "execution_count": 547
        }
      ]
    },
    {
      "cell_type": "code",
      "metadata": {
        "colab": {
          "base_uri": "https://localhost:8080/"
        },
        "id": "MWJgajblAief",
        "outputId": "5a685a12-4c11-4687-be8b-405d2f39efca"
      },
      "source": [
        "s3 = \"\"\"//>>>>>>>>>>>>>>>>>>>>>>>>>>>>>>>>>>>>>>>>>>>>>>>>>>>>>>>>>>>>CHART RACE START<<<<<<<<<<<<<<<<<<<<<<<<<<<<<<<<<<<<<<<<<<<<<<<<<<<<<<<<<<<<<<<<<<<<<<<<<<<<<<<<<<<<<<\n",
        "\n",
        "racechart.data = JSON.parse(JSON.stringify(dataRace[year]));\n",
        "categoryAxis.zoom({ start: 0, end: 1 / racechart.data.length });\n",
        "\n",
        "series.events.on(\"inited\", function() {\n",
        "  setTimeout(function() {\n",
        "    playButton.isActive = true; // this starts interval\n",
        "  }, 2000)\n",
        "})\n",
        "//>>>>>>>>>>>>>>>>>>>>>>>>>>>>>>>>>>>>>>>>>>>>>>>>>>>>>>>>>>>>CHART RACE END<<<<<<<<<<<<<<<<<<<<<<<<<<<<<<<<<<<<<<<<<<<<<<<<<<<<<<<<<<<<<<<<<<<<<<<<<<<<<<<<<<<<<<\n",
        "}); // end am4core.ready()\n",
        "</script>\"\"\"\n",
        "g.write(s3)"
      ],
      "execution_count": null,
      "outputs": [
        {
          "output_type": "execute_result",
          "data": {
            "text/plain": [
              "628"
            ]
          },
          "metadata": {
            "tags": []
          },
          "execution_count": 548
        }
      ]
    },
    {
      "cell_type": "markdown",
      "metadata": {
        "id": "EJXQxMRMpNma"
      },
      "source": [
        "**Insertar datos** dftopYEAR"
      ]
    },
    {
      "cell_type": "markdown",
      "metadata": {
        "id": "zcuaJBy7BpXK"
      },
      "source": [
        "**2015**"
      ]
    },
    {
      "cell_type": "code",
      "metadata": {
        "colab": {
          "base_uri": "https://localhost:8080/"
        },
        "id": "xx6bCKLhAvVR",
        "outputId": "2356d6da-4f07-4544-d2d3-d24e1adc17b1"
      },
      "source": [
        "tops = \"\"\"<script>\n",
        "//------------------------------------------------------------COLUMN CHART START--------------------------------------------------------------------------------------\n",
        " am4core.ready(function() {\n",
        "// Themes begin\n",
        "am4core.useTheme(am4themes_animated);\n",
        "// Themes end\n",
        "\n",
        "// Create chart instance\n",
        "var topchart2015 = am4core.create(\"chartcoldiv1\", am4charts.XYChart);\n",
        "topchart2015.scrollbarX = new am4core.Scrollbar();\"\"\"\n",
        "g.write(tops)"
      ],
      "execution_count": null,
      "outputs": [
        {
          "output_type": "execute_result",
          "data": {
            "text/plain": [
              "418"
            ]
          },
          "metadata": {
            "tags": []
          },
          "execution_count": 549
        }
      ]
    },
    {
      "cell_type": "code",
      "metadata": {
        "id": "FcXsSo6wpPSx"
      },
      "source": [
        "size = len(dftop15)\n",
        "g.write('\\n // TOP YEAR Add data \\n topchart2015.data = [')\n",
        "cont = 0\n",
        "for index, row in dftop15.iterrows():\n",
        "    code = row['Country']\n",
        "    score = row['Happiness Score']\n",
        "    if cont < size - 1:\n",
        "        g.write('{\"country\":\"'+str(code)+'\",\\n\"score\":' +str(score)+'\\n},')\n",
        "        cont = cont + 1\n",
        "    else:\n",
        "        g.write('{\"country\":\"'+str(code)+'\",\\n\"score\":' + str(score)+'\\n}];\\n')"
      ],
      "execution_count": null,
      "outputs": []
    },
    {
      "cell_type": "code",
      "metadata": {
        "colab": {
          "base_uri": "https://localhost:8080/"
        },
        "id": "LVmyhx3OBNr4",
        "outputId": "c92f10c0-d019-45df-bb4a-5cdc71a5f3b6"
      },
      "source": [
        "tops = \"\"\"//>>>>>>>>>>>>>>>>>>>>>>>>>>>>>>>>>>>>>>>>>>>>>>>>>>>>>>>>>>>>COLUMN CHART START<<<<<<<<<<<<<<<<<<<<<<<<<<<<<<<<<<<<<<<<<<<<<<<<<<<<<<<<<<<<<<<<<<<<<<<<<<<<<<<<<<<<<<\n",
        "\n",
        "// Create axes\n",
        "var categoryAxis = topchart2015.xAxes.push(new am4charts.CategoryAxis());\n",
        "categoryAxis.dataFields.category = \"country\";\n",
        "categoryAxis.renderer.grid.template.location = 0;\n",
        "categoryAxis.renderer.minGridDistance = 30;\n",
        "categoryAxis.renderer.labels.template.horizontalCenter = \"right\";\n",
        "categoryAxis.renderer.labels.template.verticalCenter = \"middle\";\n",
        "categoryAxis.renderer.labels.template.rotation = 270;\n",
        "categoryAxis.tooltip.disabled = true;\n",
        "categoryAxis.renderer.minHeight = 110;\n",
        "\n",
        "var valueAxis = topchart2015.yAxes.push(new am4charts.ValueAxis());\n",
        "valueAxis.renderer.minWidth = 50;\n",
        "\n",
        "// Create series\n",
        "var series = topchart2015.series.push(new am4charts.ColumnSeries());\n",
        "series.sequencedInterpolation = true;\n",
        "series.dataFields.valueY = \"score\";\n",
        "series.dataFields.categoryX = \"country\";\n",
        "series.tooltipText = \"[{categoryX}: bold]{valueY}[/]\";\n",
        "series.columns.template.strokeWidth = 0;\n",
        "\n",
        "series.tooltip.pointerOrientation = \"vertical\";\n",
        "\n",
        "series.columns.template.column.cornerRadiusTopLeft = 10;\n",
        "series.columns.template.column.cornerRadiusTopRight = 10;\n",
        "series.columns.template.column.fillOpacity = 0.8;\n",
        "\n",
        "// on hover, make corner radiuses bigger\n",
        "var hoverState = series.columns.template.column.states.create(\"hover\");\n",
        "hoverState.properties.cornerRadiusTopLeft = 0;\n",
        "hoverState.properties.cornerRadiusTopRight = 0;\n",
        "hoverState.properties.fillOpacity = 1;\n",
        "\n",
        "series.columns.template.adapter.add(\"fill\", function(fill, target) {\n",
        "  return topchart2015.colors.getIndex(target.dataItem.index);\n",
        "});\n",
        "\n",
        "// Cursor\n",
        "topchart2015.cursor = new am4charts.XYCursor();\n",
        "\n",
        "}); // end am4core.ready()\n",
        "</script>\"\"\"\n",
        "g.write(tops)"
      ],
      "execution_count": null,
      "outputs": [
        {
          "output_type": "execute_result",
          "data": {
            "text/plain": [
              "1755"
            ]
          },
          "metadata": {
            "tags": []
          },
          "execution_count": 551
        }
      ]
    },
    {
      "cell_type": "markdown",
      "metadata": {
        "id": "kzbH6xWaBsDH"
      },
      "source": [
        "**2016**"
      ]
    },
    {
      "cell_type": "code",
      "metadata": {
        "colab": {
          "base_uri": "https://localhost:8080/"
        },
        "id": "56UMZeCfBuOP",
        "outputId": "4748fbe3-329b-4d80-aa85-31fd362e08eb"
      },
      "source": [
        "tops = \"\"\"<script>\n",
        " am4core.ready(function() {\n",
        "// Themes begin\n",
        "am4core.useTheme(am4themes_animated);\n",
        "// Themes end\n",
        "\n",
        "// Create chart instance\n",
        "var topchart2016 = am4core.create(\"chartcoldiv2\", am4charts.XYChart);\n",
        "topchart2016.scrollbarX = new am4core.Scrollbar();\"\"\"\n",
        "g.write(tops)"
      ],
      "execution_count": null,
      "outputs": [
        {
          "output_type": "execute_result",
          "data": {
            "text/plain": [
              "251"
            ]
          },
          "metadata": {
            "tags": []
          },
          "execution_count": 552
        }
      ]
    },
    {
      "cell_type": "code",
      "metadata": {
        "id": "sKEhcVbLrAGp"
      },
      "source": [
        "size = len(dftop16)\n",
        "g.write('\\n // Add data \\n topchart2016.data = [')\n",
        "cont = 0\n",
        "for index, row in dftop16.iterrows():\n",
        "    code = row['Country']\n",
        "    score = row['Happiness Score']\n",
        "    if cont < size - 1:\n",
        "        g.write('{\"country\":\"'+str(code)+'\",\\n\"score\":' +str(score)+'\\n},')\n",
        "        cont = cont + 1\n",
        "    else:\n",
        "        g.write('{\"country\":\"'+str(code)+'\",\\n\"score\":' + str(score)+'\\n}];\\n')"
      ],
      "execution_count": null,
      "outputs": []
    },
    {
      "cell_type": "code",
      "metadata": {
        "colab": {
          "base_uri": "https://localhost:8080/"
        },
        "id": "OlXjzHweCXj4",
        "outputId": "8890b3d4-d83f-4560-9f05-94c252c699e9"
      },
      "source": [
        "tops = \"\"\"// Create axes\n",
        "var categoryAxis = topchart2016.xAxes.push(new am4charts.CategoryAxis());\n",
        "categoryAxis.dataFields.category = \"country\";\n",
        "categoryAxis.renderer.grid.template.location = 0;\n",
        "categoryAxis.renderer.minGridDistance = 30;\n",
        "categoryAxis.renderer.labels.template.horizontalCenter = \"right\";\n",
        "categoryAxis.renderer.labels.template.verticalCenter = \"middle\";\n",
        "categoryAxis.renderer.labels.template.rotation = 270;\n",
        "categoryAxis.tooltip.disabled = true;\n",
        "categoryAxis.renderer.minHeight = 110;\n",
        "\n",
        "var valueAxis = topchart2016.yAxes.push(new am4charts.ValueAxis());\n",
        "valueAxis.renderer.minWidth = 50;\n",
        "\n",
        "// Create series\n",
        "var series = topchart2016.series.push(new am4charts.ColumnSeries());\n",
        "series.sequencedInterpolation = true;\n",
        "series.dataFields.valueY = \"score\";\n",
        "series.dataFields.categoryX = \"country\";\n",
        "series.tooltipText = \"[{categoryX}: bold]{valueY}[/]\";\n",
        "series.columns.template.strokeWidth = 0;\n",
        "\n",
        "series.tooltip.pointerOrientation = \"vertical\";\n",
        "\n",
        "series.columns.template.column.cornerRadiusTopLeft = 10;\n",
        "series.columns.template.column.cornerRadiusTopRight = 10;\n",
        "series.columns.template.column.fillOpacity = 0.8;\n",
        "\n",
        "// on hover, make corner radiuses bigger\n",
        "var hoverState = series.columns.template.column.states.create(\"hover\");\n",
        "hoverState.properties.cornerRadiusTopLeft = 0;\n",
        "hoverState.properties.cornerRadiusTopRight = 0;\n",
        "hoverState.properties.fillOpacity = 1;\n",
        "\n",
        "series.columns.template.adapter.add(\"fill\", function(fill, target) {\n",
        "  return topchart2016.colors.getIndex(target.dataItem.index);\n",
        "});\n",
        "\n",
        "// Cursor\n",
        "topchart2016.cursor = new am4charts.XYCursor();\n",
        "\n",
        "}); // end am4core.ready()\n",
        "</script>\"\"\"\n",
        "g.write(tops)"
      ],
      "execution_count": null,
      "outputs": [
        {
          "output_type": "execute_result",
          "data": {
            "text/plain": [
              "1587"
            ]
          },
          "metadata": {
            "tags": []
          },
          "execution_count": 554
        }
      ]
    },
    {
      "cell_type": "markdown",
      "metadata": {
        "id": "2PcTsvRbB4Nv"
      },
      "source": [
        "**2017**"
      ]
    },
    {
      "cell_type": "code",
      "metadata": {
        "colab": {
          "base_uri": "https://localhost:8080/"
        },
        "id": "_tWBQQoJB5-3",
        "outputId": "3d147f68-6824-4f22-f2b5-d220de46be69"
      },
      "source": [
        "tops = \"\"\"<script>\n",
        " am4core.ready(function() {\n",
        "// Themes begin\n",
        "am4core.useTheme(am4themes_animated);\n",
        "// Themes end\n",
        "\n",
        "// Create chart instance\n",
        "var topchart2017 = am4core.create(\"chartcoldiv3\", am4charts.XYChart);\n",
        "topchart2017.scrollbarX = new am4core.Scrollbar();\"\"\"\n",
        "g.write(tops)"
      ],
      "execution_count": null,
      "outputs": [
        {
          "output_type": "execute_result",
          "data": {
            "text/plain": [
              "251"
            ]
          },
          "metadata": {
            "tags": []
          },
          "execution_count": 555
        }
      ]
    },
    {
      "cell_type": "code",
      "metadata": {
        "id": "S37F_5FWrLBh"
      },
      "source": [
        "size = len(dftop17)\n",
        "g.write('\\n // Add data \\n topchart2017.data = [')\n",
        "cont = 0\n",
        "for index, row in dftop17.iterrows():\n",
        "    code = row['Country']\n",
        "    score = row['Happiness Score']\n",
        "    if cont < size - 1:\n",
        "        g.write('{\"country\":\"'+str(code)+'\",\\n\"score\":' +str(score)+'\\n},')\n",
        "        cont = cont + 1\n",
        "    else:\n",
        "        g.write('{\"country\":\"'+str(code)+'\",\\n\"score\":' + str(score)+'\\n}];\\n')"
      ],
      "execution_count": null,
      "outputs": []
    },
    {
      "cell_type": "code",
      "metadata": {
        "colab": {
          "base_uri": "https://localhost:8080/"
        },
        "id": "HxNPO3xmD4T2",
        "outputId": "69ca1a19-c237-4929-9c1e-82c0fda2672e"
      },
      "source": [
        "tops = \"\"\"//2017#########\n",
        "// Create axes\n",
        "var categoryAxis = topchart2017.xAxes.push(new am4charts.CategoryAxis());\n",
        "categoryAxis.dataFields.category = \"country\";\n",
        "categoryAxis.renderer.grid.template.location = 0;\n",
        "categoryAxis.renderer.minGridDistance = 30;\n",
        "categoryAxis.renderer.labels.template.horizontalCenter = \"right\";\n",
        "categoryAxis.renderer.labels.template.verticalCenter = \"middle\";\n",
        "categoryAxis.renderer.labels.template.rotation = 270;\n",
        "categoryAxis.tooltip.disabled = true;\n",
        "categoryAxis.renderer.minHeight = 110;\n",
        "\n",
        "var valueAxis = topchart2017.yAxes.push(new am4charts.ValueAxis());\n",
        "valueAxis.renderer.minWidth = 50;\n",
        "\n",
        "// Create series\n",
        "var series = topchart2017.series.push(new am4charts.ColumnSeries());\n",
        "series.sequencedInterpolation = true;\n",
        "series.dataFields.valueY = \"score\";\n",
        "series.dataFields.categoryX = \"country\";\n",
        "series.tooltipText = \"[{categoryX}: bold]{valueY}[/]\";\n",
        "series.columns.template.strokeWidth = 0;\n",
        "\n",
        "series.tooltip.pointerOrientation = \"vertical\";\n",
        "\n",
        "series.columns.template.column.cornerRadiusTopLeft = 10;\n",
        "series.columns.template.column.cornerRadiusTopRight = 10;\n",
        "series.columns.template.column.fillOpacity = 0.8;\n",
        "\n",
        "// on hover, make corner radiuses bigger\n",
        "var hoverState = series.columns.template.column.states.create(\"hover\");\n",
        "hoverState.properties.cornerRadiusTopLeft = 0;\n",
        "hoverState.properties.cornerRadiusTopRight = 0;\n",
        "hoverState.properties.fillOpacity = 1;\n",
        "\n",
        "series.columns.template.adapter.add(\"fill\", function(fill, target) {\n",
        "  return topchart2017.colors.getIndex(target.dataItem.index);\n",
        "});\n",
        "\n",
        "// Cursor\n",
        "topchart2017.cursor = new am4charts.XYCursor();\n",
        "}); // end am4core.ready()\n",
        "</script>\"\"\"\n",
        "g.write(tops)"
      ],
      "execution_count": null,
      "outputs": [
        {
          "output_type": "execute_result",
          "data": {
            "text/plain": [
              "1602"
            ]
          },
          "metadata": {
            "tags": []
          },
          "execution_count": 557
        }
      ]
    },
    {
      "cell_type": "markdown",
      "metadata": {
        "id": "J8dqF-2-B_0v"
      },
      "source": [
        "**2018**"
      ]
    },
    {
      "cell_type": "code",
      "metadata": {
        "colab": {
          "base_uri": "https://localhost:8080/"
        },
        "id": "odP_8zqVCBcx",
        "outputId": "6f2046ee-aa7a-4334-8208-288bf3ea9bd9"
      },
      "source": [
        "tops = \"\"\"<script>\n",
        " am4core.ready(function() {\n",
        "// Themes begin\n",
        "am4core.useTheme(am4themes_animated);\n",
        "// Themes end\n",
        "\n",
        "// Create chart instance\n",
        "var topchart2018 = am4core.create(\"chartcoldiv4\", am4charts.XYChart);\n",
        "topchart2018.scrollbarX = new am4core.Scrollbar();\"\"\"\n",
        "g.write(tops)"
      ],
      "execution_count": null,
      "outputs": [
        {
          "output_type": "execute_result",
          "data": {
            "text/plain": [
              "251"
            ]
          },
          "metadata": {
            "tags": []
          },
          "execution_count": 558
        }
      ]
    },
    {
      "cell_type": "code",
      "metadata": {
        "id": "mBBa9Da6rNCq"
      },
      "source": [
        "size = len(dftop18)\n",
        "g.write('\\n // Add data \\n topchart2018.data = [')\n",
        "cont = 0\n",
        "for index, row in dftop18.iterrows():\n",
        "    code = row['Country']\n",
        "    score = row['Happiness Score']\n",
        "    if cont < size - 1:\n",
        "        g.write('{\"country\":\"'+str(code)+'\",\\n\"score\":' +str(score)+'\\n},')\n",
        "        cont = cont + 1\n",
        "    else:\n",
        "        g.write('{\"country\":\"'+str(code)+'\",\\n\"score\":' + str(score)+'\\n}];\\n')"
      ],
      "execution_count": null,
      "outputs": []
    },
    {
      "cell_type": "code",
      "metadata": {
        "colab": {
          "base_uri": "https://localhost:8080/"
        },
        "id": "D7427VrPEG4X",
        "outputId": "e98d66a4-2fb0-4e2d-aaae-4adfc9252ce3"
      },
      "source": [
        "tops = \"\"\"\n",
        "//2018#############\n",
        "\n",
        "// Create axes\n",
        "var categoryAxis = topchart2018.xAxes.push(new am4charts.CategoryAxis());\n",
        "categoryAxis.dataFields.category = \"country\";\n",
        "categoryAxis.renderer.grid.template.location = 0;\n",
        "categoryAxis.renderer.minGridDistance = 30;\n",
        "categoryAxis.renderer.labels.template.horizontalCenter = \"right\";\n",
        "categoryAxis.renderer.labels.template.verticalCenter = \"middle\";\n",
        "categoryAxis.renderer.labels.template.rotation = 270;\n",
        "categoryAxis.tooltip.disabled = true;\n",
        "categoryAxis.renderer.minHeight = 110;\n",
        "\n",
        "var valueAxis = topchart2018.yAxes.push(new am4charts.ValueAxis());\n",
        "valueAxis.renderer.minWidth = 50;\n",
        "\n",
        "// Create series\n",
        "var series = topchart2018.series.push(new am4charts.ColumnSeries());\n",
        "series.sequencedInterpolation = true;\n",
        "series.dataFields.valueY = \"score\";\n",
        "series.dataFields.categoryX = \"country\";\n",
        "series.tooltipText = \"[{categoryX}: bold]{valueY}[/]\";\n",
        "series.columns.template.strokeWidth = 0;\n",
        "\n",
        "series.tooltip.pointerOrientation = \"vertical\";\n",
        "\n",
        "series.columns.template.column.cornerRadiusTopLeft = 10;\n",
        "series.columns.template.column.cornerRadiusTopRight = 10;\n",
        "series.columns.template.column.fillOpacity = 0.8;\n",
        "\n",
        "// on hover, make corner radiuses bigger\n",
        "var hoverState = series.columns.template.column.states.create(\"hover\");\n",
        "hoverState.properties.cornerRadiusTopLeft = 0;\n",
        "hoverState.properties.cornerRadiusTopRight = 0;\n",
        "hoverState.properties.fillOpacity = 1;\n",
        "\n",
        "series.columns.template.adapter.add(\"fill\", function(fill, target) {\n",
        "  return topchart2018.colors.getIndex(target.dataItem.index);\n",
        "});\n",
        "\n",
        "// Cursor\n",
        "topchart2018.cursor = new am4charts.XYCursor();\n",
        "}); // end am4core.ready()\n",
        "</script>\"\"\"\n",
        "g.write(tops)"
      ],
      "execution_count": null,
      "outputs": [
        {
          "output_type": "execute_result",
          "data": {
            "text/plain": [
              "1608"
            ]
          },
          "metadata": {
            "tags": []
          },
          "execution_count": 560
        }
      ]
    },
    {
      "cell_type": "markdown",
      "metadata": {
        "id": "vpyfAN6eCI6f"
      },
      "source": [
        "**2019**"
      ]
    },
    {
      "cell_type": "code",
      "metadata": {
        "colab": {
          "base_uri": "https://localhost:8080/"
        },
        "id": "tvBb9ATNCKRX",
        "outputId": "784548f3-c3bb-4141-9e69-e7bb92196ec8"
      },
      "source": [
        "tops = \"\"\"<script>\n",
        " am4core.ready(function() {\n",
        "// Themes begin\n",
        "am4core.useTheme(am4themes_animated);\n",
        "// Themes end\n",
        "\n",
        "// Create chart instance\n",
        "var topchart2019 = am4core.create(\"chartcoldiv5\", am4charts.XYChart);\n",
        "topchart2019.scrollbarX = new am4core.Scrollbar();\"\"\"\n",
        "g.write(tops)"
      ],
      "execution_count": null,
      "outputs": [
        {
          "output_type": "execute_result",
          "data": {
            "text/plain": [
              "251"
            ]
          },
          "metadata": {
            "tags": []
          },
          "execution_count": 561
        }
      ]
    },
    {
      "cell_type": "code",
      "metadata": {
        "id": "LNYqbk1LrPjo"
      },
      "source": [
        "size = len(dftop19)\n",
        "g.write('\\n // Add data \\n topchart2019.data = [')\n",
        "cont = 0\n",
        "for index, row in dftop19.iterrows():\n",
        "    code = row['Country']\n",
        "    score = row['Happiness Score']\n",
        "    if cont < size - 1:\n",
        "        g.write('{\"country\":\"'+str(code)+'\",\\n\"score\":' +str(score)+'\\n},')\n",
        "        cont = cont + 1\n",
        "    else:\n",
        "        g.write('{\"country\":\"'+str(code)+'\",\\n\"score\":' + str(score)+'\\n}];\\n')"
      ],
      "execution_count": null,
      "outputs": []
    },
    {
      "cell_type": "code",
      "metadata": {
        "colab": {
          "base_uri": "https://localhost:8080/"
        },
        "id": "g3heGlw2EQYt",
        "outputId": "bba4e543-08c1-4dd3-b7a0-0eb832103509"
      },
      "source": [
        "tops = \"\"\"//2019#################\n",
        "\n",
        "// Create axes\n",
        "var categoryAxis = topchart2019.xAxes.push(new am4charts.CategoryAxis());\n",
        "categoryAxis.dataFields.category = \"country\";\n",
        "categoryAxis.renderer.grid.template.location = 0;\n",
        "categoryAxis.renderer.minGridDistance = 30;\n",
        "categoryAxis.renderer.labels.template.horizontalCenter = \"right\";\n",
        "categoryAxis.renderer.labels.template.verticalCenter = \"middle\";\n",
        "categoryAxis.renderer.labels.template.rotation = 270;\n",
        "categoryAxis.tooltip.disabled = true;\n",
        "categoryAxis.renderer.minHeight = 110;\n",
        "\n",
        "var valueAxis = topchart2019.yAxes.push(new am4charts.ValueAxis());\n",
        "valueAxis.renderer.minWidth = 50;\n",
        "\n",
        "// Create series\n",
        "var series = topchart2019.series.push(new am4charts.ColumnSeries());\n",
        "series.sequencedInterpolation = true;\n",
        "series.dataFields.valueY = \"score\";\n",
        "series.dataFields.categoryX = \"country\";\n",
        "series.tooltipText = \"[{categoryX}: bold]{valueY}[/]\";\n",
        "series.columns.template.strokeWidth = 0;\n",
        "\n",
        "series.tooltip.pointerOrientation = \"vertical\";\n",
        "\n",
        "series.columns.template.column.cornerRadiusTopLeft = 10;\n",
        "series.columns.template.column.cornerRadiusTopRight = 10;\n",
        "series.columns.template.column.fillOpacity = 0.8;\n",
        "\n",
        "// on hover, make corner radiuses bigger\n",
        "var hoverState = series.columns.template.column.states.create(\"hover\");\n",
        "hoverState.properties.cornerRadiusTopLeft = 0;\n",
        "hoverState.properties.cornerRadiusTopRight = 0;\n",
        "hoverState.properties.fillOpacity = 1;\n",
        "\n",
        "series.columns.template.adapter.add(\"fill\", function(fill, target) {\n",
        "  return topchart2019.colors.getIndex(target.dataItem.index);\n",
        "});\n",
        "\n",
        "// Cursor\n",
        "topchart2019.cursor = new am4charts.XYCursor();\n",
        "//>>>>>>>>>>>>>>>>>>>>>>>>>>>>>>>>>>>>>>>>>>>>>>>>>>>>>>>>>>>>COLUMN CHART END<<<<<<<<<<<<<<<<<<<<<<<<<<<<<<<<<<<<<<<<<<<<<<<<<<<<<<<<<<<<<<<<<<<<<<<<<<<<<<<<<<<<<<\n",
        "}); // end am4core.ready()\n",
        "</script>\"\"\"\n",
        "g.write(tops)"
      ],
      "execution_count": null,
      "outputs": [
        {
          "output_type": "execute_result",
          "data": {
            "text/plain": [
              "1776"
            ]
          },
          "metadata": {
            "tags": []
          },
          "execution_count": 563
        }
      ]
    },
    {
      "cell_type": "markdown",
      "metadata": {
        "id": "44NU51qquoYC"
      },
      "source": [
        "**`Insertar datos`** df_pie"
      ]
    },
    {
      "cell_type": "code",
      "metadata": {
        "colab": {
          "base_uri": "https://localhost:8080/"
        },
        "id": "BdN0GHrNEiZW",
        "outputId": "428e0b43-b203-4d14-a981-64bbef8e86f9"
      },
      "source": [
        "s5 = \"\"\"<script>//------------------------------------------------------------PIE CHART START--------------------------------------------------------------------------------------\n",
        " am4core.ready(function() {\n",
        "// Themes begin\n",
        "am4core.useTheme(am4themes_animated);\n",
        "// Themes end\n",
        "\n",
        "// Create chart instance\n",
        "var chartpie = am4core.create(\"piediv\", am4charts.PieChart);\n",
        "//------------------------------------------------------------PIE CHART END--------------------------------------------------------------------------------------\"\"\"\n",
        "g.write(s5)"
      ],
      "execution_count": null,
      "outputs": [
        {
          "output_type": "execute_result",
          "data": {
            "text/plain": [
              "516"
            ]
          },
          "metadata": {
            "tags": []
          },
          "execution_count": 564
        }
      ]
    },
    {
      "cell_type": "code",
      "metadata": {
        "id": "S_mPfQfpwap8"
      },
      "source": [
        "size = len(df_pie)\n",
        "g.write('\\n // PIE CHART Add data \\n chartpie.data = [')\n",
        "cont = 0\n",
        "for index, row in df_pie.iterrows():\n",
        "    code = row['Country']\n",
        "    score = row['Happiness Score']\n",
        "    year = row['Year']\n",
        "    if cont < size - 1:\n",
        "        g.write('{\"country\":\"'+str(code)+'\",\\n\"score\":\"' +str(score)+'\",\\n\"year\":\"'+str(year)+'\"\\n},')\n",
        "        cont = cont + 1\n",
        "    else:\n",
        "        g.write('{\"country\":\"'+str(code)+'\",\\n\"score\":\"' + str(score)+'\",\\n\"year\":\"'+str(year)+'\"\\n}];\\n')"
      ],
      "execution_count": null,
      "outputs": []
    },
    {
      "cell_type": "code",
      "metadata": {
        "colab": {
          "base_uri": "https://localhost:8080/"
        },
        "id": "oMk5SZspEvWe",
        "outputId": "10d0b5d1-7733-4c00-fe61-f2d73efd0330"
      },
      "source": [
        "s5 = \"\"\"//>>>>>>>>>>>>>>>>>>>>>>>>>>>>>>>>>>>>>>>>>>>>>>>>>>>>>>>>>>>>PIE CHART START<<<<<<<<<<<<<<<<<<<<<<<<<<<<<<<<<<<<<<<<<<<<<<<<<<<<<<<<<<<<<<<<<<<<<<<<<<<<<<<<<<<<<<\n",
        "\n",
        "// Add and configure Series\n",
        "var pieSeries = chartpie.series.push(new am4charts.PieSeries());\n",
        "pieSeries.dataFields.value = \"score\";\n",
        "pieSeries.dataFields.category = \"country\";\n",
        "pieSeries.slices.template.stroke = am4core.color(\"#fff\");\n",
        "pieSeries.slices.template.strokeOpacity = 1;\n",
        "\n",
        "// This creates initial animation\n",
        "pieSeries.hiddenState.properties.opacity = 1;\n",
        "pieSeries.hiddenState.properties.endAngle = -90;\n",
        "pieSeries.hiddenState.properties.startAngle = -90;\n",
        "\n",
        "chartpie.hiddenState.properties.radius = am4core.percent(0);\n",
        "//>>>>>>>>>>>>>>>>>>>>>>>>>>>>>>>>>>>>>>>>>>>>>>>>>>>>>>>>>>>>PIE CHART END<<<<<<<<<<<<<<<<<<<<<<<<<<<<<<<<<<<<<<<<<<<<<<<<<<<<<<<<<<<<<<<<<<<<<<<<<<<<<<<<<<<<<<\n",
        "\n",
        "}); // end am4core.ready()\n",
        "</script>\"\"\"\n",
        "g.write(s5)"
      ],
      "execution_count": null,
      "outputs": [
        {
          "output_type": "execute_result",
          "data": {
            "text/plain": [
              "884"
            ]
          },
          "metadata": {
            "tags": []
          },
          "execution_count": 566
        }
      ]
    },
    {
      "cell_type": "markdown",
      "metadata": {
        "id": "Qkdu8-dyIgoE"
      },
      "source": [
        "**2. HTML** Insertamos el pie de página"
      ]
    },
    {
      "cell_type": "code",
      "metadata": {
        "id": "fy6JfbtdnC6G"
      },
      "source": [
        "f = open(\"footer.txt\")\n",
        "\n",
        "for linea in f:\n",
        "    g.write(linea)\n",
        "\n",
        "g.close()\n",
        "f.close()"
      ],
      "execution_count": null,
      "outputs": []
    }
  ]
}